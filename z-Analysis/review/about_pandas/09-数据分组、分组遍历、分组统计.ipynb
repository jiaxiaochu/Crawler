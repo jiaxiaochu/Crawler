{
 "cells": [
  {
   "cell_type": "code",
   "execution_count": 1,
   "metadata": {},
   "outputs": [],
   "source": [
    "import pandas as pd"
   ]
  },
  {
   "cell_type": "code",
   "execution_count": 2,
   "metadata": {},
   "outputs": [],
   "source": [
    "path = '../data/forbes_2018.xlsx'"
   ]
  },
  {
   "cell_type": "code",
   "execution_count": 3,
   "metadata": {},
   "outputs": [],
   "source": [
    "df = pd.read_excel(path)"
   ]
  },
  {
   "cell_type": "code",
   "execution_count": 4,
   "metadata": {
    "collapsed": true
   },
   "outputs": [
    {
     "data": {
      "text/html": [
       "<div>\n",
       "<style scoped>\n",
       "    .dataframe tbody tr th:only-of-type {\n",
       "        vertical-align: middle;\n",
       "    }\n",
       "\n",
       "    .dataframe tbody tr th {\n",
       "        vertical-align: top;\n",
       "    }\n",
       "\n",
       "    .dataframe thead th {\n",
       "        text-align: right;\n",
       "    }\n",
       "</style>\n",
       "<table border=\"1\" class=\"dataframe\">\n",
       "  <thead>\n",
       "    <tr style=\"text-align: right;\">\n",
       "      <th></th>\n",
       "      <th>name</th>\n",
       "      <th>lastName</th>\n",
       "      <th>age</th>\n",
       "      <th>country</th>\n",
       "      <th>gender</th>\n",
       "      <th>wealthSource</th>\n",
       "    </tr>\n",
       "  </thead>\n",
       "  <tbody>\n",
       "    <tr>\n",
       "      <th>0</th>\n",
       "      <td>Jeff Bezos</td>\n",
       "      <td>Bezos</td>\n",
       "      <td>54</td>\n",
       "      <td>United States</td>\n",
       "      <td>M</td>\n",
       "      <td>Amazon</td>\n",
       "    </tr>\n",
       "    <tr>\n",
       "      <th>1</th>\n",
       "      <td>Bill Gates</td>\n",
       "      <td>Gates</td>\n",
       "      <td>62</td>\n",
       "      <td>United States</td>\n",
       "      <td>M</td>\n",
       "      <td>Microsoft</td>\n",
       "    </tr>\n",
       "    <tr>\n",
       "      <th>2</th>\n",
       "      <td>Warren Buffett</td>\n",
       "      <td>Buffett</td>\n",
       "      <td>87</td>\n",
       "      <td>United States</td>\n",
       "      <td>M</td>\n",
       "      <td>Berkshire Hathaway</td>\n",
       "    </tr>\n",
       "    <tr>\n",
       "      <th>3</th>\n",
       "      <td>Bernard Arnault</td>\n",
       "      <td>Arnault</td>\n",
       "      <td>69</td>\n",
       "      <td>France</td>\n",
       "      <td>M</td>\n",
       "      <td>LVMH</td>\n",
       "    </tr>\n",
       "    <tr>\n",
       "      <th>4</th>\n",
       "      <td>Mark Zuckerberg</td>\n",
       "      <td>Zuckerberg</td>\n",
       "      <td>34</td>\n",
       "      <td>United States</td>\n",
       "      <td>M</td>\n",
       "      <td>Facebook</td>\n",
       "    </tr>\n",
       "    <tr>\n",
       "      <th>...</th>\n",
       "      <td>...</td>\n",
       "      <td>...</td>\n",
       "      <td>...</td>\n",
       "      <td>...</td>\n",
       "      <td>...</td>\n",
       "      <td>...</td>\n",
       "    </tr>\n",
       "    <tr>\n",
       "      <th>2026</th>\n",
       "      <td>Wu Chung-yi</td>\n",
       "      <td>Wu</td>\n",
       "      <td>59</td>\n",
       "      <td>Taiwan</td>\n",
       "      <td>M</td>\n",
       "      <td>manufacturing</td>\n",
       "    </tr>\n",
       "    <tr>\n",
       "      <th>2027</th>\n",
       "      <td>Yao Xinyi</td>\n",
       "      <td>Yao</td>\n",
       "      <td>53</td>\n",
       "      <td>China</td>\n",
       "      <td>M</td>\n",
       "      <td>air conditioning</td>\n",
       "    </tr>\n",
       "    <tr>\n",
       "      <th>2028</th>\n",
       "      <td>Zhao Xiaoqiang</td>\n",
       "      <td>Zhao</td>\n",
       "      <td>51</td>\n",
       "      <td>China</td>\n",
       "      <td>M</td>\n",
       "      <td>fashion, entertainment</td>\n",
       "    </tr>\n",
       "    <tr>\n",
       "      <th>2029</th>\n",
       "      <td>Zhu Xingming</td>\n",
       "      <td>Zhu</td>\n",
       "      <td>51</td>\n",
       "      <td>China</td>\n",
       "      <td>M</td>\n",
       "      <td>electrical equipment</td>\n",
       "    </tr>\n",
       "    <tr>\n",
       "      <th>2030</th>\n",
       "      <td>Zhuo Jun</td>\n",
       "      <td>Zhuo</td>\n",
       "      <td>52</td>\n",
       "      <td>Hong Kong</td>\n",
       "      <td>F</td>\n",
       "      <td>printed circuit boards</td>\n",
       "    </tr>\n",
       "  </tbody>\n",
       "</table>\n",
       "<p>2031 rows × 6 columns</p>\n",
       "</div>"
      ],
      "text/plain": [
       "                 name    lastName  age        country gender  \\\n",
       "0          Jeff Bezos       Bezos   54  United States      M   \n",
       "1          Bill Gates       Gates   62  United States      M   \n",
       "2      Warren Buffett     Buffett   87  United States      M   \n",
       "3     Bernard Arnault     Arnault   69         France      M   \n",
       "4     Mark Zuckerberg  Zuckerberg   34  United States      M   \n",
       "...               ...         ...  ...            ...    ...   \n",
       "2026      Wu Chung-yi          Wu   59         Taiwan      M   \n",
       "2027        Yao Xinyi         Yao   53          China      M   \n",
       "2028   Zhao Xiaoqiang        Zhao   51          China      M   \n",
       "2029     Zhu Xingming         Zhu   51          China      M   \n",
       "2030         Zhuo Jun        Zhuo   52      Hong Kong      F   \n",
       "\n",
       "                wealthSource  \n",
       "0                     Amazon  \n",
       "1                  Microsoft  \n",
       "2         Berkshire Hathaway  \n",
       "3                       LVMH  \n",
       "4                   Facebook  \n",
       "...                      ...  \n",
       "2026           manufacturing  \n",
       "2027        air conditioning  \n",
       "2028  fashion, entertainment  \n",
       "2029    electrical equipment  \n",
       "2030  printed circuit boards  \n",
       "\n",
       "[2031 rows x 6 columns]"
      ]
     },
     "execution_count": 4,
     "metadata": {},
     "output_type": "execute_result"
    }
   ],
   "source": [
    "df"
   ]
  },
  {
   "cell_type": "markdown",
   "metadata": {},
   "source": [
    "## groupby"
   ]
  },
  {
   "cell_type": "markdown",
   "metadata": {},
   "source": [
    "### Pandas提供了一个灵活高效的`groupby`功能，它使你能以一种自然的方式对数据集进行切片、切块、摘要等操作。"
   ]
  },
  {
   "cell_type": "code",
   "execution_count": 5,
   "metadata": {},
   "outputs": [],
   "source": [
    "groups = df.groupby('gender')  # path = '../data/forbes_2018.xlsx'"
   ]
  },
  {
   "cell_type": "code",
   "execution_count": 6,
   "metadata": {},
   "outputs": [
    {
     "data": {
      "text/plain": [
       "<pandas.core.groupby.generic.DataFrameGroupBy object at 0x11eff3978>"
      ]
     },
     "execution_count": 6,
     "metadata": {},
     "output_type": "execute_result"
    }
   ],
   "source": [
    "groups"
   ]
  },
  {
   "cell_type": "code",
   "execution_count": 7,
   "metadata": {},
   "outputs": [],
   "source": [
    "# 根据结果可以发现，分组后的结果为`DataFrameGroupBy object`，是一个分组后的对象。\n",
    "\n",
    "# 用groupby的size方法可以查看分组后每组的数量，并返回一个含有分组大小的Series："
   ]
  },
  {
   "cell_type": "code",
   "execution_count": 8,
   "metadata": {},
   "outputs": [
    {
     "data": {
      "text/plain": [
       "gender\n",
       "F     221\n",
       "M    1810\n",
       "dtype: int64"
      ]
     },
     "execution_count": 8,
     "metadata": {},
     "output_type": "execute_result"
    }
   ],
   "source": [
    "groups.size()"
   ]
  },
  {
   "cell_type": "code",
   "execution_count": 9,
   "metadata": {},
   "outputs": [
    {
     "data": {
      "text/plain": [
       "<zip at 0x11ec47748>"
      ]
     },
     "execution_count": 9,
     "metadata": {},
     "output_type": "execute_result"
    }
   ],
   "source": [
    "groups.size().items()"
   ]
  },
  {
   "cell_type": "code",
   "execution_count": 10,
   "metadata": {
    "collapsed": true
   },
   "outputs": [
    {
     "name": "stdout",
     "output_type": "stream",
     "text": [
      "F\n",
      "M\n"
     ]
    }
   ],
   "source": [
    "for gender,value in groups.size().items():\n",
    "    print(gender)"
   ]
  },
  {
   "cell_type": "code",
   "execution_count": 11,
   "metadata": {
    "collapsed": true
   },
   "outputs": [
    {
     "name": "stdout",
     "output_type": "stream",
     "text": [
      "221\n",
      "1810\n"
     ]
    }
   ],
   "source": [
    "for gender,value in groups.size().items():\n",
    "    print(value)"
   ]
  },
  {
   "cell_type": "code",
   "execution_count": 13,
   "metadata": {},
   "outputs": [
    {
     "data": {
      "text/plain": [
       "2031"
      ]
     },
     "execution_count": 13,
     "metadata": {},
     "output_type": "execute_result"
    }
   ],
   "source": [
    "# df.shape    # (2031, 6)\n",
    "df.shape[0]"
   ]
  },
  {
   "cell_type": "code",
   "execution_count": 14,
   "metadata": {},
   "outputs": [
    {
     "name": "stdout",
     "output_type": "stream",
     "text": [
      "0.10881339241752831\n",
      "0.8911866075824717\n"
     ]
    }
   ],
   "source": [
    "for gender,value in groups.size().items():\n",
    "    # 计算每组的占比\n",
    "    accounted = value/df.shape[0]\n",
    "    print(accounted)"
   ]
  },
  {
   "cell_type": "code",
   "execution_count": 24,
   "metadata": {},
   "outputs": [
    {
     "name": "stdout",
     "output_type": "stream",
     "text": [
      "福布斯2018年度亿万富翁中F共221位，占比是10.88%\n",
      "福布斯2018年度亿万富翁中M共1810位，占比是89.12%\n"
     ]
    }
   ],
   "source": [
    "for gender,value in groups.size().items():\n",
    "    # 计算每组的占比\n",
    "    accounted = value/df.shape[0]\n",
    "    # 将小数转化成百分数\n",
    "    per_c = \"%.2f%%\"%(accounted * 100)\n",
    "    print(\"福布斯2018年度亿万富翁中{}共{}位，占比是{}\".format(gender,value,per_c))"
   ]
  },
  {
   "cell_type": "code",
   "execution_count": 25,
   "metadata": {},
   "outputs": [
    {
     "name": "stdout",
     "output_type": "stream",
     "text": [
      "福布斯2018年度亿万富翁中Female共221位，占比是10.88%\n",
      "福布斯2018年度亿万富翁中Male共1810位，占比是89.12%\n"
     ]
    }
   ],
   "source": [
    "for gender,value in groups.size().items():\n",
    "    # 计算每组的占比\n",
    "    accounted = value/df.shape[0]\n",
    "    # 将小数转化成百分数\n",
    "    per_c = \"%.2f%%\"%(accounted * 100)\n",
    "    if gender == 'F':\n",
    "        gender = 'Female'\n",
    "    elif gender == 'M':\n",
    "        gender = 'Male'\n",
    "    print(\"福布斯2018年度亿万富翁中{}共{}位，占比是{}\".format(gender,value,per_c))"
   ]
  },
  {
   "cell_type": "markdown",
   "metadata": {},
   "source": [
    "### `df.groupby('gender')`是根据`gender`列对整个数据进行分组，\n",
    "### 同样我们也可以只对一列数据进行分组，只保留我们需要的列数据。\n",
    "\n",
    "例如：我们通过性别`gender`，只对`age`列数据进行分组。"
   ]
  },
  {
   "cell_type": "code",
   "execution_count": 28,
   "metadata": {},
   "outputs": [],
   "source": [
    "group = df['age'].groupby(df['gender'])"
   ]
  },
  {
   "cell_type": "code",
   "execution_count": 31,
   "metadata": {
    "collapsed": true
   },
   "outputs": [
    {
     "data": {
      "text/plain": [
       "gender\n",
       "F     221\n",
       "M    1810\n",
       "Name: age, dtype: int64"
      ]
     },
     "execution_count": 31,
     "metadata": {},
     "output_type": "execute_result"
    }
   ],
   "source": [
    "group.size()"
   ]
  },
  {
   "cell_type": "code",
   "execution_count": 32,
   "metadata": {
    "collapsed": true
   },
   "outputs": [
    {
     "data": {
      "text/plain": [
       "{'F': Int64Index([  15,   17,   31,   33,   42,   56,   69,   78,   80,   83,\n",
       "             ...\n",
       "             1958, 1960, 1970, 1978, 1987, 1989, 1999, 2017, 2018, 2030],\n",
       "            dtype='int64', length=221),\n",
       " 'M': Int64Index([   0,    1,    2,    3,    4,    5,    6,    7,    8,    9,\n",
       "             ...\n",
       "             2020, 2021, 2022, 2023, 2024, 2025, 2026, 2027, 2028, 2029],\n",
       "            dtype='int64', length=1810)}"
      ]
     },
     "execution_count": 32,
     "metadata": {},
     "output_type": "execute_result"
    }
   ],
   "source": [
    "group.groups"
   ]
  },
  {
   "cell_type": "code",
   "execution_count": 36,
   "metadata": {
    "collapsed": true
   },
   "outputs": [
    {
     "name": "stdout",
     "output_type": "stream",
     "text": [
      "15      68\n",
      "17      64\n",
      "31      56\n",
      "33      78\n",
      "42      36\n",
      "        ..\n",
      "1989    47\n",
      "1999    56\n",
      "2017    51\n",
      "2018    91\n",
      "2030    52\n",
      "Name: age, Length: 221, dtype: int64\n"
     ]
    }
   ],
   "source": [
    "# print(group.get_groups('F'))   # 不是get_groups()\n",
    "print(group.get_group('F'))"
   ]
  },
  {
   "cell_type": "markdown",
   "metadata": {},
   "source": [
    "代码`df['age'].groupby(df['gender'])`的逻辑是：取出df中age列数据，并且对该列数据根据`df['gender']`列数据进行分组操作。\n",
    "\n",
    "上面的带也可改写成`df.groupby(df['gender'])['age']`，它的逻辑是：将df数据通过`df['gender']`进行分组，然后再取出分组后的age列数据。两种写法达到的效果是一样的。\n",
    "\n",
    "`group.groups`的结果是一个字典，字典的key是分组后每个组的名字，对应的值是分组后的数据，此方法方便我们产看分组的情况。\n",
    "\n",
    "`group.get_group('F')`这个方法可以根据具体分组的名字获取每个组的数据。"
   ]
  },
  {
   "cell_type": "code",
   "execution_count": null,
   "metadata": {},
   "outputs": [],
   "source": []
  },
  {
   "cell_type": "markdown",
   "metadata": {},
   "source": [
    "### 对分组进行遍历"
   ]
  },
  {
   "cell_type": "code",
   "execution_count": 42,
   "metadata": {},
   "outputs": [
    {
     "name": "stdout",
     "output_type": "stream",
     "text": [
      "平均值:60.470588235294116\n",
      "最大值:94\n",
      "最小值:21\n"
     ]
    }
   ],
   "source": [
    "import pandas as pd\n",
    "df = pd.read_excel(path)\n",
    "groups = df.groupby('gender')\n",
    "# 获取F组的数据\n",
    "f_group = groups.get_group('F')\n",
    "# 获取平均值\n",
    "f_mean = f_group['age'].mean()\n",
    "# 获取最大值\n",
    "f_max = f_group['age'].max()\n",
    "# 获取最小值\n",
    "f_min = f_group['age'].min()\n",
    "# print(f_mean,f_max,f_min)\n",
    "# print(\"F组的数据{}\".format(f_group))\n",
    "print(\"平均值:{}\".format(f_mean))\n",
    "print(\"最大值:{}\".format(f_max))\n",
    "print(\"最小值:{}\".format(f_min))"
   ]
  },
  {
   "cell_type": "markdown",
   "metadata": {},
   "source": [
    "代码中我们使用`get_group()`获取了F组的数据，并使用`mean()`、`max()`、`min()`等统计函数快速获取我们的指标值。\n",
    "\n",
    "pandas里常用的统计函数包括：\n",
    "\n",
    "- `count( )`：统计列表中非空数据的个数\n",
    "- `nunique( )`：统计非重复的数据的个数\n",
    "- `sum( )`：统计列表中所有数值的和\n",
    "- `mean( )`：计算列表中数据的平均值\n",
    "- `median( )`：统计列表中数据的中位数\n",
    "- `max( )`：求列表中数据的最大值\n",
    "- `min( )`：求找列表中数据的最小值"
   ]
  },
  {
   "cell_type": "code",
   "execution_count": 57,
   "metadata": {
    "collapsed": true
   },
   "outputs": [
    {
     "name": "stdout",
     "output_type": "stream",
     "text": [
      "F                               name            lastName  age        country  \\\n",
      "15                    Alice Walton              Walton   68  United States   \n",
      "17    Francoise Bettencourt Meyers  Bettencourt Meyers   64         France   \n",
      "31                 Susanne Klatten             Klatten   56        Germany   \n",
      "33                 Jacqueline Mars                Mars   78  United States   \n",
      "42                     Yang Huiyan                Yang   36          China   \n",
      "...                            ...                 ...  ...            ...   \n",
      "1989                  Sara Blakely             Blakely   47  United States   \n",
      "1999                 Huang Xiaofen               Huang   56          China   \n",
      "2017             Carolyn Rafaelian           Rafaelian   51  United States   \n",
      "2018                Alice Schwartz            Schwartz   91  United States   \n",
      "2030                      Zhuo Jun                Zhuo   52      Hong Kong   \n",
      "\n",
      "     gender            wealthSource  \n",
      "15        F                 Walmart  \n",
      "17        F                 L'Oreal  \n",
      "31        F    BMW, pharmaceuticals  \n",
      "33        F         candy, pet food  \n",
      "42        F             real estate  \n",
      "...     ...                     ...  \n",
      "1989      F                   Spanx  \n",
      "1999      F  printed circuit boards  \n",
      "2017      F                 jewelry  \n",
      "2018      F                 biotech  \n",
      "2030      F  printed circuit boards  \n",
      "\n",
      "[221 rows x 6 columns]\n",
      "M                  name    lastName  age        country gender  \\\n",
      "0          Jeff Bezos       Bezos   54  United States      M   \n",
      "1          Bill Gates       Gates   62  United States      M   \n",
      "2      Warren Buffett     Buffett   87  United States      M   \n",
      "3     Bernard Arnault     Arnault   69         France      M   \n",
      "4     Mark Zuckerberg  Zuckerberg   34  United States      M   \n",
      "...               ...         ...  ...            ...    ...   \n",
      "2025      Sandy Weill       Weill   85  United States      M   \n",
      "2026      Wu Chung-yi          Wu   59         Taiwan      M   \n",
      "2027        Yao Xinyi         Yao   53          China      M   \n",
      "2028   Zhao Xiaoqiang        Zhao   51          China      M   \n",
      "2029     Zhu Xingming         Zhu   51          China      M   \n",
      "\n",
      "                wealthSource  \n",
      "0                     Amazon  \n",
      "1                  Microsoft  \n",
      "2         Berkshire Hathaway  \n",
      "3                       LVMH  \n",
      "4                   Facebook  \n",
      "...                      ...  \n",
      "2025               Citigroup  \n",
      "2026           manufacturing  \n",
      "2027        air conditioning  \n",
      "2028  fashion, entertainment  \n",
      "2029    electrical equipment  \n",
      "\n",
      "[1810 rows x 6 columns]\n"
     ]
    }
   ],
   "source": [
    "# 将分组后的对象`groups`进行遍历，可以获取到`group_name`每个组的名字，`group_df`每个组的数据。\n",
    "for group_name,group_df in groups:\n",
    "    print(group_name,group_df.shape)"
   ]
  },
  {
   "cell_type": "markdown",
   "metadata": {},
   "source": [
    "**计算出每一组中的最大年纪，最小年纪以及平均年龄。**"
   ]
  },
  {
   "cell_type": "code",
   "execution_count": 45,
   "metadata": {},
   "outputs": [
    {
     "name": "stdout",
     "output_type": "stream",
     "text": [
      "F组的最大年龄是94，最小年龄是21，平均年龄是60.470588235294116\n",
      "M组的最大年龄是99，最小年龄是25，平均年龄是64.32099447513812\n"
     ]
    }
   ],
   "source": [
    "import pandas as pd\n",
    "df = pd.read_excel(path)\n",
    "groups = df.groupby('gender')\n",
    "for group_name,group_df in groups:\n",
    "    f_mean = group_df['age'].mean()\n",
    "    f_max = group_df['age'].max()\n",
    "    f_min = group_df['age'].min()\n",
    "    print('{}组的最大年龄是{}，最小年龄是{}，平均年龄是{}'.format(group_name,f_max,f_min,f_mean))"
   ]
  },
  {
   "cell_type": "code",
   "execution_count": 48,
   "metadata": {
    "collapsed": true
   },
   "outputs": [
    {
     "name": "stdout",
     "output_type": "stream",
     "text": [
      "                              name            lastName  age        country  \\\n",
      "15                    Alice Walton              Walton   68  United States   \n",
      "17    Francoise Bettencourt Meyers  Bettencourt Meyers   64         France   \n",
      "31                 Susanne Klatten             Klatten   56        Germany   \n",
      "33                 Jacqueline Mars                Mars   78  United States   \n",
      "42                     Yang Huiyan                Yang   36          China   \n",
      "...                            ...                 ...  ...            ...   \n",
      "1989                  Sara Blakely             Blakely   47  United States   \n",
      "1999                 Huang Xiaofen               Huang   56          China   \n",
      "2017             Carolyn Rafaelian           Rafaelian   51  United States   \n",
      "2018                Alice Schwartz            Schwartz   91  United States   \n",
      "2030                      Zhuo Jun                Zhuo   52      Hong Kong   \n",
      "\n",
      "     gender            wealthSource  \n",
      "15        F                 Walmart  \n",
      "17        F                 L'Oreal  \n",
      "31        F    BMW, pharmaceuticals  \n",
      "33        F         candy, pet food  \n",
      "42        F             real estate  \n",
      "...     ...                     ...  \n",
      "1989      F                   Spanx  \n",
      "1999      F  printed circuit boards  \n",
      "2017      F                 jewelry  \n",
      "2018      F                 biotech  \n",
      "2030      F  printed circuit boards  \n",
      "\n",
      "[221 rows x 6 columns]\n",
      "                 name    lastName  age        country gender  \\\n",
      "0          Jeff Bezos       Bezos   54  United States      M   \n",
      "1          Bill Gates       Gates   62  United States      M   \n",
      "2      Warren Buffett     Buffett   87  United States      M   \n",
      "3     Bernard Arnault     Arnault   69         France      M   \n",
      "4     Mark Zuckerberg  Zuckerberg   34  United States      M   \n",
      "...               ...         ...  ...            ...    ...   \n",
      "2025      Sandy Weill       Weill   85  United States      M   \n",
      "2026      Wu Chung-yi          Wu   59         Taiwan      M   \n",
      "2027        Yao Xinyi         Yao   53          China      M   \n",
      "2028   Zhao Xiaoqiang        Zhao   51          China      M   \n",
      "2029     Zhu Xingming         Zhu   51          China      M   \n",
      "\n",
      "                wealthSource  \n",
      "0                     Amazon  \n",
      "1                  Microsoft  \n",
      "2         Berkshire Hathaway  \n",
      "3                       LVMH  \n",
      "4                   Facebook  \n",
      "...                      ...  \n",
      "2025               Citigroup  \n",
      "2026           manufacturing  \n",
      "2027        air conditioning  \n",
      "2028  fashion, entertainment  \n",
      "2029    electrical equipment  \n",
      "\n",
      "[1810 rows x 6 columns]\n"
     ]
    }
   ],
   "source": [
    "import pandas as pd\n",
    "df = pd.read_excel(path)\n",
    "groups = df.groupby('gender')\n",
    "for group_name,group_df in groups:\n",
    "#     print(group_name)\n",
    "    print(group_df)"
   ]
  },
  {
   "cell_type": "markdown",
   "metadata": {},
   "source": [
    "### 按多列进行分组"
   ]
  },
  {
   "cell_type": "code",
   "execution_count": 49,
   "metadata": {},
   "outputs": [
    {
     "name": "stdout",
     "output_type": "stream",
     "text": [
      "country        gender\n",
      "Algeria        M           1\n",
      "Angola         F           1\n",
      "Argentina      M           5\n",
      "Australia      F           9\n",
      "               M          31\n",
      "                        ... \n",
      "United States  M         498\n",
      "Venezuela      M           2\n",
      "Vietnam        F           1\n",
      "               M           3\n",
      "Zimbabwe       M           1\n",
      "Length: 103, dtype: int64\n"
     ]
    }
   ],
   "source": [
    "# 将富豪们先按国家分组，然后在按性别分组。\n",
    "import pandas as pd\n",
    "df = pd.read_excel(path)\n",
    "group=df.groupby(['country','gender'])\n",
    "df1 = group.size()\n",
    "print(df1)"
   ]
  },
  {
   "cell_type": "markdown",
   "metadata": {},
   "source": [
    "当需要按多列进行分组的时候，`groupby`方法里面我们传入的一个列表，列表中分别存储分组依据的列名。\n",
    "\n",
    "注意：列表中列名的顺序，确定了先按`country`列进行分组，然后再按`gender`列分组。不同的顺序，产生的分组名字是不同的。\n",
    "\n",
    "`group.size()`返回的结果中发现索引值是多层的，那么对于多层索引的值我们如何去获取呢？"
   ]
  },
  {
   "cell_type": "code",
   "execution_count": 50,
   "metadata": {},
   "outputs": [
    {
     "name": "stdout",
     "output_type": "stream",
     "text": [
      "1\n"
     ]
    }
   ],
   "source": [
    "group=df.groupby(['country','gender'])\n",
    "df1 = group.size()\n",
    "size = df1['Austria']['F']\n",
    "print(size)"
   ]
  },
  {
   "cell_type": "code",
   "execution_count": 51,
   "metadata": {},
   "outputs": [],
   "source": [
    "# 通过代码，我们发现对于多层索引值的获取，只需要从外往里一层一层的取就可以了，就像我们睡觉之前，需要先脱外衣再脱掉内衣是一样的😊。"
   ]
  },
  {
   "cell_type": "code",
   "execution_count": null,
   "metadata": {},
   "outputs": [],
   "source": []
  },
  {
   "cell_type": "markdown",
   "metadata": {},
   "source": [
    "### 对分组数据进行统计"
   ]
  },
  {
   "cell_type": "markdown",
   "metadata": {},
   "source": [
    "数据统计（也称为数据聚合）是数据处理的最后一步，通常是要使每一个数组生成一个单一的数值。\n",
    "\n",
    "上面我们已经了解了一些Pandas提供好的统计函数，例如:`mean()`、`max()`等函数。\n",
    "\n",
    "为大家使用更为灵活，pandas提供了一个 `agg( )`方法用来对分组后的数据进行统计。\n",
    "\n",
    "接下来我们来体验一下，`agg()`方法的使用："
   ]
  },
  {
   "cell_type": "code",
   "execution_count": 53,
   "metadata": {},
   "outputs": [
    {
     "name": "stdout",
     "output_type": "stream",
     "text": [
      "F组的最大年龄是94.0，最小年龄是21.0，平均年龄是60.470588235294116\n",
      "M组的最大年龄是99.0，最小年龄是25.0，平均年龄是64.32099447513812\n"
     ]
    }
   ],
   "source": [
    "import pandas as pd\n",
    "df = pd.read_excel(path)\n",
    "groups = df.groupby('gender')\n",
    "for group_name,group_df in groups:\n",
    "    f_se = group_df['age'].agg(['max','min','mean'])\n",
    "    print('{}组的最大年龄是{}，最小年龄是{}，平均年龄是{}'.format(group_name,f_se[0],f_se[1],f_se[2]))"
   ]
  },
  {
   "cell_type": "markdown",
   "metadata": {},
   "source": [
    "观察上面的代码，可以发现在使用`agg()`函数时，我们可以将多个统计函数一起放到一个`agg()`函数中。\n",
    "\n",
    "并且需要注意的是，如果是统计函数是pandas提供的，我们只需将函数的名字以字符串的形势存储到列表中即可，例如：将`max()`改成`'max'`。\n",
    "\n",
    "这样不仅简化了我们的代码，在添加和删减统计函数的时候我们只需更改`agg()`函数中list就可以了。是不是很方便。\n",
    "\n",
    "它的好处还不止这些，比如现在又有新的需求，要计算年龄的最大值和最小值的差值。但是，pandas并没有提供这样统计函数，所以就需要我们进行自己定义一个统计函数："
   ]
  },
  {
   "cell_type": "code",
   "execution_count": 54,
   "metadata": {},
   "outputs": [],
   "source": [
    "def peak_range(df):\n",
    "    \"\"\"\n",
    "        返回数值范围\n",
    "    \"\"\"\n",
    "    return df.max() - df.min()"
   ]
  },
  {
   "cell_type": "code",
   "execution_count": 55,
   "metadata": {},
   "outputs": [
    {
     "name": "stdout",
     "output_type": "stream",
     "text": [
      "94.0 21.0 73.0\n",
      "99.0 25.0 74.0\n"
     ]
    }
   ],
   "source": [
    "import pandas as pd\n",
    "df = pd.read_excel(path)\n",
    "groups = df.groupby('gender')\n",
    "def peak_range(df):\n",
    "    \"\"\"\n",
    "        返回数值范围\n",
    "    \"\"\"\n",
    "    return df.max() - df.min()\n",
    "for group_name,group_df in groups:\n",
    "    f_se = group_df['age'].agg(['max','min','mean',peak_range])\n",
    "    print(f_se[0],f_se[1],f_se[3])"
   ]
  },
  {
   "cell_type": "markdown",
   "metadata": {},
   "source": [
    "`peak_range(df)`函数是我们自定的函数，并设置了一个`df`参数,为了接收`group_df['age']`的值。\n",
    "\n",
    "**注意**：自定义的**函数名字**在传入`agg()`函数中时**不需要转换成字符串**。"
   ]
  },
  {
   "cell_type": "code",
   "execution_count": null,
   "metadata": {},
   "outputs": [],
   "source": []
  }
 ],
 "metadata": {
  "kernelspec": {
   "display_name": "Python 3",
   "language": "python",
   "name": "python3"
  },
  "language_info": {
   "codemirror_mode": {
    "name": "ipython",
    "version": 3
   },
   "file_extension": ".py",
   "mimetype": "text/x-python",
   "name": "python",
   "nbconvert_exporter": "python",
   "pygments_lexer": "ipython3",
   "version": "3.7.3"
  }
 },
 "nbformat": 4,
 "nbformat_minor": 2
}
