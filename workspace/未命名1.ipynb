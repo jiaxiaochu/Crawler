{
 "cells": [
  {
   "cell_type": "code",
   "execution_count": 1,
   "metadata": {},
   "outputs": [],
   "source": [
    "from bs4 import BeautifulSoup\n",
    "\n",
    "def read_html(file_name):\n",
    "    f = open(file_name, 'r')\n",
    "    text = f.read()\n",
    "    f.close()\n",
    "    return text\n",
    "\n",
    "html = read_html('1.html')\n",
    "\n",
    "soup = BeautifulSoup(html, 'html.parser')"
   ]
  },
  {
   "cell_type": "code",
   "execution_count": 2,
   "metadata": {},
   "outputs": [
    {
     "data": {
      "text/plain": [
       "['\\n',\n",
       " <h2>何山</h2>,\n",
       " '\\n',\n",
       " <div>老师介绍</div>,\n",
       " '\\n',\n",
       " <div>\n",
       " <img src=\"1.jpg\"/>\n",
       " </div>,\n",
       " '\\n',\n",
       " <div>\n",
       "             猿编程教学研发总监<br/>\n",
       "             工信部外聘IT技术专家<br/>\n",
       "             数十万学员IT在线课程研发与教育经验\n",
       "         </div>,\n",
       " '\\n']"
      ]
     },
     "execution_count": 2,
     "metadata": {},
     "output_type": "execute_result"
    }
   ],
   "source": [
    "children_list = list(soup.body.children)\n",
    "children_list"
   ]
  },
  {
   "cell_type": "code",
   "execution_count": 3,
   "metadata": {},
   "outputs": [
    {
     "name": "stdout",
     "output_type": "stream",
     "text": [
      "\n",
      "\n",
      "<h2>何山</h2>\n",
      "\n",
      "\n",
      "<div>老师介绍</div>\n",
      "\n",
      "\n",
      "<div>\n",
      "<img src=\"1.jpg\"/>\n",
      "</div>\n",
      "\n",
      "\n",
      "<div>\n",
      "            猿编程教学研发总监<br/>\n",
      "            工信部外聘IT技术专家<br/>\n",
      "            数十万学员IT在线课程研发与教育经验\n",
      "        </div>\n",
      "\n",
      "\n"
     ]
    }
   ],
   "source": [
    "for children in children_list:\n",
    "    print(children)"
   ]
  },
  {
   "cell_type": "code",
   "execution_count": 8,
   "metadata": {},
   "outputs": [
    {
     "name": "stdout",
     "output_type": "stream",
     "text": [
      "<h2>何山</h2>\n",
      "<div>老师介绍</div>\n",
      "<div>\n",
      "<img src=\"1.jpg\"/>\n",
      "</div>\n",
      "<div>\n",
      "            猿编程教学研发总监<br/>\n",
      "            工信部外聘IT技术专家<br/>\n",
      "            数十万学员IT在线课程研发与教育经验\n",
      "        </div>\n"
     ]
    }
   ],
   "source": [
    "for children in children_list:\n",
    "    if children != '\\n':\n",
    "        print(children)"
   ]
  },
  {
   "cell_type": "code",
   "execution_count": 9,
   "metadata": {},
   "outputs": [
    {
     "name": "stdout",
     "output_type": "stream",
     "text": [
      "何山\n",
      "老师介绍\n",
      "\n",
      "\n",
      "\n",
      "\n",
      "            猿编程教学研发总监\n",
      "            工信部外聘IT技术专家\n",
      "            数十万学员IT在线课程研发与教育经验\n",
      "        \n"
     ]
    }
   ],
   "source": [
    "for children in children_list:\n",
    "    if children != '\\n':\n",
    "        print(children.get_text())"
   ]
  },
  {
   "cell_type": "code",
   "execution_count": null,
   "metadata": {},
   "outputs": [],
   "source": []
  }
 ],
 "metadata": {
  "kernelspec": {
   "display_name": "Python 3",
   "language": "python",
   "name": "python3"
  },
  "language_info": {
   "codemirror_mode": {
    "name": "ipython",
    "version": 3
   },
   "file_extension": ".py",
   "mimetype": "text/x-python",
   "name": "python",
   "nbconvert_exporter": "python",
   "pygments_lexer": "ipython3",
   "version": "3.7.7"
  }
 },
 "nbformat": 4,
 "nbformat_minor": 4
}
