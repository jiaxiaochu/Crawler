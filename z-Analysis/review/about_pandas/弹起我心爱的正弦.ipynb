{
 "cells": [
  {
   "cell_type": "markdown",
   "metadata": {},
   "source": [
    "## 题目：弹起我心爱的正弦\n",
    "\n",
    "## **题目要求**：\n",
    "\n",
    "绘制出一个段完整的正弦函数，如下图所示，不要显示坐标周以及刻度值。\n",
    "\n",
    "![](../assets/2-2.png)\n",
    "\n",
    "下面是需要用到的函数：\n",
    "\n",
    "`numpy.linspace(start, stop, num=50)`在指定的间隔内返回均匀间隔的数字，返回num均匀分布的样本，在[start, stop]。\n",
    "\n",
    "`numpy.sin(x)`是numpy的提供的计算正弦值的函数。"
   ]
  },
  {
   "cell_type": "code",
   "execution_count": null,
   "metadata": {},
   "outputs": [],
   "source": [
    "# numpy.sin(x)是numpy的提供的计算正弦值的函数。"
   ]
  },
  {
   "cell_type": "code",
   "execution_count": 3,
   "metadata": {},
   "outputs": [
    {
     "data": {
      "image/png": "[encoded data removed]",
      "text/plain": [
       "<Figure size 432x288 with 1 Axes>"
      ]
     },
     "metadata": {},
     "output_type": "display_data"
    }
   ],
   "source": [
    "import numpy as np\n",
    "import matplotlib.pyplot as plt\n",
    "# 在指定的间隔内返回均匀间隔的数字\n",
    "x = np.linspace(-np.pi,np.pi,256)   \n",
    "# 作用为：在指定的大间隔内，返回固定间隔的数据。他将返回“num”个等间距的样本，在区间[start, stop]中。\n",
    "其中，区间的结束端点可以被排除在外。\n",
    "\n",
    "# 正弦函数\n",
    "y = np.sin(x)\n",
    "#画图，使用不同的颜色和线条\n",
    "plt.plot(x,y,color='blue',linewidth=1)\n",
    "# 获得当前图表的图像\n",
    "ax = plt.gca()\n",
    "\n",
    "# 设置图型的包围线\n",
    "ax.spines['right'].set_color('none')\n",
    "ax.spines['top'].set_color('none')\n",
    "ax.spines['bottom'].set_color('none')\n",
    "ax.spines['left'].set_color('none')\n",
    "# 设置不显示坐标轴刻度\n",
    "plt.xticks([])\n",
    "plt.yticks([])\n",
    "\n",
    "plt.show()"
   ]
  },
  {
   "cell_type": "code",
   "execution_count": null,
   "metadata": {},
   "outputs": [],
   "source": []
  }
 ],
 "metadata": {
  "kernelspec": {
   "display_name": "Python 3",
   "language": "python",
   "name": "python3"
  },
  "language_info": {
   "codemirror_mode": {
    "name": "ipython",
    "version": 3
   },
   "file_extension": ".py",
   "mimetype": "text/x-python",
   "name": "python",
   "nbconvert_exporter": "python",
   "pygments_lexer": "ipython3",
   "version": "3.7.3"
  },
  "toc": {
   "base_numbering": 1,
   "nav_menu": {},
   "number_sections": true,
   "sideBar": true,
   "skip_h1_title": false,
   "title_cell": "Table of Contents",
   "title_sidebar": "Contents",
   "toc_cell": false,
   "toc_position": {},
   "toc_section_display": true,
   "toc_window_display": false
  }
 },
 "nbformat": 4,
 "nbformat_minor": 2
}
