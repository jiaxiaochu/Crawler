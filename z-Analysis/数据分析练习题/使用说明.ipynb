{
 "cells": [
  {
   "cell_type": "markdown",
   "metadata": {},
   "source": [
    "## 使用方法\n",
    "\n",
    "### 每个练习文件夹有两个不同类型的文件:\n",
    "\n",
    "- 1.Exercises.ipynb\n",
    "\n",
    "    - 没有答案代码的文件，这个是你做的练习\n",
    "\n",
    "- 2.Solutions.ipynb\n",
    "\n",
    "    - 运行代码后的结果（不要改动）\n",
    "\n",
    "- 3.Exercise_with_Solutions.ipynb\n",
    "\n",
    "    - 有答案代码和注释的文件\n",
    "***\n",
    "**1.你可以在Exercises.ipynb里输入代码;**\n",
    "\n",
    "**2.看看运行结果是否和Solutions.ipynb里面的内容一致;**\n",
    "\n",
    "**3.如果真的完成不了再看下Exercise_with_Solutions.ipynb的答案。**"
   ]
  }
 ],
 "metadata": {
  "kernelspec": {
   "display_name": "Python 3",
   "language": "python",
   "name": "python3"
  },
  "language_info": {
   "codemirror_mode": {
    "name": "ipython",
    "version": 3
   },
   "file_extension": ".py",
   "mimetype": "text/x-python",
   "name": "python",
   "nbconvert_exporter": "python",
   "pygments_lexer": "ipython3",
   "version": "3.7.3"
  }
 },
 "nbformat": 4,
 "nbformat_minor": 2
}
