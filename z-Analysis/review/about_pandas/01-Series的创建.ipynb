{
 "cells": [
  {
   "cell_type": "markdown",
   "metadata": {},
   "source": [
    "# Pandas的数据结构\n",
    "## Series的创建"
   ]
  },
  {
   "cell_type": "code",
   "execution_count": 7,
   "metadata": {},
   "outputs": [],
   "source": [
    "# 导入Series\n",
    "from pandas import Series,DataFrame"
   ]
  },
  {
   "cell_type": "code",
   "execution_count": 8,
   "metadata": {},
   "outputs": [
    {
     "data": {
      "text/plain": [
       "0     zhangsan\n",
       "1           李斯\n",
       "2       wangwu\n",
       "3    xiaomingh\n",
       "dtype: object"
      ]
     },
     "execution_count": 8,
     "metadata": {},
     "output_type": "execute_result"
    }
   ],
   "source": [
    "# 创建Series,使用默认索引\n",
    "params = Series(data=['zhangsan','李斯','wangwu','xiaomingh'])\n",
    "params"
   ]
  },
  {
   "cell_type": "markdown",
   "metadata": {},
   "source": [
    "### 一个Series其实就是一条数据\n",
    "- Series方法的第一个参数是data\n",
    "- 第二个参数是index(索引)，如果没有传值会使用默认值（0-N）"
   ]
  },
  {
   "cell_type": "code",
   "execution_count": 12,
   "metadata": {},
   "outputs": [
    {
     "data": {
      "text/plain": [
       "排名             1\n",
       "name    zhangsan\n",
       "年龄            23\n",
       "简介         哪里都有我\n",
       "dtype: object"
      ]
     },
     "execution_count": 12,
     "metadata": {},
     "output_type": "execute_result"
    }
   ],
   "source": [
    "# 自定义索引     index参数是我们自定义的索引值，注意：参数值的个数一定要相同。\n",
    "datas = Series(\n",
    "    data = [1,'zhangsan','23','哪里都有我'],\n",
    "    index = ['排名','name','年龄','简介']\n",
    "              )\n",
    "datas"
   ]
  },
  {
   "cell_type": "markdown",
   "metadata": {},
   "source": [
    "# 在创建Series时数据并不一定要是列表，也可以将一个字典传进去。"
   ]
  },
  {
   "cell_type": "code",
   "execution_count": 16,
   "metadata": {},
   "outputs": [
    {
     "data": {
      "text/plain": [
       "排名             1\n",
       "name    zhangsan\n",
       "age           23\n",
       "简介         哪里都有我\n",
       "dtype: object"
      ]
     },
     "execution_count": 16,
     "metadata": {},
     "output_type": "execute_result"
    }
   ],
   "source": [
    "# 将字典转换为Series\n",
    "dic = {\"排名\":\"1\",\"name\":\"zhangsan\",\"age\":23,\"简介\":\"哪里都有我\"# 当数据是字典的时候，会将字典的键作为索引，字典的值作为索引对应的数据值。\n",
    "datas = Series(data=dic)\n",
    "datas"
   ]
  },
  {
   "cell_type": "code",
   "execution_count": 17,
   "metadata": {},
   "outputs": [],
   "source": [
    "# Series是一组带索引数组，与list相似，一般我们用其承装一条数据或者一行数据。多个Series可组成一个DataFrame。"
   ]
  }
 ],
 "metadata": {
  "kernelspec": {
   "display_name": "Python 3",
   "language": "python",
   "name": "python3"
  },
  "language_info": {
   "codemirror_mode": {
    "name": "ipython",
    "version": 3
   },
   "file_extension": ".py",
   "mimetype": "text/x-python",
   "name": "python",
   "nbconvert_exporter": "python",
   "pygments_lexer": "ipython3",
   "version": "3.7.3"
  }
 },
 "nbformat": 4,
 "nbformat_minor": 2
}
