{
 "cells": [
  {
   "cell_type": "markdown",
   "metadata": {},
   "source": [
    "- 一个强大的N维数组对象\n",
    "- 支持大量的数据运算\n",
    "- 集成C / C++和Fortran代码的工具\n",
    "- 众多机器学习框架的基础库(Scipy/Pandas/scikit-learn/Tensorflow)"
   ]
  },
  {
   "cell_type": "code",
   "execution_count": null,
   "metadata": {},
   "outputs": [],
   "source": [
    "# numpy的许多函数不仅是用C实现了，还使用了BLAS（一般Windows下link到MKL的，link到OpenBLAS）。\n",
    "# 基本上那些BLAS实现在每种操作上都进行了高度优化，例如使用AVX向量指令集，甚至能比你自己用C实现快上许多，更不要说和用Python实现的。"
   ]
  },
  {
   "cell_type": "code",
   "execution_count": 2,
   "metadata": {},
   "outputs": [],
   "source": [
    "import numpy as np\n",
    "import random\n",
    "import time"
   ]
  },
  {
   "cell_type": "code",
   "execution_count": 18,
   "metadata": {},
   "outputs": [
    {
     "name": "stdout",
     "output_type": "stream",
     "text": [
      "4999037.3847481245\n",
      "0.06755495071411133\n",
      "4999037.384747871\n",
      "0.005630970001220703\n",
      "使用python自带的求和函数消耗的时间为：0.06755495071411133 \r\n",
      " 使用numpy求和消耗的时间为：0.005630970001220703\n"
     ]
    }
   ],
   "source": [
    "a = []\n",
    "for i in range(10000000):\n",
    "    a.append(random.random())\n",
    "t1 = time.time()\n",
    "sum1 = sum(a)\n",
    "t2 = time.time()\n",
    "print(sum1)\n",
    "print(t2-t1)  # t2-t1为使用python自带的求和函数消耗的时间\n",
    "\n",
    "b = np.array(a)\n",
    "t3 = time.time()\n",
    "sum2 = np.sum(b)\n",
    "t4 = time.time()\n",
    "print(sum2)\n",
    "print(t4 - t3)  # t4-t3为使用numpy求和消耗的时间\n",
    "print(\"使用python自带的求和函数消耗的时间为：{}\".format(t2 - t1), '\\r\\n', \"使用numpy求和消耗的时间为：{}\".format(t4 - t3))"
   ]
  }
 ],
 "metadata": {
  "kernelspec": {
   "display_name": "Python 3",
   "language": "python",
   "name": "python3"
  },
  "language_info": {
   "codemirror_mode": {
    "name": "ipython",
    "version": 3
   },
   "file_extension": ".py",
   "mimetype": "text/x-python",
   "name": "python",
   "nbconvert_exporter": "python",
   "pygments_lexer": "ipython3",
   "version": "3.7.3"
  }
 },
 "nbformat": 4,
 "nbformat_minor": 2
}
