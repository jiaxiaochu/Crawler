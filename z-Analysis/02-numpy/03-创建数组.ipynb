{
 "cells": [
  {
   "cell_type": "markdown",
   "metadata": {},
   "source": [
    "## 1、0和1的数组"
   ]
  },
  {
   "cell_type": "code",
   "execution_count": 1,
   "metadata": {},
   "outputs": [],
   "source": [
    "import numpy as np"
   ]
  },
  {
   "cell_type": "markdown",
   "metadata": {},
   "source": [
    "- empty(shape[, dtype, order])\n",
    "- empty_like(a[, dtype, order, subok])\n",
    "- eye(N[, M, k, dtype, order])\n",
    "- identity(n[, dtype])\n",
    "- ones(shape[, dtype, order])\n",
    "- ones_like(a[, dtype, order, subok])\n",
    "- zeros(shape[, dtype, order])\n",
    "- zeros_like(a[, dtype, order, subok])\n",
    "- full(shape, fill_value[, dtype, order])\n",
    "- full_like(a, fill_value[, dtype, order, subok])"
   ]
  },
  {
   "cell_type": "code",
   "execution_count": 7,
   "metadata": {},
   "outputs": [
    {
     "data": {
      "text/plain": [
       "array([[0., 0., 0., 0.],\n",
       "       [0., 0., 0., 0.],\n",
       "       [0., 0., 0., 0.]])"
      ]
     },
     "execution_count": 7,
     "metadata": {},
     "output_type": "execute_result"
    }
   ],
   "source": [
    "zero = np.zeros([3,4])   # 创建3行4列的全为0的数组\n",
    "# print(zero)\n",
    "zero"
   ]
  },
  {
   "cell_type": "markdown",
   "metadata": {},
   "source": [
    "## 2、从现有的数据中创建"
   ]
  },
  {
   "cell_type": "markdown",
   "metadata": {},
   "source": [
    "\n",
    "- array(object[, dtype, copy, order, subok, ndmin])\n",
    "\n",
    "- asarray(a[, dtype, order])\n",
    "\n",
    "- copy(a[, order])\n"
   ]
  },
  {
   "cell_type": "code",
   "execution_count": 9,
   "metadata": {},
   "outputs": [
    {
     "data": {
      "text/plain": [
       "array([[1, 2, 3],\n",
       "       [4, 5, 6]])"
      ]
     },
     "execution_count": 9,
     "metadata": {},
     "output_type": "execute_result"
    }
   ],
   "source": [
    "a = np.array([[1,2,3],[4,5,6]])\n",
    "a"
   ]
  },
  {
   "cell_type": "code",
   "execution_count": 10,
   "metadata": {},
   "outputs": [
    {
     "data": {
      "text/plain": [
       "array([[1, 2, 3],\n",
       "       [4, 5, 6]])"
      ]
     },
     "execution_count": 10,
     "metadata": {},
     "output_type": "execute_result"
    }
   ],
   "source": [
    "# 从现有的数组当中创建\n",
    "a1 = np.array(a)\n",
    "a1"
   ]
  },
  {
   "cell_type": "code",
   "execution_count": 11,
   "metadata": {},
   "outputs": [
    {
     "data": {
      "text/plain": [
       "array([[1, 2, 3],\n",
       "       [4, 5, 6]])"
      ]
     },
     "execution_count": 11,
     "metadata": {},
     "output_type": "execute_result"
    }
   ],
   "source": [
    "# 相当于索引的形式，并没有真正的创建一个新的\n",
    "a2 = np.asarray(a)\n",
    "a2"
   ]
  },
  {
   "cell_type": "markdown",
   "metadata": {},
   "source": [
    "## 2.1、关于array和asarray的不同"
   ]
  },
  {
   "cell_type": "code",
   "execution_count": 26,
   "metadata": {},
   "outputs": [
    {
     "data": {
      "text/plain": [
       "array([[1., 1., 1., 1.],\n",
       "       [1., 1., 1., 1.],\n",
       "       [1., 1., 1., 1.]])"
      ]
     },
     "execution_count": 26,
     "metadata": {},
     "output_type": "execute_result"
    }
   ],
   "source": [
    "data = np.ones((3,4))  # 创建3行4列的全为1的数组\n",
    "data"
   ]
  },
  {
   "cell_type": "code",
   "execution_count": 33,
   "metadata": {},
   "outputs": [],
   "source": [
    "data1 = np.array(data)  # 使用array的方式创建data1\n",
    "# data1"
   ]
  },
  {
   "cell_type": "code",
   "execution_count": 28,
   "metadata": {},
   "outputs": [
    {
     "data": {
      "text/plain": [
       "array([[1., 1., 1., 1.],\n",
       "       [1., 1., 1., 1.],\n",
       "       [1., 1., 1., 1.]])"
      ]
     },
     "execution_count": 28,
     "metadata": {},
     "output_type": "execute_result"
    }
   ],
   "source": [
    "data2 = np.asarray(data)  # 使用asarray的方式创建data2\n",
    "data2"
   ]
  },
  {
   "cell_type": "code",
   "execution_count": 36,
   "metadata": {},
   "outputs": [],
   "source": [
    "data[1,1] = 10  # 修改data中第2行第2列位置的4为10"
   ]
  },
  {
   "cell_type": "code",
   "execution_count": 30,
   "metadata": {},
   "outputs": [
    {
     "data": {
      "text/plain": [
       "array([[ 1.,  1.,  1.,  1.],\n",
       "       [ 1., 10.,  1.,  1.],\n",
       "       [ 1.,  1.,  1.,  1.]])"
      ]
     },
     "execution_count": 30,
     "metadata": {},
     "output_type": "execute_result"
    }
   ],
   "source": [
    "data"
   ]
  },
  {
   "cell_type": "code",
   "execution_count": 37,
   "metadata": {},
   "outputs": [
    {
     "data": {
      "text/plain": [
       "array([[ 1.,  1.,  1.,  1.],\n",
       "       [ 1., 10.,  1.,  1.],\n",
       "       [ 1.,  1.,  1.,  1.]])"
      ]
     },
     "execution_count": 37,
     "metadata": {},
     "output_type": "execute_result"
    }
   ],
   "source": [
    "data1 = np.array(data)  # 使用array的方式创建data1\n",
    "data1"
   ]
  },
  {
   "cell_type": "code",
   "execution_count": 38,
   "metadata": {},
   "outputs": [
    {
     "data": {
      "text/plain": [
       "array([[ 1.,  1.,  1.,  1.],\n",
       "       [ 1., 10.,  1.,  1.],\n",
       "       [ 1.,  1.,  1.,  1.]])"
      ]
     },
     "execution_count": 38,
     "metadata": {},
     "output_type": "execute_result"
    }
   ],
   "source": [
    "data2 = np.asarray(data)  # 使用asarray的方式创建data2\n",
    "data2"
   ]
  },
  {
   "cell_type": "markdown",
   "metadata": {},
   "source": [
    "## 3、创建固定范围的数组"
   ]
  },
  {
   "cell_type": "markdown",
   "metadata": {},
   "source": [
    "- np.linspace (start, stop, num, endpoint, retstep, dtype)\n",
    "生成等间隔的序列\n",
    "```\n",
    "start 序列的起始值\n",
    "stop 序列的终止值，\n",
    "如果endpoint为true，该值包含于序列中\n",
    "num 要生成的等间隔样例数量，默认为50\n",
    "endpoint 序列中是否包含stop值，默认为ture\n",
    "retstep 如果为true，返回样例，\n",
    "以及连续数字之间的步长\n",
    "dtype 输出ndarray的数据类型\n",
    "```"
   ]
  },
  {
   "cell_type": "code",
   "execution_count": 40,
   "metadata": {},
   "outputs": [
    {
     "data": {
      "text/plain": [
       "array([  0.        ,  11.11111111,  22.22222222,  33.33333333,\n",
       "        44.44444444,  55.55555556,  66.66666667,  77.77777778,\n",
       "        88.88888889, 100.        ])"
      ]
     },
     "execution_count": 40,
     "metadata": {},
     "output_type": "execute_result"
    }
   ],
   "source": [
    "np.linspace(0,100,10)"
   ]
  },
  {
   "cell_type": "markdown",
   "metadata": {},
   "source": [
    "其它的还有:\n",
    "\n",
    "- 创建一个数组，从start到stop，step为步长 ，类似python的arange函数\n",
    "    - numpy.arange(start,stop, step, dtype)\n",
    "    - numpy.arange(10, 50, 2)\n",
    "- 创建等比数组，从指数从start到stop，默认包含stop，num表示数组中的个数，base表示底数，默认是10，endpoint默认为True，表示默认包含stop\n",
    "    - numpy.logspace(start,stop, num, endpoint, base, dtype)\n",
    "    - numpy.logspace(0,9,10)\n",
    "    - numpy.logspace(0,9,10,base=2)"
   ]
  },
  {
   "cell_type": "code",
   "execution_count": 42,
   "metadata": {},
   "outputs": [
    {
     "data": {
      "text/plain": [
       "array([0, 2, 4, 6, 8])"
      ]
     },
     "execution_count": 42,
     "metadata": {},
     "output_type": "execute_result"
    }
   ],
   "source": [
    "np.arange(0,9,2)"
   ]
  },
  {
   "cell_type": "markdown",
   "metadata": {},
   "source": [
    "## 4、创建随机数组"
   ]
  },
  {
   "cell_type": "markdown",
   "metadata": {},
   "source": [
    "- np.random模块\n",
    "    - 均匀分布\n",
    "        - np.random.rand(10) :返回长度为10的数组，其中的元素取值为0-1\n",
    "        - np.random.uniform(0,100) ：返回一个数，取值为0-100\n",
    "        - np.random.randint(100) ：返回一个整数，取值范围0-100\n",
    "- 正态分布\n",
    "    - 给定均值／标准差／维度的正态分布\n",
    "    - np.random.normal(1.75, 0.2, (3,4))\n",
    "    - np.random.standard_normal(size=(3,4))\n"
   ]
  },
  {
   "cell_type": "code",
   "execution_count": 43,
   "metadata": {},
   "outputs": [
    {
     "data": {
      "text/plain": [
       "array([0.78172339, 0.88272682, 0.05684336, 0.62146769, 0.78940244,\n",
       "       0.97650439, 0.33833186, 0.41717912, 0.10531266, 0.73890331])"
      ]
     },
     "execution_count": 43,
     "metadata": {},
     "output_type": "execute_result"
    }
   ],
   "source": [
    "# 创建均匀分布的数组\n",
    "# 0~1\n",
    "np.random.rand(10)"
   ]
  },
  {
   "cell_type": "code",
   "execution_count": 46,
   "metadata": {},
   "outputs": [
    {
     "data": {
      "text/plain": [
       "57.915010906439335"
      ]
     },
     "execution_count": 46,
     "metadata": {},
     "output_type": "execute_result"
    }
   ],
   "source": [
    "# 默认范围一个数\n",
    "np.random.uniform(0,100)"
   ]
  },
  {
   "cell_type": "code",
   "execution_count": 48,
   "metadata": {},
   "outputs": [
    {
     "data": {
      "text/plain": [
       "5"
      ]
     },
     "execution_count": 48,
     "metadata": {},
     "output_type": "execute_result"
    }
   ],
   "source": [
    "# 随机整数\n",
    "np.random.randint(10)"
   ]
  },
  {
   "cell_type": "code",
   "execution_count": 49,
   "metadata": {},
   "outputs": [
    {
     "data": {
      "text/plain": [
       "array([[1.79384747, 1.74694415, 1.73443504, 1.64662125, 1.89674341,\n",
       "        1.71097878, 1.8792533 , 1.70912562, 1.66402618, 1.75735235],\n",
       "       [1.84852347, 1.8138473 , 1.6480348 , 1.71974501, 1.91397599,\n",
       "        1.58830162, 1.61635641, 1.51733628, 1.85913492, 1.80673445],\n",
       "       [1.64045226, 1.77643334, 1.80833862, 1.62579987, 1.75844724,\n",
       "        1.67475067, 1.71437346, 1.80509686, 1.80422966, 1.8121552 ],\n",
       "       [1.78314521, 1.68840477, 1.81088063, 1.85458444, 1.5611888 ,\n",
       "        1.75864511, 1.6789177 , 1.86361256, 1.57586361, 1.79602968],\n",
       "       [1.90234776, 1.59999696, 1.82040762, 1.80093176, 1.91753429,\n",
       "        1.67508953, 1.76621459, 1.60542134, 1.68365735, 1.73025023],\n",
       "       [1.64372167, 1.73919639, 1.61577494, 1.83201258, 1.67312383,\n",
       "        1.7644288 , 1.79942969, 1.74172147, 1.69262969, 1.78772534],\n",
       "       [1.7566237 , 1.75797292, 1.67303591, 1.81627157, 1.85465899,\n",
       "        1.75795785, 1.73373755, 1.76467977, 1.74454759, 1.75102719],\n",
       "       [1.78245647, 1.73513786, 1.59110698, 1.76273801, 1.95744148,\n",
       "        1.83700772, 1.98090122, 1.83513351, 1.77559457, 1.71859639],\n",
       "       [1.62446086, 1.58486042, 1.76389073, 1.67982715, 1.83922414,\n",
       "        1.87217408, 1.83489875, 1.80919451, 1.79125637, 1.65112351],\n",
       "       [1.83221463, 1.68953152, 1.77663965, 1.72854396, 1.7302946 ,\n",
       "        1.93888284, 1.91247675, 1.74501318, 1.66359113, 1.77080679]])"
      ]
     },
     "execution_count": 49,
     "metadata": {},
     "output_type": "execute_result"
    }
   ],
   "source": [
    "# 创建均值为1.75，标准差为0.1，形状为（10，10）的数组\n",
    "np.random.normal(1.75,0.1,(10,10))"
   ]
  }
 ],
 "metadata": {
  "kernelspec": {
   "display_name": "Python 3",
   "language": "python",
   "name": "python3"
  },
  "language_info": {
   "codemirror_mode": {
    "name": "ipython",
    "version": 3
   },
   "file_extension": ".py",
   "mimetype": "text/x-python",
   "name": "python",
   "nbconvert_exporter": "python",
   "pygments_lexer": "ipython3",
   "version": "3.7.3"
  }
 },
 "nbformat": 4,
 "nbformat_minor": 2
}
