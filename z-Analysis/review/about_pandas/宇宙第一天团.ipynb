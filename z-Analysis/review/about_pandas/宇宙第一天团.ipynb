{
 "cells": [
  {
   "cell_type": "markdown",
   "metadata": {},
   "source": [
    "### 题目要求\n",
    "    下面信息记录了天团中一部分人员信息，包括演员姓名、饰演、技能、语录，现在需要创建一个DataFrame将这些信息保存起来。\n",
    "### 题目讲解\n",
    "    创造DataFrame的流程如下：\n",
    "        1. 将表格中每一列数据作为字典中的一个值。\n",
    "        2. 将列名作为字典中的键。\n",
    "        3. 调用DataFrame的构造方法来创建DataFrame。\n",
    "        4. 在屏幕打印DataFrame的数据"
   ]
  },
  {
   "cell_type": "markdown",
   "metadata": {},
   "source": [
    "\n",
    "\n",
    "|      |       姓名        |   饰演   |   武器   |          语录          |\n",
    "| :--: | :---------------: | :------: | :------: | :--------------------: |\n",
    "|  1   |   小罗伯特·唐尼   |  钢铁侠  | 钢铁战衣 |    和平,我热爱和平     |\n",
    "|  2   |   克里斯·埃文斯   | 美国队长 |   盾牌   | 最好的选择就是重新开始 |\n",
    "|  3   |   斯嘉丽·约翰逊   |  黑寡妇  |  寡妇蜇  | 嘿，大兄弟，太阳下山了 |\n",
    "|  4   | 克里斯·海姆斯沃斯 |   雷神   | 雷神之锤 |   要用知识来打败无知   |\n",
    "\n"
   ]
  },
  {
   "cell_type": "code",
   "execution_count": 1,
   "metadata": {},
   "outputs": [],
   "source": [
    "# 1.导包\n",
    "# 2.构造你一个字典，用来存储列表当中的数据\n",
    "# 3.调用DataFrame的构造方法，并创建DataFrame\n",
    "# 4.打印输出，查看结果"
   ]
  },
  {
   "cell_type": "code",
   "execution_count": 2,
   "metadata": {},
   "outputs": [],
   "source": [
    "# 1.导包\n",
    "from pandas import DataFrame"
   ]
  },
  {
   "cell_type": "code",
   "execution_count": 3,
   "metadata": {},
   "outputs": [],
   "source": [
    "# 2.构造你一个字典，用来存储列表当中的数据\n",
    "dic = {\n",
    "    \"姓名\":['小罗伯特·唐尼','克里斯·埃文斯','斯嘉丽·约翰逊','克里斯·海姆斯沃斯'],\n",
    "    \"饰演\":['钢铁侠','美国队长','黑寡妇','雷神'],\n",
    "    \"武器\":['钢铁战衣','盾牌','寡妇蜇','雷神之锤'],\n",
    "    \"语录\":['和平,我热爱和平','最好的选择就是重新开始','嘿，大兄弟，太阳下山了','要用知识来打败无知']\n",
    "}"
   ]
  },
  {
   "cell_type": "code",
   "execution_count": 4,
   "metadata": {},
   "outputs": [],
   "source": [
    "# 3.调用DataFrame的构造方法，并创建DataFrame\n",
    "df = DataFrame(data=dic)"
   ]
  },
  {
   "cell_type": "code",
   "execution_count": 5,
   "metadata": {},
   "outputs": [
    {
     "name": "stdout",
     "output_type": "stream",
     "text": [
      "          姓名    饰演    武器           语录\n",
      "0    小罗伯特·唐尼   钢铁侠  钢铁战衣     和平,我热爱和平\n",
      "1    克里斯·埃文斯  美国队长    盾牌  最好的选择就是重新开始\n",
      "2    斯嘉丽·约翰逊   黑寡妇   寡妇蜇  嘿，大兄弟，太阳下山了\n",
      "3  克里斯·海姆斯沃斯    雷神  雷神之锤    要用知识来打败无知\n"
     ]
    }
   ],
   "source": [
    "# 4.打印输出，查看结果\n",
    "print(df)"
   ]
  },
  {
   "cell_type": "code",
   "execution_count": null,
   "metadata": {},
   "outputs": [],
   "source": []
  }
 ],
 "metadata": {
  "kernelspec": {
   "display_name": "Python 3",
   "language": "python",
   "name": "python3"
  },
  "language_info": {
   "codemirror_mode": {
    "name": "ipython",
    "version": 3
   },
   "file_extension": ".py",
   "mimetype": "text/x-python",
   "name": "python",
   "nbconvert_exporter": "python",
   "pygments_lexer": "ipython3",
   "version": "3.7.3"
  }
 },
 "nbformat": 4,
 "nbformat_minor": 2
}
