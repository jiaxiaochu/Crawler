{
 "cells": [
  {
   "cell_type": "markdown",
   "metadata": {},
   "source": [
    "## 题目：**那些年错过的电影**\n",
    "\n",
    "    文件的路径为`./data/aiqiyi.xlsx`\n",
    "\n",
    "## 题目要求：\n",
    "\n",
    "本次练习采用的是爱奇艺视频数据。共有6万多条电影数据，每条数据包含12列信息\n",
    "\n",
    "以下获取的前五条数据：\n",
    "![](../assets/2.png)\n",
    "\n",
    "1. 取出每年电影评分前两名电影的名字\n",
    "2. 哪一年的电影总评分最高"
   ]
  },
  {
   "cell_type": "code",
   "execution_count": 2,
   "metadata": {
    "collapsed": true
   },
   "outputs": [
    {
     "name": "stdout",
     "output_type": "stream",
     "text": [
      "1985 1195       4世同堂\n",
      "1231    少奇同志在东北\n",
      "Name: 整理后剧名, dtype: object\n",
      "1986 156      钟鼓楼\n",
      "603    凯旋在子夜\n",
      "Name: 整理后剧名, dtype: object\n",
      "1988 1232    少奇同志在武汉\n",
      "788        小镇总理\n",
      "Name: 整理后剧名, dtype: object\n",
      "1989 700    李大钊\n",
      "Name: 整理后剧名, dtype: object\n",
      "1990 441     渴望\n",
      "1157    吴晗\n",
      "Name: 整理后剧名, dtype: object\n",
      "1991 742        家有仙妻\n",
      "1144    让我们荡起双桨\n",
      "Name: 整理后剧名, dtype: object\n",
      "1992 358    皇城根儿\n",
      "195    风华绝代\n",
      "Name: 整理后剧名, dtype: object\n",
      "1993 1233    少奇同志在安源\n",
      "664         鬼丈夫\n",
      "Name: 整理后剧名, dtype: object\n",
      "1994 901        过把瘾\n",
      "1463    新书剑恩仇录\n",
      "Name: 整理后剧名, dtype: object\n",
      "1995 898       无悔追踪\n",
      "162    东边日出西边雨\n",
      "Name: 整理后剧名, dtype: object\n",
      "1996 626    宰相刘罗锅\n",
      "138      大秦腔\n",
      "Name: 整理后剧名, dtype: object\n",
      "1997 1069      寇老西儿\n",
      "630     鸦片战争演义\n",
      "Name: 整理后剧名, dtype: object\n",
      "1998 521    聊斋先生\n",
      "704      抉择\n",
      "Name: 整理后剧名, dtype: object\n",
      "1999 1275    永不瞑目\n",
      "899     刑警本色\n",
      "Name: 整理后剧名, dtype: object\n",
      "2000 1012    上错花轿嫁对郎\n",
      "653     都是天使惹的祸\n",
      "Name: 整理后剧名, dtype: object\n",
      "2001 27      爱情宝典\n",
      "322    天下第1丑\n",
      "Name: 整理后剧名, dtype: object\n",
      "2002 652    我的淘气天使\n",
      "379      白领公寓\n",
      "Name: 整理后剧名, dtype: object\n",
      "2003 1292    双响炮\n",
      "481      火帅\n",
      "Name: 整理后剧名, dtype: object\n",
      "2004 1020        天龙8部\n",
      "469     铁齿铜牙纪晓岚3\n",
      "Name: 整理后剧名, dtype: object\n",
      "2005 1291    我爱河东狮\n",
      "464     宋莲生坐堂\n",
      "Name: 整理后剧名, dtype: object\n",
      "2006 527    济公新传\n",
      "884    士兵突击\n",
      "Name: 整理后剧名, dtype: object\n",
      "2007 209       我们生活的年代\n",
      "1442    睡龙神探之情爱保险\n",
      "Name: 整理后剧名, dtype: object\n",
      "2008 106       所谓婚姻\n",
      "320    防火墙5788\n",
      "Name: 整理后剧名, dtype: object\n",
      "2009 1372        青春舞台\n",
      "463     我们的队伍向太阳\n",
      "Name: 整理后剧名, dtype: object\n",
      "2010 407      尖刀\n",
      "384    大女当嫁\n",
      "Name: 整理后剧名, dtype: object\n",
      "2011 808         闯荡\n",
      "203    盘龙卧虎高山顶\n",
      "Name: 整理后剧名, dtype: object\n",
      "2012 969             闭嘴花美男乐队\n",
      "1249    闭嘴花美男乐队金明洙cut集锦\n",
      "Name: 整理后剧名, dtype: object\n",
      "2013 516       恋歌\n",
      "610    邻家花美男\n",
      "Name: 整理后剧名, dtype: object\n",
      "2014 838            保卫孙子\n",
      "224    犀利仁师之药不能停路云霏\n",
      "Name: 整理后剧名, dtype: object\n",
      "2015 667    我们办人事\n",
      "449    红色青橄榄\n",
      "Name: 整理后剧名, dtype: object\n",
      "2016 237       青丘狐传说\n",
      "673    hello女主播\n",
      "Name: 整理后剧名, dtype: object\n"
     ]
    }
   ],
   "source": [
    "import pandas as pd\n",
    "df = pd.read_excel('../data/aiqiyi.xlsx')\n",
    "groups = df.groupby('上映时间')\n",
    "for group_name,group_df in groups:\n",
    "    result = group_df.sort_values(by='评分',ascending=False)[0:2]\n",
    "    print(group_name,result['整理后剧名'])"
   ]
  },
  {
   "cell_type": "code",
   "execution_count": 3,
   "metadata": {},
   "outputs": [
    {
     "name": "stdout",
     "output_type": "stream",
     "text": [
      "2015\n"
     ]
    }
   ],
   "source": [
    "# by:决定了是按数据中的哪一列进行排序，将需要按照某列排序的列名赋值给by即可\n",
    "# ascending=False:将数据按照从大到小的顺序排列\n",
    "# inplace=True:用来控制是否直接对原始数据进行修改\n",
    "\n",
    "year=groups.sum().sort_values(by='评分',ascending=False).index.to_list()[0]\n",
    "print(year)"
   ]
  },
  {
   "cell_type": "code",
   "execution_count": null,
   "metadata": {},
   "outputs": [],
   "source": []
  }
 ],
 "metadata": {
  "kernelspec": {
   "display_name": "Python 3",
   "language": "python",
   "name": "python3"
  },
  "language_info": {
   "codemirror_mode": {
    "name": "ipython",
    "version": 3
   },
   "file_extension": ".py",
   "mimetype": "text/x-python",
   "name": "python",
   "nbconvert_exporter": "python",
   "pygments_lexer": "ipython3",
   "version": "3.7.3"
  }
 },
 "nbformat": 4,
 "nbformat_minor": 2
}
