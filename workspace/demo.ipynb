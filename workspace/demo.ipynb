{
 "cells": [
  {
   "cell_type": "code",
   "execution_count": 3,
   "metadata": {},
   "outputs": [
    {
     "name": "stdout",
     "output_type": "stream",
     "text": [
      "<list_iterator object at 0x10e6b9c10>\n"
     ]
    }
   ],
   "source": [
    "from bs4 import BeautifulSoup\n",
    "\n",
    "\n",
    "def read_html(file_name):\n",
    "    f = open(file_name, 'r')\n",
    "    text = f.read()\n",
    "    f.close()\n",
    "    return text\n",
    "\n",
    "\n",
    "html = read_html('1.html')\n",
    "\n",
    "soup = BeautifulSoup(html, 'html.parser')\n",
    "print(soup.html.children)"
   ]
  },
  {
   "cell_type": "code",
   "execution_count": 6,
   "metadata": {},
   "outputs": [
    {
     "name": "stdout",
     "output_type": "stream",
     "text": [
      "\n",
      "\n",
      "<head>\n",
      "<meta charset=\"utf-8\"/>\n",
      "<title>老师个人秀</title>\n",
      "</head>\n",
      "\n",
      "\n",
      "<body>\n",
      "<h2>何山</h2>\n",
      "<div>老师介绍</div>\n",
      "<div>\n",
      "<img src=\"1.jpg\"/>\n",
      "</div>\n",
      "<div>\n",
      "            猿编程教学研发总监<br/>\n",
      "            工信部外聘IT技术专家<br/>\n",
      "            数十万学员IT在线课程研发与教育经验\n",
      "        </div>\n",
      "</body>\n",
      "\n",
      "\n"
     ]
    }
   ],
   "source": [
    "for child in soup.html.children:\n",
    "    print(child)"
   ]
  },
  {
   "cell_type": "code",
   "execution_count": 7,
   "metadata": {},
   "outputs": [
    {
     "name": "stdout",
     "output_type": "stream",
     "text": [
      "<head>\n",
      "<meta charset=\"utf-8\"/>\n",
      "<title>老师个人秀</title>\n",
      "</head>\n",
      "<body>\n",
      "<h2>何山</h2>\n",
      "<div>老师介绍</div>\n",
      "<div>\n",
      "<img src=\"1.jpg\"/>\n",
      "</div>\n",
      "<div>\n",
      "            猿编程教学研发总监<br/>\n",
      "            工信部外聘IT技术专家<br/>\n",
      "            数十万学员IT在线课程研发与教育经验\n",
      "        </div>\n",
      "</body>\n"
     ]
    }
   ],
   "source": [
    "for child in soup.html.children:\n",
    "    if child != '\\n':\n",
    "        print(child)"
   ]
  },
  {
   "cell_type": "code",
   "execution_count": 8,
   "metadata": {},
   "outputs": [
    {
     "name": "stdout",
     "output_type": "stream",
     "text": [
      "\n",
      "\n",
      "<div>老师介绍</div>\n",
      "\n",
      "\n",
      "<div>\n",
      "<img src=\"1.jpg\"/>\n",
      "</div>\n",
      "\n",
      "\n",
      "<div>\n",
      "            猿编程教学研发总监<br/>\n",
      "            工信部外聘IT技术专家<br/>\n",
      "            数十万学员IT在线课程研发与教育经验\n",
      "        </div>\n",
      "\n",
      "\n"
     ]
    }
   ],
   "source": [
    "for child in soup.h2.next_siblings:\n",
    "    print(child)"
   ]
  },
  {
   "cell_type": "code",
   "execution_count": 12,
   "metadata": {},
   "outputs": [
    {
     "name": "stdout",
     "output_type": "stream",
     "text": [
      "\n",
      "\n"
     ]
    }
   ],
   "source": [
    "for child in soup.h2.previous_siblings:\n",
    "    print(child)"
   ]
  },
  {
   "cell_type": "code",
   "execution_count": 13,
   "metadata": {},
   "outputs": [
    {
     "name": "stdout",
     "output_type": "stream",
     "text": [
      "<generator object PageElement.previous_siblings at 0x10f1f04d0>\n"
     ]
    }
   ],
   "source": [
    "print(soup.h2.previous_siblings)"
   ]
  },
  {
   "cell_type": "code",
   "execution_count": null,
   "metadata": {},
   "outputs": [],
   "source": []
  },
  {
   "cell_type": "code",
   "execution_count": 18,
   "metadata": {},
   "outputs": [
    {
     "name": "stdout",
     "output_type": "stream",
     "text": [
      "<h2>何山</h2>\n",
      "<div>老师介绍</div>\n",
      "<div>\n",
      "<img src=\"1.jpg\"/>\n",
      "</div>\n",
      "<div>\n",
      "            猿编程教学研发总监<br/>\n",
      "            工信部外聘IT技术专家<br/>\n",
      "            数十万学员IT在线课程研发与教育经验\n",
      "        </div>\n"
     ]
    }
   ],
   "source": [
    "for child in soup.body.children:\n",
    "    if child != '\\n':\n",
    "        print(child)"
   ]
  },
  {
   "cell_type": "code",
   "execution_count": 15,
   "metadata": {},
   "outputs": [
    {
     "name": "stdout",
     "output_type": "stream",
     "text": [
      "None\n",
      "h2\n",
      "None\n",
      "div\n",
      "None\n",
      "div\n",
      "None\n",
      "div\n",
      "None\n"
     ]
    }
   ],
   "source": [
    "for child in soup.body.children:\n",
    "    print(child.name)"
   ]
  },
  {
   "cell_type": "code",
   "execution_count": 19,
   "metadata": {},
   "outputs": [
    {
     "name": "stdout",
     "output_type": "stream",
     "text": [
      "h2\n",
      "div\n",
      "div\n",
      "div\n"
     ]
    }
   ],
   "source": [
    "for child in soup.body.children:\n",
    "    if child.name is not None:\n",
    "        print(child.name)"
   ]
  },
  {
   "cell_type": "code",
   "execution_count": 20,
   "metadata": {},
   "outputs": [
    {
     "name": "stdout",
     "output_type": "stream",
     "text": [
      "h2\n",
      "div\n",
      "div\n",
      "div\n"
     ]
    }
   ],
   "source": [
    "for child in soup.body.children:\n",
    "    if child.name != None:\n",
    "        print(child.name)"
   ]
  },
  {
   "cell_type": "code",
   "execution_count": 21,
   "metadata": {},
   "outputs": [
    {
     "name": "stdout",
     "output_type": "stream",
     "text": [
      "[<h2>何山</h2>, <div>老师介绍</div>, <div>\n",
      "<img src=\"1.jpg\"/>\n",
      "</div>, <div>\n",
      "            猿编程教学研发总监<br/>\n",
      "            工信部外聘IT技术专家<br/>\n",
      "            数十万学员IT在线课程研发与教育经验\n",
      "        </div>]\n"
     ]
    }
   ],
   "source": [
    "children_list = []\n",
    "for child in soup.body.children:\n",
    "    if child.name != None:\n",
    "        children_list.append(child)\n",
    "print(children_list)"
   ]
  },
  {
   "cell_type": "code",
   "execution_count": 23,
   "metadata": {},
   "outputs": [
    {
     "data": {
      "text/plain": [
       "'\\n            猿编程教学研发总监\\n            工信部外聘IT技术专家\\n            数十万学员IT在线课程研发与教育经验\\n        '"
      ]
     },
     "execution_count": 23,
     "metadata": {},
     "output_type": "execute_result"
    }
   ],
   "source": [
    "text_tag = children_list[-1].get_text()\n",
    "text_tag"
   ]
  },
  {
   "cell_type": "code",
   "execution_count": 29,
   "metadata": {},
   "outputs": [
    {
     "name": "stdout",
     "output_type": "stream",
     "text": [
      "<h2>何山</h2>\n",
      "<div>老师介绍</div>\n",
      "<div>\n",
      "<img src=\"1.jpg\"/>\n",
      "</div>\n",
      "<div>\n",
      "            猿编程教学研发总监<br/>\n",
      "            工信部外聘IT技术专家<br/>\n",
      "            数十万学员IT在线课程研发与教育经验\n",
      "        </div>\n"
     ]
    }
   ],
   "source": [
    "# for child in soup.body.children:\n",
    "data = list(soup.body.children)\n",
    "# print(data)\n",
    "for ch in data:\n",
    "    if ch != '\\n':\n",
    "        print(ch)"
   ]
  },
  {
   "cell_type": "code",
   "execution_count": 30,
   "metadata": {},
   "outputs": [
    {
     "name": "stdout",
     "output_type": "stream",
     "text": [
      "何山\n",
      "老师介绍\n",
      "\n",
      "\n",
      "\n",
      "\n",
      "            猿编程教学研发总监\n",
      "            工信部外聘IT技术专家\n",
      "            数十万学员IT在线课程研发与教育经验\n",
      "        \n"
     ]
    }
   ],
   "source": [
    "for ch in data:\n",
    "    if ch != '\\n':\n",
    "        text = ch.get_text()\n",
    "        print(text)"
   ]
  },
  {
   "cell_type": "code",
   "execution_count": null,
   "metadata": {},
   "outputs": [],
   "source": []
  }
 ],
 "metadata": {
  "kernelspec": {
   "display_name": "Python 3",
   "language": "python",
   "name": "python3"
  },
  "language_info": {
   "codemirror_mode": {
    "name": "ipython",
    "version": 3
   },
   "file_extension": ".py",
   "mimetype": "text/x-python",
   "name": "python",
   "nbconvert_exporter": "python",
   "pygments_lexer": "ipython3",
   "version": "3.7.7"
  }
 },
 "nbformat": 4,
 "nbformat_minor": 4
}
