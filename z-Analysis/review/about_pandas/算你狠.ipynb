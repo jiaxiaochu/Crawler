{
 "cells": [
  {
   "cell_type": "markdown",
   "metadata": {},
   "source": [
    "## 题目：算你狠\n",
    "    文件路径：`../data/04Books.xlsx`\n",
    "\n",
    "## 题目要求：\n",
    "\n",
    "![](../assets/4.png)\n",
    "\n",
    "根据文件:`../data/04Books.xlsx`中的商品的单价（OnePrice）和购买数量（Count）计算出对应的总价（Price）。"
   ]
  },
  {
   "cell_type": "code",
   "execution_count": 4,
   "metadata": {
    "collapsed": true
   },
   "outputs": [
    {
     "name": "stdout",
     "output_type": "stream",
     "text": [
      "           Name  OnePrice  Count  Price\n",
      "ID                                     \n",
      "1   Product_001      9.82      5    NaN\n",
      "2   Product_002     11.99      4    NaN\n",
      "3   Product_003      9.62      6    NaN\n",
      "4   Product_004     11.08      8    NaN\n",
      "5   Product_005      7.75      3    NaN\n",
      "6   Product_006      7.34      4    NaN\n",
      "7   Product_007     10.97      6    NaN\n",
      "8   Product_008     11.14      7    NaN\n",
      "9   Product_009      8.98      2    NaN\n",
      "10  Product_010      9.18      3    NaN\n",
      "11  Product_011      8.31      4    NaN\n",
      "12  Product_012      7.29      9    NaN\n",
      "13  Product_013      8.36      5    NaN\n",
      "14  Product_014      9.16      6    NaN\n",
      "15  Product_015     10.31      3    NaN\n",
      "16  Product_016     10.26      6    NaN\n",
      "17  Product_017     11.95      8    NaN\n",
      "18  Product_018     11.22      2    NaN\n",
      "19  Product_019     10.95      4    NaN\n",
      "20  Product_020      8.82      6    NaN\n"
     ]
    }
   ],
   "source": [
    "import pandas as pd\n",
    "path = \"./../data/04Books.xlsx\"\n",
    "books = pd.read_excel(path,index_col = 'ID')\n",
    "print(books)"
   ]
  },
  {
   "cell_type": "code",
   "execution_count": 5,
   "metadata": {
    "collapsed": true
   },
   "outputs": [
    {
     "name": "stdout",
     "output_type": "stream",
     "text": [
      "           Name  OnePrice  Count  Price\n",
      "ID                                     \n",
      "1   Product_001      9.82      5  49.10\n",
      "2   Product_002     11.99      4  47.96\n",
      "3   Product_003      9.62      6  57.72\n",
      "4   Product_004     11.08      8  88.64\n",
      "5   Product_005      7.75      3  23.25\n",
      "6   Product_006      7.34      4  29.36\n",
      "7   Product_007     10.97      6  65.82\n",
      "8   Product_008     11.14      7  77.98\n",
      "9   Product_009      8.98      2  17.96\n",
      "10  Product_010      9.18      3  27.54\n",
      "11  Product_011      8.31      4  33.24\n",
      "12  Product_012      7.29      9  65.61\n",
      "13  Product_013      8.36      5  41.80\n",
      "14  Product_014      9.16      6  54.96\n",
      "15  Product_015     10.31      3  30.93\n",
      "16  Product_016     10.26      6  61.56\n",
      "17  Product_017     11.95      8  95.60\n",
      "18  Product_018     11.22      2  22.44\n",
      "19  Product_019     10.95      4  43.80\n",
      "20  Product_020      8.82      6  52.92\n"
     ]
    }
   ],
   "source": [
    "# 计算Price的值(这种方法是列与列之间对齐后进行计算)\n",
    "books[\"Price\"] = books['OnePrice'] * books['Count']\n",
    "print(books)"
   ]
  },
  {
   "cell_type": "code",
   "execution_count": null,
   "metadata": {},
   "outputs": [],
   "source": [
    "# 行标签索引筛选loc[ ]\n",
    "# df.loc[] 通过标签索引获取行数据，它的语法结构是这样的：df.loc[[行],[列]]，方括号中用逗号分隔，左侧是行、右侧是列。\n",
    "# 千万注意：如果行或者列使用切片的时候，要把方括号去掉，列df.loc['001':'003','name':'weight']。\n",
    "\n",
    "\n",
    "# 行位置索引筛选iloc[ ]"
   ]
  },
  {
   "cell_type": "code",
   "execution_count": 6,
   "metadata": {
    "scrolled": true
   },
   "outputs": [
    {
     "name": "stdout",
     "output_type": "stream",
     "text": [
      "           Name  OnePrice  Count  Price\n",
      "ID                                     \n",
      "1   Product_001      9.82      5  49.10\n",
      "2   Product_002     11.99      4  47.96\n",
      "3   Product_003      9.62      6  57.72\n",
      "4   Product_004     11.08      8  88.64\n",
      "5   Product_005      7.75      3  23.25\n",
      "6   Product_006      7.34      4  29.36\n",
      "7   Product_007     10.97      6  65.82\n",
      "8   Product_008     11.14      7  77.98\n",
      "9   Product_009      8.98      2  17.96\n",
      "10  Product_010      9.18      3  27.54\n",
      "11  Product_011      8.31      4  33.24\n",
      "12  Product_012      7.29      9  65.61\n",
      "13  Product_013      8.36      5  41.80\n",
      "14  Product_014      9.16      6  54.96\n",
      "15  Product_015     10.31      3  30.93\n",
      "16  Product_016     10.26      6  61.56\n",
      "17  Product_017     11.95      8  95.60\n",
      "18  Product_018     11.22      2  22.44\n",
      "19  Product_019     10.95      4  43.80\n",
      "20  Product_020      8.82      6  52.92\n"
     ]
    },
    {
     "name": "stderr",
     "output_type": "stream",
     "text": [
      "/Users/jiazhixiang/workspace/AI/lib/python3.7/site-packages/pandas/core/indexing.py:205: SettingWithCopyWarning: \n",
      "A value is trying to be set on a copy of a slice from a DataFrame\n",
      "\n",
      "See the caveats in the documentation: http://pandas.pydata.org/pandas-docs/stable/user_guide/indexing.html#returning-a-view-versus-a-copy\n",
      "  self._setitem_with_indexer(indexer, value)\n"
     ]
    }
   ],
   "source": [
    "# 如果只想算某一段就可以，使用循环迭代（是单元格与单元格之间的操作）\n",
    "for i in range(5,16):\n",
    "    books[\"Price\"].iloc[i] = books[\"OnePrice\"].iloc[i] * books[\"Count\"].iloc[i]\n",
    "print(books)"
   ]
  },
  {
   "cell_type": "code",
   "execution_count": null,
   "metadata": {},
   "outputs": [],
   "source": []
  }
 ],
 "metadata": {
  "kernelspec": {
   "display_name": "Python 3",
   "language": "python",
   "name": "python3"
  },
  "language_info": {
   "codemirror_mode": {
    "name": "ipython",
    "version": 3
   },
   "file_extension": ".py",
   "mimetype": "text/x-python",
   "name": "python",
   "nbconvert_exporter": "python",
   "pygments_lexer": "ipython3",
   "version": "3.7.3"
  }
 },
 "nbformat": 4,
 "nbformat_minor": 2
}
