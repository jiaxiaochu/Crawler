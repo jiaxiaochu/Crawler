{
 "cells": [
  {
   "cell_type": "markdown",
   "metadata": {},
   "source": [
    "**题目：**全国人口最多的城市**\n",
    "\n",
    "**题目要求：**\n",
    "\n",
    "根据第六次全国人口普查中的常住人口数据，获取全国人口最多的10个城市。\n",
    "\n",
    "文件路径为`../data/liupu.csv`\n",
    "\n",
    ">数据信息：共包含省、地区、结尾、常住人口4个字段\n",
    "\n",
    "难点：根据**结尾**字段的数据，过滤掉省，保留市"
   ]
  },
  {
   "cell_type": "code",
   "execution_count": 2,
   "metadata": {
    "collapsed": true
   },
   "outputs": [
    {
     "name": "stdout",
     "output_type": "stream",
     "text": [
      "     省   地区 结尾        常住人口\n",
      "0  安徽省  安徽省  省  59500468.0\n",
      "1  安徽省  安庆市  市   5311379.0\n",
      "2  安徽省  蚌埠市  市   3164467.0\n",
      "3  安徽省  亳州市  市   4850657.0\n",
      "4  安徽省  巢湖市  市   3873102.0\n"
     ]
    }
   ],
   "source": [
    "import pandas as pd\n",
    "df = pd.read_csv('../data/liupu.csv')\n",
    "# 查看数据\n",
    "print(df.head())"
   ]
  },
  {
   "cell_type": "code",
   "execution_count": 5,
   "metadata": {},
   "outputs": [
    {
     "name": "stdout",
     "output_type": "stream",
     "text": [
      "567    True\n",
      "23     True\n",
      "569    True\n",
      "601    True\n",
      "73     True\n",
      "       ... \n",
      "313    True\n",
      "470    True\n",
      "458    True\n",
      "456    True\n",
      "450    True\n",
      "Name: 结尾, Length: 651, dtype: bool\n"
     ]
    }
   ],
   "source": [
    "# series.str会将每一个数据转换成字符串\n",
    "# contains()判断字符串是否含有指定子串，返回的是bool类型\n",
    "bools = df['结尾'].str.contains(\"市\")\n",
    "print(bools)"
   ]
  },
  {
   "cell_type": "code",
   "execution_count": 4,
   "metadata": {
    "collapsed": true
   },
   "outputs": [
    {
     "name": "stdout",
     "output_type": "stream",
     "text": [
      "        省    地区 结尾        常住人口\n",
      "567   上海市   上海市  市  23019196.0\n",
      "23    北京市   北京市  市  19612368.0\n",
      "569   四川省   成都市  市  14047625.0\n",
      "601   天津市   天津市  市  12938693.0\n",
      "73    广东省   广州市  市  12701948.0\n",
      "157   河北省   保定市  市  11194382.0\n",
      "232  黑龙江省  哈尔滨市  市  10635971.0\n",
      "378   江苏省   苏州市  市  10459890.0\n",
      "95    广东省   深圳市  市  10358381.0\n",
      "204   河南省   南阳市  市  10263660.0\n"
     ]
    }
   ],
   "source": [
    "# 根据人口数倒序排列\n",
    "df = df[bools].sort_values('常住人口',ascending=False)\n",
    "# 获取前十个数据\n",
    "print(df.head(10))"
   ]
  },
  {
   "cell_type": "code",
   "execution_count": null,
   "metadata": {},
   "outputs": [],
   "source": []
  }
 ],
 "metadata": {
  "kernelspec": {
   "display_name": "Python 3",
   "language": "python",
   "name": "python3"
  },
  "language_info": {
   "codemirror_mode": {
    "name": "ipython",
    "version": 3
   },
   "file_extension": ".py",
   "mimetype": "text/x-python",
   "name": "python",
   "nbconvert_exporter": "python",
   "pygments_lexer": "ipython3",
   "version": "3.7.3"
  }
 },
 "nbformat": 4,
 "nbformat_minor": 2
}
