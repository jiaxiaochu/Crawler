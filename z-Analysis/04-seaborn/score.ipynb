{
 "cells": [
  {
   "cell_type": "code",
   "execution_count": 15,
   "metadata": {},
   "outputs": [],
   "source": [
    "import pandas as pd"
   ]
  },
  {
   "cell_type": "code",
   "execution_count": 16,
   "metadata": {},
   "outputs": [],
   "source": [
    "path = \"/Users/jiazhixiang/Desktop/hobby.xlsx\""
   ]
  },
  {
   "cell_type": "code",
   "execution_count": 17,
   "metadata": {},
   "outputs": [
    {
     "data": {
      "text/html": [
       "<div>\n",
       "<style scoped>\n",
       "    .dataframe tbody tr th:only-of-type {\n",
       "        vertical-align: middle;\n",
       "    }\n",
       "\n",
       "    .dataframe tbody tr th {\n",
       "        vertical-align: top;\n",
       "    }\n",
       "\n",
       "    .dataframe thead th {\n",
       "        text-align: right;\n",
       "    }\n",
       "</style>\n",
       "<table border=\"1\" class=\"dataframe\">\n",
       "  <thead>\n",
       "    <tr style=\"text-align: right;\">\n",
       "      <th></th>\n",
       "      <th>姓名</th>\n",
       "      <th>年龄</th>\n",
       "      <th>爱好</th>\n",
       "    </tr>\n",
       "  </thead>\n",
       "  <tbody>\n",
       "    <tr>\n",
       "      <th>0</th>\n",
       "      <td>小红</td>\n",
       "      <td>18</td>\n",
       "      <td>跳舞，唱歌，钢琴</td>\n",
       "    </tr>\n",
       "    <tr>\n",
       "      <th>1</th>\n",
       "      <td>小胖</td>\n",
       "      <td>20</td>\n",
       "      <td>唱,跳,rap,篮球</td>\n",
       "    </tr>\n",
       "    <tr>\n",
       "      <th>2</th>\n",
       "      <td>小花</td>\n",
       "      <td>19</td>\n",
       "      <td>古筝,翻译</td>\n",
       "    </tr>\n",
       "  </tbody>\n",
       "</table>\n",
       "</div>"
      ],
      "text/plain": [
       "   姓名  年龄          爱好\n",
       "0  小红  18    跳舞，唱歌，钢琴\n",
       "1  小胖  20  唱,跳,rap,篮球\n",
       "2  小花  19       古筝,翻译"
      ]
     },
     "execution_count": 17,
     "metadata": {},
     "output_type": "execute_result"
    }
   ],
   "source": [
    "df = pd.read_excel(path)\n",
    "df"
   ]
  },
  {
   "cell_type": "code",
   "execution_count": 18,
   "metadata": {},
   "outputs": [
    {
     "name": "stdout",
     "output_type": "stream",
     "text": [
      "   姓名  年龄        爱好\n",
      "0  小红  18  跳舞，唱歌，钢琴\n",
      "1  小胖  20         唱\n",
      "2  小胖  20         跳\n",
      "3  小胖  20       rap\n",
      "4  小胖  20        篮球\n",
      "5  小花  19        古筝\n",
      "6  小花  19        翻译\n"
     ]
    }
   ],
   "source": [
    "df = df.set_index([\"姓名\", \"年龄\"])[\"爱好\"].str.split(\",\", expand=True).stack().reset_index(drop=True, level=-1).reset_index().rename(columns={0: \"爱好\"})\n",
    "print(df)"
   ]
  },
  {
   "cell_type": "code",
   "execution_count": null,
   "metadata": {},
   "outputs": [],
   "source": [
    "import pandas as pd\n",
    "path = \"/Users/jiazhixiang/Desktop/hobby.xlsx\"\n",
    "df = pd.read_excel(path)\n",
    "# df\n",
    "df = df.set_index([\"姓名\", \"年龄\"])[\"爱好\"].str.split(\",\", expand=True).stack().reset_index(drop=True, level=-1).reset_index().rename(columns={0: \"爱好\"})\n",
    "print(df)"
   ]
  }
 ],
 "metadata": {
  "kernelspec": {
   "display_name": "Python 3",
   "language": "python",
   "name": "python3"
  },
  "language_info": {
   "codemirror_mode": {
    "name": "ipython",
    "version": 3
   },
   "file_extension": ".py",
   "mimetype": "text/x-python",
   "name": "python",
   "nbconvert_exporter": "python",
   "pygments_lexer": "ipython3",
   "version": "3.7.3"
  }
 },
 "nbformat": 4,
 "nbformat_minor": 2
}
