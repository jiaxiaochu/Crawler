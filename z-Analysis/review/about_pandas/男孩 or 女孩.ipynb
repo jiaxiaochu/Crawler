{
 "cells": [
  {
   "cell_type": "markdown",
   "metadata": {},
   "source": [
    "## **题目要求**：男孩 or 女孩\n",
    "\n",
    "## 本练习继续使用上一个练习的数据集，数据路径为：`../data/births.xlsx`。\n",
    "\n",
    "请用两张子图分别绘制出以下图形，并且不同的子图使用不同的风格：\n",
    "\n",
    "1. 绘制出每年出生的男孩柱状图；\n",
    "2. 绘制出每年出生的女孩柱状图；"
   ]
  },
  {
   "cell_type": "code",
   "execution_count": 1,
   "metadata": {},
   "outputs": [
    {
     "data": {
      "text/html": [
       "<div>\n",
       "<style scoped>\n",
       "    .dataframe tbody tr th:only-of-type {\n",
       "        vertical-align: middle;\n",
       "    }\n",
       "\n",
       "    .dataframe tbody tr th {\n",
       "        vertical-align: top;\n",
       "    }\n",
       "\n",
       "    .dataframe thead th {\n",
       "        text-align: right;\n",
       "    }\n",
       "</style>\n",
       "<table border=\"1\" class=\"dataframe\">\n",
       "  <thead>\n",
       "    <tr style=\"text-align: right;\">\n",
       "      <th></th>\n",
       "      <th>year</th>\n",
       "      <th>month</th>\n",
       "      <th>gender</th>\n",
       "      <th>births</th>\n",
       "    </tr>\n",
       "  </thead>\n",
       "  <tbody>\n",
       "    <tr>\n",
       "      <th>0</th>\n",
       "      <td>2000</td>\n",
       "      <td>1</td>\n",
       "      <td>F</td>\n",
       "      <td>161288</td>\n",
       "    </tr>\n",
       "    <tr>\n",
       "      <th>1</th>\n",
       "      <td>2000</td>\n",
       "      <td>1</td>\n",
       "      <td>M</td>\n",
       "      <td>169225</td>\n",
       "    </tr>\n",
       "    <tr>\n",
       "      <th>2</th>\n",
       "      <td>2000</td>\n",
       "      <td>2</td>\n",
       "      <td>F</td>\n",
       "      <td>154694</td>\n",
       "    </tr>\n",
       "    <tr>\n",
       "      <th>3</th>\n",
       "      <td>2000</td>\n",
       "      <td>2</td>\n",
       "      <td>M</td>\n",
       "      <td>162997</td>\n",
       "    </tr>\n",
       "    <tr>\n",
       "      <th>4</th>\n",
       "      <td>2000</td>\n",
       "      <td>3</td>\n",
       "      <td>F</td>\n",
       "      <td>166124</td>\n",
       "    </tr>\n",
       "  </tbody>\n",
       "</table>\n",
       "</div>"
      ],
      "text/plain": [
       "   year  month gender  births\n",
       "0  2000      1      F  161288\n",
       "1  2000      1      M  169225\n",
       "2  2000      2      F  154694\n",
       "3  2000      2      M  162997\n",
       "4  2000      3      F  166124"
      ]
     },
     "execution_count": 1,
     "metadata": {},
     "output_type": "execute_result"
    }
   ],
   "source": [
    "from matplotlib import pyplot as plt\n",
    "import seaborn as sns\n",
    "import pandas as pd\n",
    "\n",
    "# 读取数据\n",
    "data = pd.read_excel('../data/births.xlsx')\n",
    "data.head()"
   ]
  },
  {
   "cell_type": "code",
   "execution_count": 5,
   "metadata": {},
   "outputs": [
    {
     "data": {
      "text/plain": [
       "year  gender\n",
       "2000  F         12\n",
       "      M         12\n",
       "2001  F         12\n",
       "      M         12\n",
       "2002  F         12\n",
       "      M         12\n",
       "2003  F         12\n",
       "      M         12\n",
       "2004  F         12\n",
       "      M         12\n",
       "2005  F         12\n",
       "      M         12\n",
       "2006  F         12\n",
       "      M         12\n",
       "2007  F         12\n",
       "      M         12\n",
       "2008  F         12\n",
       "      M         12\n",
       "dtype: int64"
      ]
     },
     "execution_count": 5,
     "metadata": {},
     "output_type": "execute_result"
    }
   ],
   "source": [
    "from matplotlib import pyplot as plt\n",
    "import seaborn as sns\n",
    "import pandas as pd\n",
    "\n",
    "# 读取数据\n",
    "data = pd.read_excel('../data/births.xlsx')\n",
    "# 根据年份分组\n",
    "groups = data.groupby(['year','gender'])\n",
    "groups.size()"
   ]
  },
  {
   "cell_type": "code",
   "execution_count": 7,
   "metadata": {},
   "outputs": [
    {
     "name": "stdout",
     "output_type": "stream",
     "text": [
      "2000\n",
      "2001\n",
      "2002\n",
      "2003\n",
      "2004\n",
      "2005\n",
      "2006\n",
      "2007\n",
      "2008\n"
     ]
    }
   ],
   "source": [
    "for group_name,group_data in groups:\n",
    "    if 'F' in group_name:\n",
    "        print(group_name[0])"
   ]
  },
  {
   "cell_type": "code",
   "execution_count": 8,
   "metadata": {},
   "outputs": [
    {
     "name": "stdout",
     "output_type": "stream",
     "text": [
      "2000\n",
      "2001\n",
      "2002\n",
      "2003\n",
      "2004\n",
      "2005\n",
      "2006\n",
      "2007\n",
      "2008\n"
     ]
    }
   ],
   "source": [
    "for group_name,group_data in groups:\n",
    "    if 'M' in group_name:\n",
    "        print(group_name[0])"
   ]
  },
  {
   "cell_type": "code",
   "execution_count": 9,
   "metadata": {},
   "outputs": [
    {
     "data": {
      "text/plain": [
       "2177227"
      ]
     },
     "execution_count": 9,
     "metadata": {},
     "output_type": "execute_result"
    }
   ],
   "source": [
    "group_data['births'].sum()"
   ]
  },
  {
   "cell_type": "code",
   "execution_count": 12,
   "metadata": {},
   "outputs": [],
   "source": [
    "def subplot():\n",
    "    for group_name,group_data in groups:\n",
    "        if \"F\" in group_name:\n",
    "            plt.bar(group_name[0],group_data['births'].sum())"
   ]
  },
  {
   "cell_type": "code",
   "execution_count": 15,
   "metadata": {},
   "outputs": [],
   "source": [
    "def subplot(gender):\n",
    "    for group_name,group_data in groups:\n",
    "        if gender in group_name:\n",
    "            plt.bar(group_name[0],group_data['births'].sum())"
   ]
  },
  {
   "cell_type": "code",
   "execution_count": null,
   "metadata": {},
   "outputs": [],
   "source": [
    "matlab中subplot（m，n，p）括号中的代表什么意思？\n",
    "\n",
    "subplot是将多个图画到一个平面上的工具。\n",
    "其中，m和n代表在一个图像窗口中显示m行n列个图像，也就是整个figure中有n个图是排成一行的，一共m行，\n",
    "后面的p代表现在选定第p个图像区域，即在第p个区域作图。如果m=2就是表示2行图。p表示图所在的位置，p=1表示从左到右从上到下的第一个位置。"
   ]
  },
  {
   "cell_type": "code",
   "execution_count": null,
   "metadata": {},
   "outputs": [],
   "source": [
    "# `sns.axes_style()`的作用是临时设置绘图的参数，也就是只设置使用with打开的作用域内的绘图，不会对其他的图造成影响。\n",
    "# 这就是常用seaborn库的风格设置，我们常会使用`sns.set()`设置图形风格，以及使用`with sns.axes_style()`函数给不同的子图设置不同的风格。"
   ]
  },
  {
   "cell_type": "code",
   "execution_count": 16,
   "metadata": {},
   "outputs": [
    {
     "data": {
      "image/png": "[encoded data removed]",
      "text/plain": [
       "<Figure size 432x288 with 1 Axes>"
      ]
     },
     "metadata": {},
     "output_type": "display_data"
    }
   ],
   "source": [
    "with sns.axes_style('darkgrid'):\n",
    "    plt.subplot(211)\n",
    "    subplot(\"F\")\n",
    "plt.show()"
   ]
  },
  {
   "cell_type": "code",
   "execution_count": 17,
   "metadata": {},
   "outputs": [
    {
     "data": {
      "image/png": "[encoded data removed]",
      "text/plain": [
       "<Figure size 432x288 with 1 Axes>"
      ]
     },
     "metadata": {},
     "output_type": "display_data"
    }
   ],
   "source": [
    "with sns.axes_style('darkgrid'):\n",
    "    plt.subplot(211)\n",
    "    subplot(\"M\")\n",
    "plt.show()"
   ]
  },
  {
   "cell_type": "code",
   "execution_count": 19,
   "metadata": {},
   "outputs": [
    {
     "data": {
      "image/png": "[encoded data removed]",
      "text/plain": [
       "<Figure size 432x288 with 2 Axes>"
      ]
     },
     "metadata": {},
     "output_type": "display_data"
    }
   ],
   "source": [
    "def subplot(gender):\n",
    "    for group_name,group_data in groups:\n",
    "        if gender in group_name:\n",
    "            plt.bar(group_name[0],group_data['births'].sum())\n",
    "with sns.axes_style('darkgrid'):\n",
    "    plt.subplot(211)\n",
    "    subplot(\"F\")\n",
    "    \n",
    "with sns.axes_style('darkgrid'):\n",
    "    plt.subplot(212)\n",
    "    subplot(\"M\")\n",
    "\n",
    "    plt.show()"
   ]
  },
  {
   "cell_type": "code",
   "execution_count": 4,
   "metadata": {},
   "outputs": [
    {
     "data": {
      "image/png": "[encoded data removed]",
      "text/plain": [
       "<Figure size 432x288 with 1 Axes>"
      ]
     },
     "metadata": {
      "needs_background": "light"
     },
     "output_type": "display_data"
    }
   ],
   "source": [
    "import pandas as pd\n",
    "import matplotlib.pyplot as plt\n",
    "import seaborn as sns\n",
    "\n",
    "# 读取数据\n",
    "data = pd.read_excel('../data/births.xlsx')\n",
    "\n",
    "# 根据年份进行分组\n",
    "groups = data.groupby(by = 'year')\n",
    "xticks = []\n",
    "for group_name,group_df in groups:\n",
    "    xticks.append(group_name)\n",
    "    plt.bar(group_name,group_df['births'].sum())\n",
    "\n",
    "# 设置x轴的显示范围\n",
    "plt.xticks(xticks)\n",
    "plt.xlabel('year')\n",
    "plt.ylabel('births')\n",
    "sns.set(style='darkgrid')\n",
    "plt.show()"
   ]
  },
  {
   "cell_type": "code",
   "execution_count": null,
   "metadata": {},
   "outputs": [],
   "source": []
  }
 ],
 "metadata": {
  "kernelspec": {
   "display_name": "Python 3",
   "language": "python",
   "name": "python3"
  },
  "language_info": {
   "codemirror_mode": {
    "name": "ipython",
    "version": 3
   },
   "file_extension": ".py",
   "mimetype": "text/x-python",
   "name": "python",
   "nbconvert_exporter": "python",
   "pygments_lexer": "ipython3",
   "version": "3.7.3"
  },
  "toc": {
   "base_numbering": 1,
   "nav_menu": {},
   "number_sections": true,
   "sideBar": true,
   "skip_h1_title": false,
   "title_cell": "Table of Contents",
   "title_sidebar": "Contents",
   "toc_cell": false,
   "toc_position": {},
   "toc_section_display": true,
   "toc_window_display": false
  }
 },
 "nbformat": 4,
 "nbformat_minor": 2
}
