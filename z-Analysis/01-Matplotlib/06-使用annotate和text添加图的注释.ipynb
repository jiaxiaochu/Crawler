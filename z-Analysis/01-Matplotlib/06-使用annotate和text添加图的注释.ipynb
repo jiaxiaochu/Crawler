{
 "cells": [
  {
   "cell_type": "code",
   "execution_count": 1,
   "metadata": {},
   "outputs": [],
   "source": [
    "%matplotlib inline"
   ]
  },
  {
   "cell_type": "code",
   "execution_count": 4,
   "metadata": {},
   "outputs": [],
   "source": [
    "from matplotlib import pyplot as plt\n",
    "import numpy as np\n",
    "from matplotlib import animation"
   ]
  },
  {
   "cell_type": "code",
   "execution_count": 5,
   "metadata": {},
   "outputs": [
    {
     "name": "stdout",
     "output_type": "stream",
     "text": [
      "[ 1.  1.  1.  1.  1.  1.  1.  1.  1.  1.  1.  1.  1.  1.  1.  1.  1.  1.\n",
      "  1.  1.  1.  1.  1.  1.  1.  1.  1.  1.  1.  1.  1.  1.  1.  1.  1.  1.\n",
      "  1.  1.  1.  1.  1.  1.  1.  1.  1.  1.  1.  1.  1.  1.  1.  1.  1.  1.\n",
      "  1.  1.  1.  1.  1.  1.  1.  1.  1.  1.  1.  1.  1.  1.  1.  1.  1.  2.\n",
      "  3.  4.  5.  6.  7.  8.  9. 10. 11. 12. 13. 14. 15. 16. 17. 18. 19. 20.\n",
      " 21. 22. 23. 24. 25. 26. 27. 28. 29. 30.]\n"
     ]
    },
    {
     "data": {
      "text/plain": [
       "Text(30, 2, '这是一段文本')"
      ]
     },
     "execution_count": 5,
     "metadata": {},
     "output_type": "execute_result"
    },
    {
     "data": {
      "image/png": "[encoded data removed]",
      "text/plain": [
       "<Figure size 480x320 with 1 Axes>"
      ]
     },
     "metadata": {},
     "output_type": "display_data"
    }
   ],
   "source": [
    "fig, ax = plt.subplots(nrows=1, ncols=1, dpi=80)\n",
    "\n",
    "# 使用splines以及设置颜色，将上方和右方的坐标去除\n",
    "ax.spines['right'].set_color('none')\n",
    "ax.spines['top'].set_color('none')\n",
    "\n",
    "# 将刻度设置为空，去除刻度\n",
    "plt.xticks([])\n",
    "plt.yticks([])\n",
    "\n",
    "# x,y数据\n",
    "data = np.ones(100)\n",
    "data[70:] = list(range(1, 31))\n",
    "print(data)\n",
    "\n",
    "# 使用annptate添加注释\n",
    "plt.annotate(\n",
    "    '这是一个拐点',\n",
    "    xy=(70, 1), # 箭头指向位置\n",
    "    arrowprops=dict(arrowstyle='->'),#自定义箭头样式 \n",
    "    xytext=(50, 10))# 文本位置\n",
    "\n",
    "plt.plot(data)\n",
    "\n",
    "plt.xlabel('1')\n",
    "plt.ylabel('2')\n",
    "ax.text(\n",
    "    30, 2,# 文本位置\n",
    "    '这是一段文本')"
   ]
  }
 ],
 "metadata": {
  "kernelspec": {
   "display_name": "Python 3",
   "language": "python",
   "name": "python3"
  },
  "language_info": {
   "codemirror_mode": {
    "name": "ipython",
    "version": 3
   },
   "file_extension": ".py",
   "mimetype": "text/x-python",
   "name": "python",
   "nbconvert_exporter": "python",
   "pygments_lexer": "ipython3",
   "version": "3.7.3"
  }
 },
 "nbformat": 4,
 "nbformat_minor": 2
}
