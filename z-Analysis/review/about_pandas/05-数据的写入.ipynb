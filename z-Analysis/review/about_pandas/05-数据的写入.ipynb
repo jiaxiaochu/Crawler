{
 "cells": [
  {
   "cell_type": "markdown",
   "metadata": {},
   "source": [
    "### 通过to_csv()方法将DataFrame保存为csv文件。"
   ]
  },
  {
   "cell_type": "code",
   "execution_count": 2,
   "metadata": {},
   "outputs": [
    {
     "name": "stdout",
     "output_type": "stream",
     "text": [
      "数据写入完毕\n"
     ]
    }
   ],
   "source": [
    "from pandas import Series,DataFrame\n",
    "\n",
    "# 使用字典创建\n",
    "index_list = ['001','002','003','004','005','006','007','008','009','010']\n",
    "name_list = ['李白','王昭君','诸葛亮','狄仁杰','孙尚香','妲己','周瑜','张飞','王昭君','大乔']\n",
    "age_list = [25,28,27,25,30,29,25,32,28,26]\n",
    "salary_list = ['10k','12.5k','20k','14k','12k','17k','18k','21k','22k','21.5k']\n",
    "marital_list = ['NO','NO','YES','YES','NO','NO','NO','YES','NO','YES']\n",
    "dic={\n",
    "    '姓名': Series(data=name_list,index=index_list),\n",
    "    '年龄': Series(data=age_list,index=index_list),\n",
    "    '薪资': Series(data=salary_list,index=index_list),\n",
    "    '婚姻状况': Series(data=marital_list,index=index_list)\n",
    "    }\n",
    "df=DataFrame(dic) \n",
    "\n",
    "# 写入csv，path_or_buf为写入文本文件\n",
    "df.to_csv(path_or_buf='./People_Information.csv', encoding='utf_8_sig')\n",
    "print('数据写入完毕')"
   ]
  },
  {
   "cell_type": "code",
   "execution_count": 3,
   "metadata": {},
   "outputs": [],
   "source": [
    "df.to_csv(path_or_buf='./People_Information2.csv',index=False,encoding='utf_8_sig')"
   ]
  },
  {
   "cell_type": "code",
   "execution_count": null,
   "metadata": {},
   "outputs": [],
   "source": []
  }
 ],
 "metadata": {
  "kernelspec": {
   "display_name": "Python 3",
   "language": "python",
   "name": "python3"
  },
  "language_info": {
   "codemirror_mode": {
    "name": "ipython",
    "version": 3
   },
   "file_extension": ".py",
   "mimetype": "text/x-python",
   "name": "python",
   "nbconvert_exporter": "python",
   "pygments_lexer": "ipython3",
   "version": "3.7.3"
  }
 },
 "nbformat": 4,
 "nbformat_minor": 2
}
