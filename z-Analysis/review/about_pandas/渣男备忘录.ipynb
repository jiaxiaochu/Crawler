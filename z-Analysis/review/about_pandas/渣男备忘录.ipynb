{
 "cells": [
  {
   "cell_type": "markdown",
   "metadata": {},
   "source": [
    "## 题目要求：\n",
    "    渣男不可怕就怕渣男有“文化”，下面是一个渣男的标准备忘录，现在需要创建一个DataFrame来保存这些信息（你认为渣男还需要记录哪些信息，可以自行添加🙂）\n",
    "## 题目讲解：\n",
    "    创造DataFrame的流程如下：\n",
    "        1. 将表格中的每一列创建成Series，作为字典的值。\n",
    "        2. 将列名作为字典中的键。\n",
    "        3. 调用DataFrame的构造方法来创建DataFrame。\n",
    "        4. 在屏幕打印DataFrame的数据\n",
    "***\n",
    "```\n",
    "姓名    类型         爱好             时间\n",
    "娜娜  可爱单纯  逛街、电影、爱吃甜  2019-2-14去看电影\n",
    "淼淼  风骚火辣  喝酒、蹦迪、爱吃辣   2019-2-16去蹦迪\n",
    "依依  性感高冷  看书、烘焙、爱吃酸   2019-2-18去烘焙\n",
    "```"
   ]
  },
  {
   "cell_type": "code",
   "execution_count": 5,
   "metadata": {},
   "outputs": [],
   "source": [
    "# 1.导包\n",
    "# 2.将表格中的每一列创建成Series，并将其作为字典的值\n",
    "# 3.构造一个字典，用来存储数据，其中字典的键是列表每一列的列名，字典的值是每一列的值（也就是我们上一步创建的Series）\n",
    "# 4.调用DataFrame构造方法，创建DataFrame\n",
    "# 5.打印输出查看"
   ]
  },
  {
   "cell_type": "code",
   "execution_count": 9,
   "metadata": {},
   "outputs": [],
   "source": [
    "# 1.导包\n",
    "from pandas import DataFrame,Series"
   ]
  },
  {
   "cell_type": "code",
   "execution_count": 10,
   "metadata": {},
   "outputs": [],
   "source": [
    "# 2.将表格中的每一列创建成Series，并将其作为字典的值\n",
    "# Series(['娜娜','淼淼','依依'])\n",
    "# Series(['可爱单纯','风骚火辣','性感高冷'])\n",
    "# Series(['逛街、电影、爱吃甜','喝酒、蹦迪、爱吃辣','看书、烘焙、爱吃酸'])\n",
    "# Series(['2019-2-14去看电影','2019-2-16去蹦迪','2019-2-18去烘焙'])"
   ]
  },
  {
   "cell_type": "code",
   "execution_count": 11,
   "metadata": {},
   "outputs": [],
   "source": [
    "# 3.构造一个字典，用来存储数据，其中字典的键是列表每一列的列名，字典的值是每一列的值（也就是我们上一步创建的Series）\n",
    "dic = {\n",
    "    \"姓名\":Series(['娜娜','淼淼','依依']),\n",
    "    \"类型\":Series(['可爱单纯','风骚火辣','性感高冷']),\n",
    "    \"爱好\":Series(['逛街、电影、爱吃甜','喝酒、蹦迪、爱吃辣','看书、烘焙、爱吃酸']),\n",
    "    \"时间\":Series(['2019-2-14去看电影','2019-2-16去蹦迪','2019-2-18去烘焙'])\n",
    "}"
   ]
  },
  {
   "cell_type": "code",
   "execution_count": 12,
   "metadata": {},
   "outputs": [],
   "source": [
    "# 4.调用DataFrame构造方法，创建DataFrame\n",
    "df = DataFrame(data=dic)"
   ]
  },
  {
   "cell_type": "code",
   "execution_count": 13,
   "metadata": {},
   "outputs": [
    {
     "name": "stdout",
     "output_type": "stream",
     "text": [
      "   姓名    类型         爱好             时间\n",
      "0  娜娜  可爱单纯  逛街、电影、爱吃甜  2019-2-14去看电影\n",
      "1  淼淼  风骚火辣  喝酒、蹦迪、爱吃辣   2019-2-16去蹦迪\n",
      "2  依依  性感高冷  看书、烘焙、爱吃酸   2019-2-18去烘焙\n"
     ]
    }
   ],
   "source": [
    "# 5.打印输出查看\n",
    "print(df)03-"
   ]
  },
  {
   "cell_type": "code",
   "execution_count": null,
   "metadata": {},
   "outputs": [],
   "source": []
  }
 ],
 "metadata": {
  "kernelspec": {
   "display_name": "Python 3",
   "language": "python",
   "name": "python3"
  },
  "language_info": {
   "codemirror_mode": {
    "name": "ipython",
    "version": 3
   },
   "file_extension": ".py",
   "mimetype": "text/x-python",
   "name": "python",
   "nbconvert_exporter": "python",
   "pygments_lexer": "ipython3",
   "version": "3.7.3"
  }
 },
 "nbformat": 4,
 "nbformat_minor": 2
}
