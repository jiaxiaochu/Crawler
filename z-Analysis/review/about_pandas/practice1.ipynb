{
 "cells": [
  {
   "cell_type": "code",
   "execution_count": 1,
   "metadata": {},
   "outputs": [],
   "source": [
    "from pandas import DataFrame"
   ]
  },
  {
   "cell_type": "code",
   "execution_count": 3,
   "metadata": {},
   "outputs": [],
   "source": [
    "# 使用字典创建\n",
    "dic={\n",
    "    '姓名': ['小罗伯特·唐尼', '克里斯·埃文斯', '斯嘉丽·约翰逊', '克里斯·海姆斯沃斯'],\n",
    "    '饰演': ['钢铁侠', '美国队长', '黑寡妇', '雷神'],\n",
    "    '武器': ['钢铁战衣', '盾牌', '寡妇蜇', '雷神之锤'],\n",
    "    '语录': ['和平,我热爱和平','最好的选择就是重新开始 ','嘿，大兄弟，太阳下山了','要用知识来打败无知']\n",
    "}"
   ]
  },
  {
   "cell_type": "code",
   "execution_count": 4,
   "metadata": {},
   "outputs": [
    {
     "data": {
      "text/html": [
       "<div>\n",
       "<style scoped>\n",
       "    .dataframe tbody tr th:only-of-type {\n",
       "        vertical-align: middle;\n",
       "    }\n",
       "\n",
       "    .dataframe tbody tr th {\n",
       "        vertical-align: top;\n",
       "    }\n",
       "\n",
       "    .dataframe thead th {\n",
       "        text-align: right;\n",
       "    }\n",
       "</style>\n",
       "<table border=\"1\" class=\"dataframe\">\n",
       "  <thead>\n",
       "    <tr style=\"text-align: right;\">\n",
       "      <th></th>\n",
       "      <th>姓名</th>\n",
       "      <th>饰演</th>\n",
       "      <th>武器</th>\n",
       "      <th>语录</th>\n",
       "    </tr>\n",
       "  </thead>\n",
       "  <tbody>\n",
       "    <tr>\n",
       "      <th>0</th>\n",
       "      <td>小罗伯特·唐尼</td>\n",
       "      <td>钢铁侠</td>\n",
       "      <td>钢铁战衣</td>\n",
       "      <td>和平,我热爱和平</td>\n",
       "    </tr>\n",
       "    <tr>\n",
       "      <th>1</th>\n",
       "      <td>克里斯·埃文斯</td>\n",
       "      <td>美国队长</td>\n",
       "      <td>盾牌</td>\n",
       "      <td>最好的选择就是重新开始</td>\n",
       "    </tr>\n",
       "    <tr>\n",
       "      <th>2</th>\n",
       "      <td>斯嘉丽·约翰逊</td>\n",
       "      <td>黑寡妇</td>\n",
       "      <td>寡妇蜇</td>\n",
       "      <td>嘿，大兄弟，太阳下山了</td>\n",
       "    </tr>\n",
       "    <tr>\n",
       "      <th>3</th>\n",
       "      <td>克里斯·海姆斯沃斯</td>\n",
       "      <td>雷神</td>\n",
       "      <td>雷神之锤</td>\n",
       "      <td>要用知识来打败无知</td>\n",
       "    </tr>\n",
       "  </tbody>\n",
       "</table>\n",
       "</div>"
      ],
      "text/plain": [
       "          姓名    饰演    武器            语录\n",
       "0    小罗伯特·唐尼   钢铁侠  钢铁战衣      和平,我热爱和平\n",
       "1    克里斯·埃文斯  美国队长    盾牌  最好的选择就是重新开始 \n",
       "2    斯嘉丽·约翰逊   黑寡妇   寡妇蜇   嘿，大兄弟，太阳下山了\n",
       "3  克里斯·海姆斯沃斯    雷神  雷神之锤     要用知识来打败无知"
      ]
     },
     "execution_count": 4,
     "metadata": {},
     "output_type": "execute_result"
    }
   ],
   "source": [
    "df = DataFrame(data=dic)\n",
    "df"
   ]
  },
  {
   "cell_type": "markdown",
   "metadata": {},
   "source": [
    "***"
   ]
  },
  {
   "cell_type": "code",
   "execution_count": 5,
   "metadata": {},
   "outputs": [
    {
     "data": {
      "text/html": [
       "<div>\n",
       "<style scoped>\n",
       "    .dataframe tbody tr th:only-of-type {\n",
       "        vertical-align: middle;\n",
       "    }\n",
       "\n",
       "    .dataframe tbody tr th {\n",
       "        vertical-align: top;\n",
       "    }\n",
       "\n",
       "    .dataframe thead th {\n",
       "        text-align: right;\n",
       "    }\n",
       "</style>\n",
       "<table border=\"1\" class=\"dataframe\">\n",
       "  <thead>\n",
       "    <tr style=\"text-align: right;\">\n",
       "      <th></th>\n",
       "      <th>姓名</th>\n",
       "      <th>类型</th>\n",
       "      <th>爱好</th>\n",
       "      <th>时间</th>\n",
       "    </tr>\n",
       "  </thead>\n",
       "  <tbody>\n",
       "    <tr>\n",
       "      <th>No1</th>\n",
       "      <td>娜娜</td>\n",
       "      <td>可爱单纯</td>\n",
       "      <td>逛街、电影、爱吃甜</td>\n",
       "      <td>2019-2-14去看电影</td>\n",
       "    </tr>\n",
       "    <tr>\n",
       "      <th>No2</th>\n",
       "      <td>淼淼</td>\n",
       "      <td>风骚火辣</td>\n",
       "      <td>喝酒、蹦迪、爱吃辣</td>\n",
       "      <td>2019-2-16去蹦迪</td>\n",
       "    </tr>\n",
       "    <tr>\n",
       "      <th>No3</th>\n",
       "      <td>依依</td>\n",
       "      <td>性感高冷</td>\n",
       "      <td>看书、烘焙、爱吃酸</td>\n",
       "      <td>2019-2-18去烘焙</td>\n",
       "    </tr>\n",
       "  </tbody>\n",
       "</table>\n",
       "</div>"
      ],
      "text/plain": [
       "     姓名    类型         爱好             时间\n",
       "No1  娜娜  可爱单纯  逛街、电影、爱吃甜  2019-2-14去看电影\n",
       "No2  淼淼  风骚火辣  喝酒、蹦迪、爱吃辣   2019-2-16去蹦迪\n",
       "No3  依依  性感高冷  看书、烘焙、爱吃酸   2019-2-18去烘焙"
      ]
     },
     "execution_count": 5,
     "metadata": {},
     "output_type": "execute_result"
    }
   ],
   "source": [
    "from pandas import Series,DataFrame\n",
    "# 使用字典创建\n",
    "index_list = ['No1','No2','No3']\n",
    "dic={\n",
    "    '姓名': Series(['娜娜','淼淼','依依'],index=index_list),\n",
    "    '类型': Series(['可爱单纯','风骚火辣','性感高冷'],index=index_list),\n",
    "    '爱好': Series(['逛街、电影、爱吃甜','喝酒、蹦迪、爱吃辣','看书、烘焙、爱吃酸'],index=index_list),\n",
    "    '时间': Series(['2019-2-14去看电影','2019-2-16去蹦迪','2019-2-18去烘焙'],index=index_list)\n",
    "    }\n",
    "df = DataFrame(data=dic)\n",
    "df"
   ]
  },
  {
   "cell_type": "code",
   "execution_count": null,
   "metadata": {},
   "outputs": [],
   "source": []
  }
 ],
 "metadata": {
  "kernelspec": {
   "display_name": "Python 3",
   "language": "python",
   "name": "python3"
  },
  "language_info": {
   "codemirror_mode": {
    "name": "ipython",
    "version": 3
   },
   "file_extension": ".py",
   "mimetype": "text/x-python",
   "name": "python",
   "nbconvert_exporter": "python",
   "pygments_lexer": "ipython3",
   "version": "3.7.3"
  }
 },
 "nbformat": 4,
 "nbformat_minor": 2
}
