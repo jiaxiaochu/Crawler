{
 "cells": [
  {
   "cell_type": "markdown",
   "metadata": {},
   "source": [
    "# 日期和时间数据类型\n",
    "\n",
    "Python标准库包含了日期和时间数据的数据类型，datetime模块是开始处理时间数据最广泛的。\n",
    "\n",
    "## datetime的日期和时间数据类型\n",
    "\n",
    "下面我们先简单的了解下python日期和时间数据类型。\n",
    "\n",
    "datetime是一个关于时间的库，常用的类有：\n",
    "\n",
    "\n",
    "| 类型     | 说明                                 |\n",
    "| -------- | ------------------------------------ |\n",
    "| date     | 以公历形式存储日历日期（年、月、日） |\n",
    "| time     | 将时间存储为时、分、秒               |\n",
    "| datetime | 存储日期和时间                       |\n",
    "\n"
   ]
  },
  {
   "cell_type": "markdown",
   "metadata": {},
   "source": [
    "### datetime各个类型的创建和获取"
   ]
  },
  {
   "cell_type": "markdown",
   "metadata": {},
   "source": [
    "#### 日期(date)类型的使用："
   ]
  },
  {
   "cell_type": "code",
   "execution_count": 9,
   "metadata": {},
   "outputs": [
    {
     "name": "stdout",
     "output_type": "stream",
     "text": [
      "2019-09-09\n",
      "2019\n",
      "9\n",
      "9\n"
     ]
    }
   ],
   "source": [
    "# 导入datetime模块\n",
    "import datetime\n",
    "# 创建日期\n",
    "date = datetime.date(2019, 9, 9)\n",
    "print(date)\n",
    "# 获取年\n",
    "print(date.year)\n",
    "# 获取月\n",
    "print(date.month)\n",
    "# 获取日\n",
    "print(date.day)"
   ]
  },
  {
   "cell_type": "markdown",
   "metadata": {},
   "source": [
    "#### 时间(time)类型的使用:"
   ]
  },
  {
   "cell_type": "code",
   "execution_count": 4,
   "metadata": {},
   "outputs": [
    {
     "name": "stdout",
     "output_type": "stream",
     "text": [
      "13:14:20\n",
      "13\n",
      "14\n",
      "20\n"
     ]
    }
   ],
   "source": [
    "# 创建时间\n",
    "import datetime\n",
    "time = datetime.time(13, 14, 20)\n",
    "print(time)\n",
    "# 获取小时\n",
    "print(time.hour)\n",
    "# 获取分钟\n",
    "print(time.minute)\n",
    "# 获取秒\n",
    "print(time.second)"
   ]
  },
  {
   "cell_type": "markdown",
   "metadata": {},
   "source": [
    "#### **日期和时间的结合体--日期时间(datetime)：**"
   ]
  },
  {
   "cell_type": "code",
   "execution_count": 5,
   "metadata": {},
   "outputs": [
    {
     "name": "stdout",
     "output_type": "stream",
     "text": [
      "2019-09-09 13:14:20\n",
      "2019\n",
      "9\n",
      "9\n",
      "13\n",
      "14\n",
      "20\n"
     ]
    }
   ],
   "source": [
    "import datetime\n",
    "# 创建日期时间\n",
    "datetime = datetime.datetime(2019, 9, 9, 13, 14, 20)\n",
    "print(datetime)\n",
    "# 获取年\n",
    "print(datetime.year)\n",
    "# 获取月\n",
    "print(datetime.month)\n",
    "# 获取日\n",
    "print(datetime.day)\n",
    "# 获取小时\n",
    "print(datetime.hour)\n",
    "# 获取分钟\n",
    "print(datetime.minute)\n",
    "# 获取秒\n",
    "print(datetime.second)"
   ]
  },
  {
   "cell_type": "markdown",
   "metadata": {},
   "source": [
    "datetime的time方法可以创建时间，date方法可以创建日期，datetime方法则是日期和时间的结合体。\n",
    "\n",
    "同过`year`、`month`、`day`、`hour`、`minute`、`second`属性，可以获取到相应的日期或者时间的值。\n",
    "\n",
    "同样，使用`datetime.datetime.now()`方法可以获取到当前时间："
   ]
  },
  {
   "cell_type": "code",
   "execution_count": 10,
   "metadata": {},
   "outputs": [
    {
     "data": {
      "text/plain": [
       "datetime.datetime(2020, 3, 16, 18, 27, 7, 273628)"
      ]
     },
     "execution_count": 10,
     "metadata": {},
     "output_type": "execute_result"
    }
   ],
   "source": [
    "datetime.datetime.now()"
   ]
  },
  {
   "cell_type": "code",
   "execution_count": null,
   "metadata": {},
   "outputs": [],
   "source": []
  },
  {
   "cell_type": "markdown",
   "metadata": {},
   "source": [
    "### datetime与字符串转换"
   ]
  },
  {
   "cell_type": "code",
   "execution_count": 12,
   "metadata": {},
   "outputs": [
    {
     "name": "stdout",
     "output_type": "stream",
     "text": [
      "<class 'datetime.datetime'>\n",
      "2019-09-09 13:14:20\n",
      "<class 'str'>\n"
     ]
    }
   ],
   "source": [
    "import datetime\n",
    "date_time = datetime.datetime(2019, 9, 9, 13, 14, 20)\n",
    "print(type(date_time))\n",
    "str_date_time = str(date_time)\n",
    "print(str_date_time)\n",
    "print(type(str_date_time))\n",
    "\n",
    "\n",
    "# 需要注意的是它的类型是datetime，并不是str\n",
    "# 如果我们只是单一的想改变类型，就可以使用强制类型转换："
   ]
  },
  {
   "cell_type": "code",
   "execution_count": 13,
   "metadata": {},
   "outputs": [
    {
     "data": {
      "text/plain": [
       "'09/09/2019 13:14'"
      ]
     },
     "execution_count": 13,
     "metadata": {},
     "output_type": "execute_result"
    }
   ],
   "source": [
    "# 将`datetime.datetime(2019, 9, 9, 13, 14, 20)`转换成`9/9/2019 13:14`样式的字符串\n",
    "import datetime\n",
    "date_time = datetime.datetime(2019, 9, 9, 13, 14, 20)\n",
    "str_time = date_time.strftime('%m/%d/%Y %H:%M')\n",
    "str_time"
   ]
  },
  {
   "cell_type": "markdown",
   "metadata": {},
   "source": []
  },
  {
   "cell_type": "code",
   "execution_count": 1,
   "metadata": {},
   "outputs": [
    {
     "name": "stdout",
     "output_type": "stream",
     "text": [
      "2019-08-23 20:13:00\n"
     ]
    }
   ],
   "source": [
    "import datetime\n",
    "strp = datetime.datetime.strptime('Aug-23-19 20:13', '%b-%d-%y %H:%M')\n",
    "print(strp)"
   ]
  },
  {
   "cell_type": "markdown",
   "metadata": {},
   "source": [
    "## Pandas时间序列基础"
   ]
  },
  {
   "cell_type": "markdown",
   "metadata": {},
   "source": [
    "#### 创建一个时间范围\n",
    "\n",
    "使用Pandas的`date_range()`方法可以快速创建出一个日期范围。"
   ]
  },
  {
   "cell_type": "code",
   "execution_count": 18,
   "metadata": {
    "collapsed": true
   },
   "outputs": [
    {
     "data": {
      "text/plain": [
       "DatetimeIndex(['2019-05-05', '2019-05-06', '2019-05-07', '2019-05-08',\n",
       "               '2019-05-09', '2019-05-10', '2019-05-11', '2019-05-12',\n",
       "               '2019-05-13', '2019-05-14', '2019-05-15', '2019-05-16',\n",
       "               '2019-05-17', '2019-05-18', '2019-05-19', '2019-05-20',\n",
       "               '2019-05-21', '2019-05-22', '2019-05-23', '2019-05-24',\n",
       "               '2019-05-25', '2019-05-26', '2019-05-27', '2019-05-28',\n",
       "               '2019-05-29', '2019-05-30', '2019-05-31', '2019-06-01',\n",
       "               '2019-06-02', '2019-06-03', '2019-06-04', '2019-06-05',\n",
       "               '2019-06-06'],\n",
       "              dtype='datetime64[ns]', freq='D')"
      ]
     },
     "execution_count": 18,
     "metadata": {},
     "output_type": "execute_result"
    }
   ],
   "source": [
    "import pandas as pd\n",
    "# pd.date_range(start=None,end=None,periods=None,freq=\"D\")"
   ]
  },
  {
   "cell_type": "markdown",
   "metadata": {},
   "source": [
    "`start`:日期范围的开始\n",
    "\n",
    "`end`:日期范围的结束\n",
    "\n",
    "`periods`:固定日期的个数\n",
    "\n",
    "`freq`:日期偏移量，取值为string, 默认为'D'，即：一天为日期偏移量"
   ]
  },
  {
   "cell_type": "code",
   "execution_count": 20,
   "metadata": {
    "collapsed": true
   },
   "outputs": [
    {
     "data": {
      "text/plain": [
       "DatetimeIndex(['2019-05-05', '2019-05-06', '2019-05-07', '2019-05-08',\n",
       "               '2019-05-09', '2019-05-10', '2019-05-11', '2019-05-12',\n",
       "               '2019-05-13', '2019-05-14', '2019-05-15', '2019-05-16',\n",
       "               '2019-05-17', '2019-05-18', '2019-05-19', '2019-05-20',\n",
       "               '2019-05-21', '2019-05-22', '2019-05-23', '2019-05-24',\n",
       "               '2019-05-25', '2019-05-26', '2019-05-27', '2019-05-28',\n",
       "               '2019-05-29', '2019-05-30', '2019-05-31', '2019-06-01',\n",
       "               '2019-06-02', '2019-06-03', '2019-06-04', '2019-06-05',\n",
       "               '2019-06-06'],\n",
       "              dtype='datetime64[ns]', freq='D')"
      ]
     },
     "execution_count": 20,
     "metadata": {},
     "output_type": "execute_result"
    }
   ],
   "source": [
    "# 使用`start`和`end`以及默认的`freq`参数创建：\n",
    "date= pd.date_range(start='20190505',end='20190606')\n",
    "date"
   ]
  },
  {
   "cell_type": "code",
   "execution_count": 22,
   "metadata": {},
   "outputs": [
    {
     "data": {
      "text/plain": [
       "DatetimeIndex(['2019-05-05', '2019-05-15', '2019-05-25', '2019-06-04'], dtype='datetime64[ns]', freq='10D')"
      ]
     },
     "execution_count": 22,
     "metadata": {},
     "output_type": "execute_result"
    }
   ],
   "source": [
    "# 使用`start`和`end`以及频率参数`freq`为10天创建：\n",
    "date= pd.date_range(start='20190505',end='20190606',freq=\"10D\")\n",
    "# start和end以及freq配合能够生成start和end范围内以频率freq的一组时间索引。\n",
    "date"
   ]
  },
  {
   "cell_type": "code",
   "execution_count": 30,
   "metadata": {
    "collapsed": true
   },
   "outputs": [
    {
     "data": {
      "text/plain": [
       "DatetimeIndex(['2019-05-05', '2019-05-06', '2019-05-07', '2019-05-08',\n",
       "               '2019-05-09', '2019-05-10', '2019-05-11', '2019-05-12',\n",
       "               '2019-05-13', '2019-05-14'],\n",
       "              dtype='datetime64[ns]', freq='D')"
      ]
     },
     "execution_count": 30,
     "metadata": {},
     "output_type": "execute_result"
    }
   ],
   "source": [
    "# 使用`start`和`periods`以及默认的频率参数创建：\n",
    "date= pd.date_range(start='20190505',periods=10,freq=\"D\")\n",
    "# start和periods以及freq配合能够生成从start开始的频率为freq的periods个时间索引。\n",
    "date"
   ]
  },
  {
   "cell_type": "markdown",
   "metadata": {},
   "source": [
    "根据上面的运行结果可以得出以下结论：\n",
    "\n",
    ">`start`和`end`以及`freq`配合能够生成start和end范围内以频率freq的一组时间索引。\n",
    ">\n",
    ">`start`和`periods`以及`freq`配合能够生成从`start`开始的频率为`freq`的`periods`个时间索引。"
   ]
  },
  {
   "cell_type": "code",
   "execution_count": null,
   "metadata": {},
   "outputs": [],
   "source": [
    "上面我们提到时间索引，是因为`date_range()`方法生成的对象类型是`DatetimeIndex`，这个类型就是pandas中的时间索引类型。"
   ]
  },
  {
   "cell_type": "code",
   "execution_count": null,
   "metadata": {},
   "outputs": [],
   "source": []
  },
  {
   "cell_type": "markdown",
   "metadata": {},
   "source": [
    "### 在数据中索引和切片时间序列数据"
   ]
  },
  {
   "cell_type": "code",
   "execution_count": null,
   "metadata": {},
   "outputs": [],
   "source": [
    "有时候我们会对一天或者一个月的数据进行分析，这就需要我们将时间设置成数据的索引，然后通过时间索引获取到一定时间范围内的数据进行分析。\n",
    "\n",
    "现在我们创建一个以时间序列为索引的Series数据。\n",
    "\n",
    "首先，使用`pd.date_range()`来创建从`2019-01-01`开始的时间索引："
   ]
  },
  {
   "cell_type": "code",
   "execution_count": 24,
   "metadata": {
    "collapsed": true
   },
   "outputs": [
    {
     "data": {
      "text/plain": [
       "DatetimeIndex(['2019-01-01', '2019-01-02', '2019-01-03', '2019-01-04',\n",
       "               '2019-01-05', '2019-01-06', '2019-01-07', '2019-01-08',\n",
       "               '2019-01-09', '2019-01-10',\n",
       "               ...\n",
       "               '2019-12-22', '2019-12-23', '2019-12-24', '2019-12-25',\n",
       "               '2019-12-26', '2019-12-27', '2019-12-28', '2019-12-29',\n",
       "               '2019-12-30', '2019-12-31'],\n",
       "              dtype='datetime64[ns]', length=365, freq='D')"
      ]
     },
     "execution_count": 24,
     "metadata": {},
     "output_type": "execute_result"
    }
   ],
   "source": [
    "import pandas as pd\n",
    "time_index = pd.date_range('2019-01-01', periods=365)\n",
    "time_index"
   ]
  },
  {
   "cell_type": "code",
   "execution_count": null,
   "metadata": {},
   "outputs": [],
   "source": [
    "最后，创建出以时间序列为索引的Series数据，运行下方代码，查看数据："
   ]
  },
  {
   "cell_type": "code",
   "execution_count": 25,
   "metadata": {
    "collapsed": true
   },
   "outputs": [
    {
     "data": {
      "text/plain": [
       "2019-01-01     5\n",
       "2019-01-02    97\n",
       "2019-01-03    76\n",
       "2019-01-04     6\n",
       "2019-01-05    27\n",
       "              ..\n",
       "2020-01-31    23\n",
       "2020-02-01    60\n",
       "2020-02-02    70\n",
       "2020-02-03    20\n",
       "2020-02-04    26\n",
       "Freq: D, Length: 400, dtype: int64"
      ]
     },
     "execution_count": 25,
     "metadata": {},
     "output_type": "execute_result"
    }
   ],
   "source": [
    "import pandas as pd\n",
    "import numpy as np\n",
    "time_index = pd.date_range('2019-01-01', periods=400)\n",
    "time_data = np.random.randint(100,size=400)\n",
    "date_time = pd.Series(data=time_data,index=time_index)\n",
    "date_time"
   ]
  },
  {
   "cell_type": "code",
   "execution_count": 26,
   "metadata": {
    "collapsed": true
   },
   "outputs": [
    {
     "data": {
      "text/plain": [
       "2020-01-01    31\n",
       "2020-01-02    83\n",
       "2020-01-03    77\n",
       "2020-01-04    12\n",
       "2020-01-05    52\n",
       "2020-01-06    93\n",
       "2020-01-07    38\n",
       "2020-01-08    75\n",
       "2020-01-09    17\n",
       "2020-01-10    34\n",
       "2020-01-11    18\n",
       "2020-01-12    32\n",
       "2020-01-13     0\n",
       "2020-01-14     8\n",
       "2020-01-15    75\n",
       "2020-01-16    10\n",
       "2020-01-17     0\n",
       "2020-01-18    60\n",
       "2020-01-19    40\n",
       "2020-01-20    48\n",
       "2020-01-21    97\n",
       "2020-01-22    17\n",
       "2020-01-23    45\n",
       "2020-01-24    52\n",
       "2020-01-25    45\n",
       "2020-01-26    22\n",
       "2020-01-27    89\n",
       "2020-01-28    37\n",
       "2020-01-29    85\n",
       "2020-01-30    49\n",
       "2020-01-31    23\n",
       "2020-02-01    60\n",
       "2020-02-02    70\n",
       "2020-02-03    20\n",
       "2020-02-04    26\n",
       "Freq: D, dtype: int64"
      ]
     },
     "execution_count": 26,
     "metadata": {},
     "output_type": "execute_result"
    }
   ],
   "source": [
    "# 可以依据年份进行索引\n",
    "date_time['2020']"
   ]
  },
  {
   "cell_type": "code",
   "execution_count": 27,
   "metadata": {
    "collapsed": true
   },
   "outputs": [
    {
     "data": {
      "text/plain": [
       "2019-10-01    83\n",
       "2019-10-02    51\n",
       "2019-10-03    85\n",
       "2019-10-04    87\n",
       "2019-10-05    15\n",
       "2019-10-06    35\n",
       "2019-10-07    34\n",
       "2019-10-08    47\n",
       "2019-10-09    73\n",
       "2019-10-10     6\n",
       "2019-10-11     2\n",
       "2019-10-12    30\n",
       "2019-10-13    88\n",
       "2019-10-14    83\n",
       "2019-10-15    86\n",
       "2019-10-16    89\n",
       "2019-10-17    47\n",
       "2019-10-18    40\n",
       "2019-10-19    14\n",
       "2019-10-20    25\n",
       "2019-10-21    43\n",
       "2019-10-22    51\n",
       "2019-10-23     1\n",
       "2019-10-24    24\n",
       "2019-10-25    25\n",
       "2019-10-26     3\n",
       "2019-10-27    31\n",
       "2019-10-28    21\n",
       "2019-10-29    95\n",
       "2019-10-30    48\n",
       "2019-10-31    94\n",
       "Freq: D, dtype: int64"
      ]
     },
     "execution_count": 27,
     "metadata": {},
     "output_type": "execute_result"
    }
   ],
   "source": [
    "# 可以依据年和月进行索引：\n",
    "date_time['2019-10']"
   ]
  },
  {
   "cell_type": "code",
   "execution_count": 28,
   "metadata": {
    "collapsed": true
   },
   "outputs": [
    {
     "data": {
      "text/plain": [
       "2019-10-05    15\n",
       "2019-10-06    35\n",
       "2019-10-07    34\n",
       "2019-10-08    47\n",
       "2019-10-09    73\n",
       "2019-10-10     6\n",
       "Freq: D, dtype: int64"
      ]
     },
     "execution_count": 28,
     "metadata": {},
     "output_type": "execute_result"
    }
   ],
   "source": [
    "# 可以使用时间戳进行切片获取数据\n",
    "date_time['2019-10-05':'2019-10-10']"
   ]
  },
  {
   "cell_type": "code",
   "execution_count": null,
   "metadata": {},
   "outputs": [],
   "source": []
  },
  {
   "cell_type": "markdown",
   "metadata": {},
   "source": [
    "### to_datetime改变时间格式"
   ]
  },
  {
   "cell_type": "markdown",
   "metadata": {},
   "source": [
    "有的时候用csv导入到时间数据时，默认的是字符串的数据类型 ，当可视化的时候，会出现没有按时间先后顺序的方式绘图 ，所以需要将字符串解析为时间类型的数据类型。   \n",
    "\n",
    "使用Pandas的`to_datetime()`方法可以将字符串形式的日期转换成时间格式。\n",
    "\n",
    "\n",
    "```python\n",
    "pd.to_datetime(arg,format=None)\n",
    "```\n",
    "\n",
    "> arg：需要修改的数据\n",
    ">\n",
    "> format：数据的格式\n",
    "\n",
    "`to_datetime()`方法会将字符串类型的是时间转换成`Timestamp('2019-10-05 00:00:00')`时间戳类型。\n",
    "\n",
    "```python\n",
    "pd.to_datetime('2019-10-05')\n",
    "```\n",
    "\n",
    "如果想对时间格式修改，还可以使用`to_pydatetime()`方法将`Timestamp`类型转换成datetime类型。\n",
    "\n",
    "```python\n",
    "pd.to_datetime('2019-10-05').to_pydatetime()\n",
    "```\n",
    "\n",
    "需要注意的是字符串日期中包含中文，我们可以这样处理：\n",
    "\n",
    "```python\n",
    "pd.to_datetime('2019年10月10日',format='%Y年%m月%d日')\n",
    "```\n",
    "\n",
    "请抄写上面代码到代码框，并运行。"
   ]
  },
  {
   "cell_type": "code",
   "execution_count": null,
   "metadata": {},
   "outputs": [],
   "source": []
  }
 ],
 "metadata": {
  "kernelspec": {
   "display_name": "Python 3",
   "language": "python",
   "name": "python3"
  },
  "language_info": {
   "codemirror_mode": {
    "name": "ipython",
    "version": 3
   },
   "file_extension": ".py",
   "mimetype": "text/x-python",
   "name": "python",
   "nbconvert_exporter": "python",
   "pygments_lexer": "ipython3",
   "version": "3.7.3"
  }
 },
 "nbformat": 4,
 "nbformat_minor": 2
}
