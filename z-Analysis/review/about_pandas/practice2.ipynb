{
 "cells": [
  {
   "cell_type": "code",
   "execution_count": 1,
   "metadata": {},
   "outputs": [],
   "source": [
    "# 根据公司的员工信息登记表数据，获取相关信息：\n",
    "\n",
    "# 1. 获取工号为003~007的所有员工信息；\n",
    "# 2. 获取所有员工的年龄和工资信息；\n",
    "# 3. 查看一个你感兴趣员工的婚姻状况。"
   ]
  },
  {
   "cell_type": "code",
   "execution_count": 2,
   "metadata": {},
   "outputs": [],
   "source": [
    "from pandas import Series,DataFrame"
   ]
  },
  {
   "cell_type": "code",
   "execution_count": 3,
   "metadata": {},
   "outputs": [],
   "source": [
    "index_list = ['001','002','003','004','005','006','007','008','009','010']\n",
    "name_list = ['李白','王昭君','诸葛亮','狄仁杰','孙尚香','妲己','周瑜','张飞','王昭君','大乔']\n",
    "age_list = [25,28,27,25,30,29,25,32,28,26]\n",
    "salary_list = ['10k','12.5','20k','14k','12k','17k','18k','21k','22k','21.5k']\n",
    "marital_list = ['NO','NO','YES','YES','NO','NO','NO','YES','NO','YES']"
   ]
  },
  {
   "cell_type": "code",
   "execution_count": 4,
   "metadata": {},
   "outputs": [],
   "source": [
    "dic={\n",
    "    '姓名': Series(data=name_list,index=index_list),\n",
    "    '年龄': Series(data=age_list,index=index_list),\n",
    "    '薪资': Series(data=salary_list,index=index_list),\n",
    "    '婚姻状况': Series(data=marital_list,index=index_list)\n",
    "}"
   ]
  },
  {
   "cell_type": "code",
   "execution_count": 5,
   "metadata": {},
   "outputs": [
    {
     "data": {
      "text/html": [
       "<div>\n",
       "<style scoped>\n",
       "    .dataframe tbody tr th:only-of-type {\n",
       "        vertical-align: middle;\n",
       "    }\n",
       "\n",
       "    .dataframe tbody tr th {\n",
       "        vertical-align: top;\n",
       "    }\n",
       "\n",
       "    .dataframe thead th {\n",
       "        text-align: right;\n",
       "    }\n",
       "</style>\n",
       "<table border=\"1\" class=\"dataframe\">\n",
       "  <thead>\n",
       "    <tr style=\"text-align: right;\">\n",
       "      <th></th>\n",
       "      <th>姓名</th>\n",
       "      <th>年龄</th>\n",
       "      <th>薪资</th>\n",
       "      <th>婚姻状况</th>\n",
       "    </tr>\n",
       "  </thead>\n",
       "  <tbody>\n",
       "    <tr>\n",
       "      <th>001</th>\n",
       "      <td>李白</td>\n",
       "      <td>25</td>\n",
       "      <td>10k</td>\n",
       "      <td>NO</td>\n",
       "    </tr>\n",
       "    <tr>\n",
       "      <th>002</th>\n",
       "      <td>王昭君</td>\n",
       "      <td>28</td>\n",
       "      <td>12.5</td>\n",
       "      <td>NO</td>\n",
       "    </tr>\n",
       "    <tr>\n",
       "      <th>003</th>\n",
       "      <td>诸葛亮</td>\n",
       "      <td>27</td>\n",
       "      <td>20k</td>\n",
       "      <td>YES</td>\n",
       "    </tr>\n",
       "    <tr>\n",
       "      <th>004</th>\n",
       "      <td>狄仁杰</td>\n",
       "      <td>25</td>\n",
       "      <td>14k</td>\n",
       "      <td>YES</td>\n",
       "    </tr>\n",
       "    <tr>\n",
       "      <th>005</th>\n",
       "      <td>孙尚香</td>\n",
       "      <td>30</td>\n",
       "      <td>12k</td>\n",
       "      <td>NO</td>\n",
       "    </tr>\n",
       "    <tr>\n",
       "      <th>006</th>\n",
       "      <td>妲己</td>\n",
       "      <td>29</td>\n",
       "      <td>17k</td>\n",
       "      <td>NO</td>\n",
       "    </tr>\n",
       "    <tr>\n",
       "      <th>007</th>\n",
       "      <td>周瑜</td>\n",
       "      <td>25</td>\n",
       "      <td>18k</td>\n",
       "      <td>NO</td>\n",
       "    </tr>\n",
       "    <tr>\n",
       "      <th>008</th>\n",
       "      <td>张飞</td>\n",
       "      <td>32</td>\n",
       "      <td>21k</td>\n",
       "      <td>YES</td>\n",
       "    </tr>\n",
       "    <tr>\n",
       "      <th>009</th>\n",
       "      <td>王昭君</td>\n",
       "      <td>28</td>\n",
       "      <td>22k</td>\n",
       "      <td>NO</td>\n",
       "    </tr>\n",
       "    <tr>\n",
       "      <th>010</th>\n",
       "      <td>大乔</td>\n",
       "      <td>26</td>\n",
       "      <td>21.5k</td>\n",
       "      <td>YES</td>\n",
       "    </tr>\n",
       "  </tbody>\n",
       "</table>\n",
       "</div>"
      ],
      "text/plain": [
       "      姓名  年龄     薪资 婚姻状况\n",
       "001   李白  25    10k   NO\n",
       "002  王昭君  28   12.5   NO\n",
       "003  诸葛亮  27    20k  YES\n",
       "004  狄仁杰  25    14k  YES\n",
       "005  孙尚香  30    12k   NO\n",
       "006   妲己  29    17k   NO\n",
       "007   周瑜  25    18k   NO\n",
       "008   张飞  32    21k  YES\n",
       "009  王昭君  28    22k   NO\n",
       "010   大乔  26  21.5k  YES"
      ]
     },
     "execution_count": 5,
     "metadata": {},
     "output_type": "execute_result"
    }
   ],
   "source": [
    "df = DataFrame(data=dic)\n",
    "df"
   ]
  },
  {
   "cell_type": "code",
   "execution_count": 7,
   "metadata": {},
   "outputs": [
    {
     "data": {
      "text/html": [
       "<div>\n",
       "<style scoped>\n",
       "    .dataframe tbody tr th:only-of-type {\n",
       "        vertical-align: middle;\n",
       "    }\n",
       "\n",
       "    .dataframe tbody tr th {\n",
       "        vertical-align: top;\n",
       "    }\n",
       "\n",
       "    .dataframe thead th {\n",
       "        text-align: right;\n",
       "    }\n",
       "</style>\n",
       "<table border=\"1\" class=\"dataframe\">\n",
       "  <thead>\n",
       "    <tr style=\"text-align: right;\">\n",
       "      <th></th>\n",
       "      <th>姓名</th>\n",
       "      <th>年龄</th>\n",
       "      <th>薪资</th>\n",
       "      <th>婚姻状况</th>\n",
       "    </tr>\n",
       "  </thead>\n",
       "  <tbody>\n",
       "    <tr>\n",
       "      <th>003</th>\n",
       "      <td>诸葛亮</td>\n",
       "      <td>27</td>\n",
       "      <td>20k</td>\n",
       "      <td>YES</td>\n",
       "    </tr>\n",
       "    <tr>\n",
       "      <th>004</th>\n",
       "      <td>狄仁杰</td>\n",
       "      <td>25</td>\n",
       "      <td>14k</td>\n",
       "      <td>YES</td>\n",
       "    </tr>\n",
       "    <tr>\n",
       "      <th>005</th>\n",
       "      <td>孙尚香</td>\n",
       "      <td>30</td>\n",
       "      <td>12k</td>\n",
       "      <td>NO</td>\n",
       "    </tr>\n",
       "    <tr>\n",
       "      <th>006</th>\n",
       "      <td>妲己</td>\n",
       "      <td>29</td>\n",
       "      <td>17k</td>\n",
       "      <td>NO</td>\n",
       "    </tr>\n",
       "    <tr>\n",
       "      <th>007</th>\n",
       "      <td>周瑜</td>\n",
       "      <td>25</td>\n",
       "      <td>18k</td>\n",
       "      <td>NO</td>\n",
       "    </tr>\n",
       "  </tbody>\n",
       "</table>\n",
       "</div>"
      ],
      "text/plain": [
       "      姓名  年龄   薪资 婚姻状况\n",
       "003  诸葛亮  27  20k  YES\n",
       "004  狄仁杰  25  14k  YES\n",
       "005  孙尚香  30  12k   NO\n",
       "006   妲己  29  17k   NO\n",
       "007   周瑜  25  18k   NO"
      ]
     },
     "execution_count": 7,
     "metadata": {},
     "output_type": "execute_result"
    }
   ],
   "source": [
    "# 1. 获取工号为003~007的所有员工信息；\n",
    "df['003':'007']      # 使用索引值 + 切片语法，获取连续的数据"
   ]
  },
  {
   "cell_type": "code",
   "execution_count": 9,
   "metadata": {},
   "outputs": [
    {
     "data": {
      "text/html": [
       "<div>\n",
       "<style scoped>\n",
       "    .dataframe tbody tr th:only-of-type {\n",
       "        vertical-align: middle;\n",
       "    }\n",
       "\n",
       "    .dataframe tbody tr th {\n",
       "        vertical-align: top;\n",
       "    }\n",
       "\n",
       "    .dataframe thead th {\n",
       "        text-align: right;\n",
       "    }\n",
       "</style>\n",
       "<table border=\"1\" class=\"dataframe\">\n",
       "  <thead>\n",
       "    <tr style=\"text-align: right;\">\n",
       "      <th></th>\n",
       "      <th>姓名</th>\n",
       "      <th>年龄</th>\n",
       "      <th>薪资</th>\n",
       "    </tr>\n",
       "  </thead>\n",
       "  <tbody>\n",
       "    <tr>\n",
       "      <th>001</th>\n",
       "      <td>李白</td>\n",
       "      <td>25</td>\n",
       "      <td>10k</td>\n",
       "    </tr>\n",
       "    <tr>\n",
       "      <th>002</th>\n",
       "      <td>王昭君</td>\n",
       "      <td>28</td>\n",
       "      <td>12.5</td>\n",
       "    </tr>\n",
       "    <tr>\n",
       "      <th>003</th>\n",
       "      <td>诸葛亮</td>\n",
       "      <td>27</td>\n",
       "      <td>20k</td>\n",
       "    </tr>\n",
       "    <tr>\n",
       "      <th>004</th>\n",
       "      <td>狄仁杰</td>\n",
       "      <td>25</td>\n",
       "      <td>14k</td>\n",
       "    </tr>\n",
       "    <tr>\n",
       "      <th>005</th>\n",
       "      <td>孙尚香</td>\n",
       "      <td>30</td>\n",
       "      <td>12k</td>\n",
       "    </tr>\n",
       "    <tr>\n",
       "      <th>006</th>\n",
       "      <td>妲己</td>\n",
       "      <td>29</td>\n",
       "      <td>17k</td>\n",
       "    </tr>\n",
       "    <tr>\n",
       "      <th>007</th>\n",
       "      <td>周瑜</td>\n",
       "      <td>25</td>\n",
       "      <td>18k</td>\n",
       "    </tr>\n",
       "    <tr>\n",
       "      <th>008</th>\n",
       "      <td>张飞</td>\n",
       "      <td>32</td>\n",
       "      <td>21k</td>\n",
       "    </tr>\n",
       "    <tr>\n",
       "      <th>009</th>\n",
       "      <td>王昭君</td>\n",
       "      <td>28</td>\n",
       "      <td>22k</td>\n",
       "    </tr>\n",
       "    <tr>\n",
       "      <th>010</th>\n",
       "      <td>大乔</td>\n",
       "      <td>26</td>\n",
       "      <td>21.5k</td>\n",
       "    </tr>\n",
       "  </tbody>\n",
       "</table>\n",
       "</div>"
      ],
      "text/plain": [
       "      姓名  年龄     薪资\n",
       "001   李白  25    10k\n",
       "002  王昭君  28   12.5\n",
       "003  诸葛亮  27    20k\n",
       "004  狄仁杰  25    14k\n",
       "005  孙尚香  30    12k\n",
       "006   妲己  29    17k\n",
       "007   周瑜  25    18k\n",
       "008   张飞  32    21k\n",
       "009  王昭君  28    22k\n",
       "010   大乔  26  21.5k"
      ]
     },
     "execution_count": 9,
     "metadata": {},
     "output_type": "execute_result"
    }
   ],
   "source": [
    "# 2. 获取所有员工的年龄和工资信息；   # 某一行某一列的数据loc[]\n",
    "df.loc[:,['姓名','年龄','薪资']]   # 选择连续的多行和间隔的多列"
   ]
  },
  {
   "cell_type": "code",
   "execution_count": 10,
   "metadata": {},
   "outputs": [
    {
     "data": {
      "text/plain": [
       "姓名      王昭君\n",
       "年龄       28\n",
       "薪资      22k\n",
       "婚姻状况     NO\n",
       "Name: 009, dtype: object"
      ]
     },
     "execution_count": 10,
     "metadata": {},
     "output_type": "execute_result"
    }
   ],
   "source": [
    "# 3. 查看一个你感兴趣员工的婚姻状况。\n",
    "df.loc['009',['姓名','年龄','薪资','婚姻状况']]   # 某一行某一列的数据loc[]"
   ]
  },
  {
   "cell_type": "code",
   "execution_count": null,
   "metadata": {},
   "outputs": [],
   "source": []
  },
  {
   "cell_type": "markdown",
   "metadata": {},
   "source": [
    "#### 用三种方法获取遍历所有员工的薪水信息； 2. 获取最高薪水值。"
   ]
  },
  {
   "cell_type": "code",
   "execution_count": 42,
   "metadata": {},
   "outputs": [],
   "source": [
    "from pandas import Series,DataFrame\n",
    "\n",
    "# 使用字典创建\n",
    "index_list = ['001','002','003','004','005','006','007','008','009','010']\n",
    "name_list = ['李白','王昭君','诸葛亮','狄仁杰','孙尚香','妲己','周瑜','张飞','王昭君','大乔']\n",
    "age_list = [25,28,27,25,30,29,25,32,28,26]\n",
    "salary_list = ['10k','12.5k','20k','14k','12k','17k','18k','21k','22k','21.5k']\n",
    "marital_list = ['NO','NO','YES','YES','NO','NO','NO','YES','NO','YES']\n",
    "dic={\n",
    "    '姓名': Series(data=name_list,index=index_list),\n",
    "    '年龄': Series(data=age_list,index=index_list),\n",
    "    '薪资': Series(data=salary_list,index=index_list),\n",
    "    '婚姻状况': Series(data=marital_list,index=index_list)\n",
    "    }"
   ]
  },
  {
   "cell_type": "code",
   "execution_count": 43,
   "metadata": {},
   "outputs": [
    {
     "data": {
      "text/html": [
       "<div>\n",
       "<style scoped>\n",
       "    .dataframe tbody tr th:only-of-type {\n",
       "        vertical-align: middle;\n",
       "    }\n",
       "\n",
       "    .dataframe tbody tr th {\n",
       "        vertical-align: top;\n",
       "    }\n",
       "\n",
       "    .dataframe thead th {\n",
       "        text-align: right;\n",
       "    }\n",
       "</style>\n",
       "<table border=\"1\" class=\"dataframe\">\n",
       "  <thead>\n",
       "    <tr style=\"text-align: right;\">\n",
       "      <th></th>\n",
       "      <th>姓名</th>\n",
       "      <th>年龄</th>\n",
       "      <th>薪资</th>\n",
       "      <th>婚姻状况</th>\n",
       "    </tr>\n",
       "  </thead>\n",
       "  <tbody>\n",
       "    <tr>\n",
       "      <th>001</th>\n",
       "      <td>李白</td>\n",
       "      <td>25</td>\n",
       "      <td>10k</td>\n",
       "      <td>NO</td>\n",
       "    </tr>\n",
       "    <tr>\n",
       "      <th>002</th>\n",
       "      <td>王昭君</td>\n",
       "      <td>28</td>\n",
       "      <td>12.5k</td>\n",
       "      <td>NO</td>\n",
       "    </tr>\n",
       "    <tr>\n",
       "      <th>003</th>\n",
       "      <td>诸葛亮</td>\n",
       "      <td>27</td>\n",
       "      <td>20k</td>\n",
       "      <td>YES</td>\n",
       "    </tr>\n",
       "    <tr>\n",
       "      <th>004</th>\n",
       "      <td>狄仁杰</td>\n",
       "      <td>25</td>\n",
       "      <td>14k</td>\n",
       "      <td>YES</td>\n",
       "    </tr>\n",
       "    <tr>\n",
       "      <th>005</th>\n",
       "      <td>孙尚香</td>\n",
       "      <td>30</td>\n",
       "      <td>12k</td>\n",
       "      <td>NO</td>\n",
       "    </tr>\n",
       "    <tr>\n",
       "      <th>006</th>\n",
       "      <td>妲己</td>\n",
       "      <td>29</td>\n",
       "      <td>17k</td>\n",
       "      <td>NO</td>\n",
       "    </tr>\n",
       "    <tr>\n",
       "      <th>007</th>\n",
       "      <td>周瑜</td>\n",
       "      <td>25</td>\n",
       "      <td>18k</td>\n",
       "      <td>NO</td>\n",
       "    </tr>\n",
       "    <tr>\n",
       "      <th>008</th>\n",
       "      <td>张飞</td>\n",
       "      <td>32</td>\n",
       "      <td>21k</td>\n",
       "      <td>YES</td>\n",
       "    </tr>\n",
       "    <tr>\n",
       "      <th>009</th>\n",
       "      <td>王昭君</td>\n",
       "      <td>28</td>\n",
       "      <td>22k</td>\n",
       "      <td>NO</td>\n",
       "    </tr>\n",
       "    <tr>\n",
       "      <th>010</th>\n",
       "      <td>大乔</td>\n",
       "      <td>26</td>\n",
       "      <td>21.5k</td>\n",
       "      <td>YES</td>\n",
       "    </tr>\n",
       "  </tbody>\n",
       "</table>\n",
       "</div>"
      ],
      "text/plain": [
       "      姓名  年龄     薪资 婚姻状况\n",
       "001   李白  25    10k   NO\n",
       "002  王昭君  28  12.5k   NO\n",
       "003  诸葛亮  27    20k  YES\n",
       "004  狄仁杰  25    14k  YES\n",
       "005  孙尚香  30    12k   NO\n",
       "006   妲己  29    17k   NO\n",
       "007   周瑜  25    18k   NO\n",
       "008   张飞  32    21k  YES\n",
       "009  王昭君  28    22k   NO\n",
       "010   大乔  26  21.5k  YES"
      ]
     },
     "execution_count": 43,
     "metadata": {},
     "output_type": "execute_result"
    }
   ],
   "source": [
    "df = DataFrame(dic)\n",
    "df"
   ]
  },
  {
   "cell_type": "code",
   "execution_count": 16,
   "metadata": {},
   "outputs": [
    {
     "name": "stdout",
     "output_type": "stream",
     "text": [
      "10k\n",
      "12.5k\n",
      "20k\n",
      "14k\n",
      "12k\n",
      "17k\n",
      "18k\n",
      "21k\n",
      "22k\n",
      "21.5k\n",
      "<class 'str'>\n"
     ]
    }
   ],
   "source": [
    "# 方法一：遍历薪水列\n",
    "for value in df['薪资']:\n",
    "    print(value)\n",
    "print(type(value))"
   ]
  },
  {
   "cell_type": "code",
   "execution_count": 18,
   "metadata": {},
   "outputs": [
    {
     "name": "stdout",
     "output_type": "stream",
     "text": [
      "10k\n",
      "12.5k\n",
      "20k\n",
      "14k\n",
      "12k\n",
      "17k\n",
      "18k\n",
      "21k\n",
      "22k\n",
      "21.5k\n"
     ]
    }
   ],
   "source": [
    "# 方法二：遍历薪水列\n",
    "for index,row_data in df.iterrows():  # iterrows(): 按行遍历，将DataFrame的每一行转化为(index, Series)对。index为行索引值，Series为该行对应的数据\n",
    "#     print(row_data)\n",
    "    print(row_data['薪资'])"
   ]
  },
  {
   "cell_type": "code",
   "execution_count": 23,
   "metadata": {},
   "outputs": [
    {
     "name": "stdout",
     "output_type": "stream",
     "text": [
      "001      10k\n",
      "002    12.5k\n",
      "003      20k\n",
      "004      14k\n",
      "005      12k\n",
      "006      17k\n",
      "007      18k\n",
      "008      21k\n",
      "009      22k\n",
      "010    21.5k\n",
      "Name: 薪资, dtype: object\n"
     ]
    }
   ],
   "source": [
    "# 方法三：遍历薪水列\n",
    "for col,col_data in df.iteritems():  # iteritems():按列遍历，将DataFrame的每一列转化为(column, Series)对。column为列索引的值，Series为该列对应的数据。¶\n",
    "#     print(col)\n",
    "#     print(col_data)\n",
    "    if col == '薪资':\n",
    "        print(col_data)"
   ]
  },
  {
   "cell_type": "code",
   "execution_count": 39,
   "metadata": {},
   "outputs": [
    {
     "name": "stdout",
     "output_type": "stream",
     "text": [
      "10k\n",
      "[10.0]\n",
      "12.5k\n",
      "[12.5]\n",
      "20k\n",
      "[20.0]\n",
      "14k\n",
      "[14.0]\n",
      "12k\n",
      "[12.0]\n",
      "17k\n",
      "[17.0]\n",
      "18k\n",
      "[18.0]\n",
      "21k\n",
      "[21.0]\n",
      "22k\n",
      "[22.0]\n",
      "21.5k\n",
      "[21.5]\n"
     ]
    }
   ],
   "source": [
    "for col,col_data in df.iteritems(): \n",
    "    if col == '薪资':\n",
    "#     print(col_data)\n",
    "        for value in col_data:\n",
    "            print(value)\n",
    "            print([float(value[:len(value)-1])])"
   ]
  },
  {
   "cell_type": "code",
   "execution_count": 47,
   "metadata": {},
   "outputs": [
    {
     "name": "stdout",
     "output_type": "stream",
     "text": [
      "22.0\n"
     ]
    }
   ],
   "source": [
    "# 获取最大薪资\n",
    "for col,col_data in df.iteritems(): \n",
    "    if col == '薪资':\n",
    "        # 将薪资中的k去掉，并转化为float()类型\n",
    "        list1 = [float(value[:len(value)-1])for value in col_data]\n",
    "        # 排序\n",
    "#         max_salary = sorted(list1)\n",
    "        max_salary = sorted(list1,reverse=True)[0]\n",
    "        print(max_salary)"
   ]
  }
 ],
 "metadata": {
  "kernelspec": {
   "display_name": "Python 3",
   "language": "python",
   "name": "python3"
  },
  "language_info": {
   "codemirror_mode": {
    "name": "ipython",
    "version": 3
   },
   "file_extension": ".py",
   "mimetype": "text/x-python",
   "name": "python",
   "nbconvert_exporter": "python",
   "pygments_lexer": "ipython3",
   "version": "3.7.3"
  }
 },
 "nbformat": 4,
 "nbformat_minor": 2
}
