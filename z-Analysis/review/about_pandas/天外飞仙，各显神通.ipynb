{
 "cells": [
  {
   "cell_type": "markdown",
   "metadata": {},
   "source": [
    "## 题目：天外飞仙，各显神通\n",
    "\n",
    "**题目要求：**\n",
    "\n",
    "本练习继续使用某电商超市从2016年到2019年的部分销售数据，路径为：`../data/Commerce.xls`。\n",
    "\n",
    "1. 计算出2018年各个季度的总销售额（1-3月为第一季度，4-6为第二季度，7-9为第三季度，10-12为第四季度）。\n",
    "2. 计算出2018年各季度各地区的总销售额。"
   ]
  },
  {
   "cell_type": "code",
   "execution_count": 1,
   "metadata": {},
   "outputs": [],
   "source": [
    "1.导包\n",
    "2.定位文件具体的路径，便于我们读取文件\n",
    "3.读取文件数据\n",
    "4.将订单日期设置成为数据的索引   （以时间作为索引，便于后续根据时间范围筛选数据）\n",
    "5.根据每个季度的时间范围筛选出数据，并计算总销售额\n",
    "6.筛选出2018年5月份的数据\n",
    "7.根据地区进行分组，获取每个季度的数据，并计算总销售额"
   ]
  },
  {
   "cell_type": "code",
   "execution_count": 2,
   "metadata": {},
   "outputs": [],
   "source": [
    "import pandas as pd\n",
    "data = pd.read_excel('../data/Commerce.xls')"
   ]
  },
  {
   "cell_type": "code",
   "execution_count": 3,
   "metadata": {},
   "outputs": [],
   "source": [
    "# 将订单日期设置为数据的索引\n",
    "data.index = data['订单日期']"
   ]
  },
  {
   "cell_type": "code",
   "execution_count": 4,
   "metadata": {},
   "outputs": [
    {
     "name": "stdout",
     "output_type": "stream",
     "text": [
      "2018年Q1总销售额588269.651,Q2总销售额1084969.656,Q3总销售额1155180.633,Q4总销售额1505355.92\n"
     ]
    }
   ],
   "source": [
    "# 根据本节课知识点，分别获取每个季度销售总额\n",
    "Q1 = data['2018-01':'2018-03']['销售额'].sum()\n",
    "Q2 = data['2018-04':'2018-06']['销售额'].sum()\n",
    "Q3 = data['2018-07':'2018-09']['销售额'].sum()\n",
    "Q4 = data['2018-10':'2018-12']['销售额'].sum()\n",
    "print('2018年Q1总销售额{},Q2总销售额{},Q3总销售额{},Q4总销售额{}'.format(Q1,Q2,Q3,Q4))"
   ]
  },
  {
   "cell_type": "code",
   "execution_count": 5,
   "metadata": {},
   "outputs": [],
   "source": [
    "# 2018年各季度各地区的总销售额\n",
    "# 获取每个季度的数据\n",
    "Q1_area = data['2018-01':'2018-03'].groupby('地区')['销售额'].sum()\n",
    "Q2_area = data['2018-04':'2018-06'].groupby('地区')['销售额'].sum()\n",
    "Q3_area = data['2018-07':'2018-09'].groupby('地区')['销售额'].sum()\n",
    "Q4_area = data['2018-10':'2018-12'].groupby('地区')['销售额'].sum()"
   ]
  },
  {
   "cell_type": "code",
   "execution_count": 6,
   "metadata": {
    "collapsed": true
   },
   "outputs": [
    {
     "name": "stdout",
     "output_type": "stream",
     "text": [
      "\n",
      "2018年各季度各地区的总销售额:\n",
      "Q1:地区\n",
      "东北    179643.353\n",
      "中南     84444.402\n",
      "华东    143707.440\n",
      "华北     78643.176\n",
      "西北     42066.024\n",
      "西南     59765.256\n",
      "Name: 销售额, dtype: float64\n",
      "Q2:地区\n",
      "东北    149468.096\n",
      "中南    275229.727\n",
      "华东    370572.171\n",
      "华北    185044.910\n",
      "西北     26896.188\n",
      "西南     77758.564\n",
      "Name: 销售额, dtype: float64\n",
      "Q3:地区\n",
      "东北    204187.616\n",
      "中南    283578.345\n",
      "华东    369739.215\n",
      "华北    136339.921\n",
      "西北     63392.432\n",
      "西南     97943.104\n",
      "Name: 销售额, dtype: float64\n",
      "Q4:地区\n",
      "东北    236502.685\n",
      "中南    350783.303\n",
      "华东    478426.016\n",
      "华北    215142.952\n",
      "西北     72989.032\n",
      "西南    151511.932\n",
      "Name: 销售额, dtype: float64\n",
      "\n"
     ]
    }
   ],
   "source": [
    "print(\"\"\"\n",
    "2018年各季度各地区的总销售额:\n",
    "Q1:{}\n",
    "Q2:{}\n",
    "Q3:{}\n",
    "Q4:{}\n",
    "\"\"\".format(Q1_area,Q2_area,Q3_area,Q4_area))"
   ]
  },
  {
   "cell_type": "code",
   "execution_count": null,
   "metadata": {},
   "outputs": [],
   "source": []
  }
 ],
 "metadata": {
  "kernelspec": {
   "display_name": "Python 3",
   "language": "python",
   "name": "python3"
  },
  "language_info": {
   "codemirror_mode": {
    "name": "ipython",
    "version": 3
   },
   "file_extension": ".py",
   "mimetype": "text/x-python",
   "name": "python",
   "nbconvert_exporter": "python",
   "pygments_lexer": "ipython3",
   "version": "3.7.3"
  }
 },
 "nbformat": 4,
 "nbformat_minor": 2
}
