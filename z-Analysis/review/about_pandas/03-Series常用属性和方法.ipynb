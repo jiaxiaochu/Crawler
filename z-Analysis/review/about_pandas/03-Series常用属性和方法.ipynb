{
 "cells": [
  {
   "cell_type": "markdown",
   "metadata": {},
   "source": [
    "```\n",
    "表格数据中的每一列或者每一行的数据结构都是Series，它可以看成是一维的表格数据。\n",
    "\n",
    "它可以属于DataFrame的一部分也可以作为一个独立的数据结构存在。\n",
    "\n",
    "\n",
    "```"
   ]
  },
  {
   "cell_type": "code",
   "execution_count": 1,
   "metadata": {},
   "outputs": [],
   "source": [
    "from pandas import Series"
   ]
  },
  {
   "cell_type": "code",
   "execution_count": 2,
   "metadata": {},
   "outputs": [],
   "source": [
    "emp=['001','002','003','004','005','006']\n",
    "name=['亚瑟', '后裔','小乔','哪吒' ,'虞姬','王昭君']"
   ]
  },
  {
   "cell_type": "code",
   "execution_count": 3,
   "metadata": {},
   "outputs": [],
   "source": [
    "series = Series(data=name,index=emp)"
   ]
  },
  {
   "cell_type": "code",
   "execution_count": 4,
   "metadata": {},
   "outputs": [
    {
     "data": {
      "text/plain": [
       "001     亚瑟\n",
       "002     后裔\n",
       "003     小乔\n",
       "004     哪吒\n",
       "005     虞姬\n",
       "006    王昭君\n",
       "dtype: object"
      ]
     },
     "execution_count": 4,
     "metadata": {},
     "output_type": "execute_result"
    }
   ],
   "source": [
    "series"
   ]
  },
  {
   "cell_type": "code",
   "execution_count": 5,
   "metadata": {},
   "outputs": [
    {
     "name": "stdout",
     "output_type": "stream",
     "text": [
      "['亚瑟' '后裔' '小乔' '哪吒' '虞姬' '王昭君']\n"
     ]
    }
   ],
   "source": [
    "# 获取数据的值\n",
    "print(series.values)"
   ]
  },
  {
   "cell_type": "code",
   "execution_count": 6,
   "metadata": {},
   "outputs": [
    {
     "data": {
      "text/plain": [
       "Index(['001', '002', '003', '004', '005', '006'], dtype='object')"
      ]
     },
     "execution_count": 6,
     "metadata": {},
     "output_type": "execute_result"
    }
   ],
   "source": [
    "# 获取索引的值\n",
    "series.index"
   ]
  },
  {
   "cell_type": "code",
   "execution_count": 7,
   "metadata": {},
   "outputs": [
    {
     "data": {
      "text/plain": [
       "['001', '002', '003', '004', '005', '006']"
      ]
     },
     "execution_count": 7,
     "metadata": {},
     "output_type": "execute_result"
    }
   ],
   "source": [
    "# 获取索引的值\n",
    "series.index.tolist()"
   ]
  },
  {
   "cell_type": "code",
   "execution_count": 10,
   "metadata": {},
   "outputs": [
    {
     "name": "stdout",
     "output_type": "stream",
     "text": [
      "[('001', '亚瑟'), ('002', '后裔'), ('003', '小乔'), ('004', '哪吒'), ('005', '虞姬'), ('006', '王昭君')]\n"
     ]
    }
   ],
   "source": [
    "# 获取每队索引和值\n",
    "print(list(series.items()))"
   ]
  },
  {
   "cell_type": "markdown",
   "metadata": {},
   "source": [
    "**values、index、items返回的对象分别是List、Index、Zip类型的数据，\n",
    "为了方便我们使用和观察数据，可以使用series.index.tolist()和list(series.items())方法转化成List类型。**"
   ]
  },
  {
   "cell_type": "markdown",
   "metadata": {},
   "source": [
    "### Series就像将索引值暴露在外面的List，其实它们除了外表相似以外，在获取数据方面也非常的相似。我们可以通过索引值来进行单个数据的访问，同样也支持切片选择多个数据。"
   ]
  },
  {
   "cell_type": "code",
   "execution_count": 11,
   "metadata": {},
   "outputs": [
    {
     "name": "stdout",
     "output_type": "stream",
     "text": [
      "索引下标 002    后裔\n",
      "004    哪吒\n",
      "dtype: object\n"
     ]
    }
   ],
   "source": [
    "# 使用索引值获取多个不连续的数据\n",
    "print('索引下标',series[['002','004']])"
   ]
  },
  {
   "cell_type": "code",
   "execution_count": 12,
   "metadata": {},
   "outputs": [
    {
     "name": "stdout",
     "output_type": "stream",
     "text": [
      "索引切片 001    亚瑟\n",
      "002    后裔\n",
      "003    小乔\n",
      "004    哪吒\n",
      "dtype: object\n"
     ]
    }
   ],
   "source": [
    "# 使用切片获取连续的数据\n",
    "print('索引切片',series['001':'004'])"
   ]
  },
  {
   "cell_type": "markdown",
   "metadata": {},
   "source": [
    "### 我们自定的index值被叫做索引下标，没有设置index值时会有一个默认的值叫做位置下标。"
   ]
  },
  {
   "cell_type": "code",
   "execution_count": 12,
   "metadata": {},
   "outputs": [
    {
     "name": "stdout",
     "output_type": "stream",
     "text": [
      "series[0]获取的数据是:亚瑟\n",
      "series[5]获取的数据是:王昭君\n"
     ]
    }
   ],
   "source": [
    "# print(series)\n",
    "# 获取单个数据\n",
    "print(\"series[0]获取的数据是:{}\".format(series[0]))\n",
    "print(\"series[5]获取的数据是:{}\".format(series[5]))"
   ]
  },
  {
   "cell_type": "code",
   "execution_count": 18,
   "metadata": {},
   "outputs": [
    {
     "name": "stdout",
     "output_type": "stream",
     "text": [
      "位置下标 002    后裔\n",
      "004    哪吒\n",
      "dtype: object\n"
     ]
    }
   ],
   "source": [
    "# 获取多个不连续的数据\n",
    "print('位置下标',series[[1,3]])"
   ]
  },
  {
   "cell_type": "code",
   "execution_count": 19,
   "metadata": {},
   "outputs": [
    {
     "name": "stdout",
     "output_type": "stream",
     "text": [
      "位置切片 001    亚瑟\n",
      "002    后裔\n",
      "003    小乔\n",
      "dtype: object\n"
     ]
    }
   ],
   "source": [
    "# 使用切片获取连续的数据\n",
    "print('位置切片',series[0:3])"
   ]
  },
  {
   "cell_type": "code",
   "execution_count": 23,
   "metadata": {},
   "outputs": [
    {
     "name": "stdout",
     "output_type": "stream",
     "text": [
      "亚瑟\n",
      "后裔\n",
      "小乔\n",
      "哪吒\n",
      "虞姬\n",
      "王昭君\n"
     ]
    }
   ],
   "source": [
    "# 和Python其它数据结构类似，我们可以很方便的利用循环来遍历Series。我们可以直接遍历Series的值：\n",
    "for value in series:\n",
    "    print(value)"
   ]
  },
  {
   "cell_type": "code",
   "execution_count": 24,
   "metadata": {},
   "outputs": [
    {
     "name": "stdout",
     "output_type": "stream",
     "text": [
      "001\n",
      "002\n",
      "003\n",
      "004\n",
      "005\n",
      "006\n"
     ]
    }
   ],
   "source": [
    "# 遍历并拿到index数据\n",
    "for value in series.keys():\n",
    "    print(value)"
   ]
  },
  {
   "cell_type": "code",
   "execution_count": 25,
   "metadata": {},
   "outputs": [
    {
     "name": "stdout",
     "output_type": "stream",
     "text": [
      "('001', '亚瑟')\n",
      "('002', '后裔')\n",
      "('003', '小乔')\n",
      "('004', '哪吒')\n",
      "('005', '虞姬')\n",
      "('006', '王昭君')\n"
     ]
    }
   ],
   "source": [
    "# 也可以通过items()，遍历Series的每对索引和数据\n",
    "# 遍历并拿到每对索引和数据\n",
    "for value in series.items():\n",
    "    print(value)"
   ]
  },
  {
   "cell_type": "code",
   "execution_count": null,
   "metadata": {},
   "outputs": [],
   "source": []
  }
 ],
 "metadata": {
  "kernelspec": {
   "display_name": "Python 3",
   "language": "python",
   "name": "python3"
  },
  "language_info": {
   "codemirror_mode": {
    "name": "ipython",
    "version": 3
   },
   "file_extension": ".py",
   "mimetype": "text/x-python",
   "name": "python",
   "nbconvert_exporter": "python",
   "pygments_lexer": "ipython3",
   "version": "3.7.3"
  }
 },
 "nbformat": 4,
 "nbformat_minor": 2
}
