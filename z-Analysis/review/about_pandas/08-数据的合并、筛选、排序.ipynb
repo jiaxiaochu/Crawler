{
 "cells": [
  {
   "cell_type": "markdown",
   "metadata": {},
   "source": [
    "### 一、数据的合并"
   ]
  },
  {
   "cell_type": "markdown",
   "metadata": {},
   "source": [
    "数据合并主要包括下面两种操作：\n",
    "\n",
    "* 轴向连接（concatenation），`pd.concat()`可以沿一个轴将多个DataFrame对象连接在一起，形成一个新的DataFrame对象\n",
    "\n",
    "* 融合（merging），`pd.merge()`方法可以根据一个或多个键将不同DataFrame中的行连接起来"
   ]
  },
  {
   "cell_type": "markdown",
   "metadata": {},
   "source": [
    "***"
   ]
  },
  {
   "cell_type": "markdown",
   "metadata": {},
   "source": [
    "## concat\n",
    "\n",
    "`concat()`函数可以将数据根据不同的轴作进行合并。我们先看一下`concat()`的常用参数：\n",
    "\n",
    "```python\n",
    "pd.concat(objs, axis=0, join='outer')\n",
    "```\n",
    "\n",
    "> **objs**: series，dataframe或者是panel构成的序列lsit \n",
    "\n",
    "> **axis**： 需要合并链接的轴，0是行，1是列，默认是0\n",
    "\n",
    "> **join**：连接的方式 inner，或者outer，默认是outer（如果为inner，得到的是两表的交集，如果是outer，得到的是两表的并集。）"
   ]
  },
  {
   "cell_type": "code",
   "execution_count": null,
   "metadata": {},
   "outputs": [],
   "source": [
    "表与表之间的数据处理：\n",
    "交集/并集处理\n",
    "将一个表的某一列，合并到另一张表"
   ]
  },
  {
   "cell_type": "code",
   "execution_count": 3,
   "metadata": {},
   "outputs": [
    {
     "name": "stdout",
     "output_type": "stream",
     "text": [
      "    A   B   C\n",
      "0  A0  B0  C0\n",
      "1  A1  B1  C1\n",
      "2  A2  B2  C2\n",
      "3  A3  B3  C3\n"
     ]
    }
   ],
   "source": [
    "import pandas as pd\n",
    "dict1={\n",
    "    'A': ['A0', 'A1', 'A2', 'A3'],\n",
    "    'B': ['B0', 'B1', 'B2', 'B3'],\n",
    "    'C': ['C0', 'C1', 'C2', 'C3']}\n",
    "df1=pd.DataFrame(dict1)\n",
    "print(df1)"
   ]
  },
  {
   "cell_type": "code",
   "execution_count": 4,
   "metadata": {},
   "outputs": [
    {
     "name": "stdout",
     "output_type": "stream",
     "text": [
      "    B   C   D\n",
      "0  B0  C0  D0\n",
      "1  B1  C1  D1\n",
      "2  B2  C2  D2\n",
      "3  B3  C3  D3\n"
     ]
    }
   ],
   "source": [
    "dict2={\n",
    "    'B': ['B0', 'B1', 'B2', 'B3'],\n",
    "    'C': ['C0', 'C1', 'C2', 'C3'],\n",
    "    'D': ['D0', 'D1', 'D2', 'D3']}\n",
    "df2=pd.DataFrame(dict2)\n",
    "print(df2)"
   ]
  },
  {
   "cell_type": "code",
   "execution_count": 5,
   "metadata": {},
   "outputs": [],
   "source": [
    "# 当`concat()`使用默认参数合并df1和df2时,`pd.concat([df1,df2],axis=0,join='outer')`。"
   ]
  },
  {
   "cell_type": "code",
   "execution_count": 20,
   "metadata": {},
   "outputs": [
    {
     "name": "stderr",
     "output_type": "stream",
     "text": [
      "/Users/jiazhixiang/workspace/AI/lib/python3.7/site-packages/ipykernel_launcher.py:1: FutureWarning: Sorting because non-concatenation axis is not aligned. A future version\n",
      "of pandas will change to not sort by default.\n",
      "\n",
      "To accept the future behavior, pass 'sort=False'.\n",
      "\n",
      "To retain the current behavior and silence the warning, pass 'sort=True'.\n",
      "\n",
      "  \"\"\"Entry point for launching an IPython kernel.\n"
     ]
    },
    {
     "data": {
      "text/html": [
       "<div>\n",
       "<style scoped>\n",
       "    .dataframe tbody tr th:only-of-type {\n",
       "        vertical-align: middle;\n",
       "    }\n",
       "\n",
       "    .dataframe tbody tr th {\n",
       "        vertical-align: top;\n",
       "    }\n",
       "\n",
       "    .dataframe thead th {\n",
       "        text-align: right;\n",
       "    }\n",
       "</style>\n",
       "<table border=\"1\" class=\"dataframe\">\n",
       "  <thead>\n",
       "    <tr style=\"text-align: right;\">\n",
       "      <th></th>\n",
       "      <th>A</th>\n",
       "      <th>B</th>\n",
       "      <th>C</th>\n",
       "      <th>D</th>\n",
       "    </tr>\n",
       "  </thead>\n",
       "  <tbody>\n",
       "    <tr>\n",
       "      <th>0</th>\n",
       "      <td>A0</td>\n",
       "      <td>B0</td>\n",
       "      <td>C0</td>\n",
       "      <td>NaN</td>\n",
       "    </tr>\n",
       "    <tr>\n",
       "      <th>1</th>\n",
       "      <td>A1</td>\n",
       "      <td>B1</td>\n",
       "      <td>C1</td>\n",
       "      <td>NaN</td>\n",
       "    </tr>\n",
       "    <tr>\n",
       "      <th>2</th>\n",
       "      <td>A2</td>\n",
       "      <td>B2</td>\n",
       "      <td>C2</td>\n",
       "      <td>NaN</td>\n",
       "    </tr>\n",
       "    <tr>\n",
       "      <th>3</th>\n",
       "      <td>A3</td>\n",
       "      <td>B3</td>\n",
       "      <td>C3</td>\n",
       "      <td>NaN</td>\n",
       "    </tr>\n",
       "    <tr>\n",
       "      <th>0</th>\n",
       "      <td>NaN</td>\n",
       "      <td>B0</td>\n",
       "      <td>C0</td>\n",
       "      <td>D0</td>\n",
       "    </tr>\n",
       "    <tr>\n",
       "      <th>1</th>\n",
       "      <td>NaN</td>\n",
       "      <td>B1</td>\n",
       "      <td>C1</td>\n",
       "      <td>D1</td>\n",
       "    </tr>\n",
       "    <tr>\n",
       "      <th>2</th>\n",
       "      <td>NaN</td>\n",
       "      <td>B2</td>\n",
       "      <td>C2</td>\n",
       "      <td>D2</td>\n",
       "    </tr>\n",
       "    <tr>\n",
       "      <th>3</th>\n",
       "      <td>NaN</td>\n",
       "      <td>B3</td>\n",
       "      <td>C3</td>\n",
       "      <td>D3</td>\n",
       "    </tr>\n",
       "  </tbody>\n",
       "</table>\n",
       "</div>"
      ],
      "text/plain": [
       "     A   B   C    D\n",
       "0   A0  B0  C0  NaN\n",
       "1   A1  B1  C1  NaN\n",
       "2   A2  B2  C2  NaN\n",
       "3   A3  B3  C3  NaN\n",
       "0  NaN  B0  C0   D0\n",
       "1  NaN  B1  C1   D1\n",
       "2  NaN  B2  C2   D2\n",
       "3  NaN  B3  C3   D3"
      ]
     },
     "execution_count": 20,
     "metadata": {},
     "output_type": "execute_result"
    }
   ],
   "source": [
    "pd.concat([df1,df2],axis=0,join='outer')  # axis参数为0时，列进行并集处理，纵向表拼接\n",
    "                                          # axis参数为1时，行进行并集处理，横向表拼接，\n",
    "\n",
    "# 通过上面的结果可以发现，当join='outer'，axis参数为0时，列进行并集处理，纵向表拼接，缺失值由NaN填充，并且会保留原有数据的行索引\n",
    "# 如果两个表的index都没有实际含义，使用ignore_index参数，置true，重新整理一个新的index。"
   ]
  },
  {
   "cell_type": "code",
   "execution_count": null,
   "metadata": {},
   "outputs": [],
   "source": [
    "pip install --upgrade pandas #-i https://pypi.douban.com/simple\n",
    "pip install --upgrade pandas -i https://pypi.douban.com/simple\n",
    "# FutureWarning：排序是因为未串联的轴未对齐。 未来版本\n",
    "# 的熊猫将默认更改为不排序。\n",
    "\n",
    "# 要接受将来的行为，请传递'sort = False'。\n",
    "\n",
    "# 要保留当前行为并消除警告，请传递“ sort = True”。\n",
    "\n",
    "#    “”“启动IPython内核的入口点。\n",
    "# ＃"
   ]
  },
  {
   "cell_type": "code",
   "execution_count": 16,
   "metadata": {},
   "outputs": [
    {
     "name": "stderr",
     "output_type": "stream",
     "text": [
      "/Users/jiazhixiang/workspace/AI/lib/python3.7/site-packages/ipykernel_launcher.py:2: FutureWarning: Sorting because non-concatenation axis is not aligned. A future version\n",
      "of pandas will change to not sort by default.\n",
      "\n",
      "To accept the future behavior, pass 'sort=False'.\n",
      "\n",
      "To retain the current behavior and silence the warning, pass 'sort=True'.\n",
      "\n",
      "  \n"
     ]
    },
    {
     "data": {
      "text/html": [
       "<div>\n",
       "<style scoped>\n",
       "    .dataframe tbody tr th:only-of-type {\n",
       "        vertical-align: middle;\n",
       "    }\n",
       "\n",
       "    .dataframe tbody tr th {\n",
       "        vertical-align: top;\n",
       "    }\n",
       "\n",
       "    .dataframe thead th {\n",
       "        text-align: right;\n",
       "    }\n",
       "</style>\n",
       "<table border=\"1\" class=\"dataframe\">\n",
       "  <thead>\n",
       "    <tr style=\"text-align: right;\">\n",
       "      <th></th>\n",
       "      <th>A</th>\n",
       "      <th>B</th>\n",
       "      <th>C</th>\n",
       "      <th>D</th>\n",
       "    </tr>\n",
       "  </thead>\n",
       "  <tbody>\n",
       "    <tr>\n",
       "      <th>0</th>\n",
       "      <td>A0</td>\n",
       "      <td>B0</td>\n",
       "      <td>C0</td>\n",
       "      <td>NaN</td>\n",
       "    </tr>\n",
       "    <tr>\n",
       "      <th>1</th>\n",
       "      <td>A1</td>\n",
       "      <td>B1</td>\n",
       "      <td>C1</td>\n",
       "      <td>NaN</td>\n",
       "    </tr>\n",
       "    <tr>\n",
       "      <th>2</th>\n",
       "      <td>A2</td>\n",
       "      <td>B2</td>\n",
       "      <td>C2</td>\n",
       "      <td>NaN</td>\n",
       "    </tr>\n",
       "    <tr>\n",
       "      <th>3</th>\n",
       "      <td>A3</td>\n",
       "      <td>B3</td>\n",
       "      <td>C3</td>\n",
       "      <td>NaN</td>\n",
       "    </tr>\n",
       "    <tr>\n",
       "      <th>4</th>\n",
       "      <td>NaN</td>\n",
       "      <td>B0</td>\n",
       "      <td>C0</td>\n",
       "      <td>D0</td>\n",
       "    </tr>\n",
       "    <tr>\n",
       "      <th>5</th>\n",
       "      <td>NaN</td>\n",
       "      <td>B1</td>\n",
       "      <td>C1</td>\n",
       "      <td>D1</td>\n",
       "    </tr>\n",
       "    <tr>\n",
       "      <th>6</th>\n",
       "      <td>NaN</td>\n",
       "      <td>B2</td>\n",
       "      <td>C2</td>\n",
       "      <td>D2</td>\n",
       "    </tr>\n",
       "    <tr>\n",
       "      <th>7</th>\n",
       "      <td>NaN</td>\n",
       "      <td>B3</td>\n",
       "      <td>C3</td>\n",
       "      <td>D3</td>\n",
       "    </tr>\n",
       "  </tbody>\n",
       "</table>\n",
       "</div>"
      ],
      "text/plain": [
       "     A   B   C    D\n",
       "0   A0  B0  C0  NaN\n",
       "1   A1  B1  C1  NaN\n",
       "2   A2  B2  C2  NaN\n",
       "3   A3  B3  C3  NaN\n",
       "4  NaN  B0  C0   D0\n",
       "5  NaN  B1  C1   D1\n",
       "6  NaN  B2  C2   D2\n",
       "7  NaN  B3  C3   D3"
      ]
     },
     "execution_count": 16,
     "metadata": {},
     "output_type": "execute_result"
    }
   ],
   "source": [
    "# 如果两个表的index都没有实际含义，使用ignore_index参数，置true，重新整理一个新的index。\n",
    "pd.concat([df1,df2],axis=0,join='outer',ignore_index=True)"
   ]
  },
  {
   "cell_type": "code",
   "execution_count": 17,
   "metadata": {},
   "outputs": [
    {
     "data": {
      "text/html": [
       "<div>\n",
       "<style scoped>\n",
       "    .dataframe tbody tr th:only-of-type {\n",
       "        vertical-align: middle;\n",
       "    }\n",
       "\n",
       "    .dataframe tbody tr th {\n",
       "        vertical-align: top;\n",
       "    }\n",
       "\n",
       "    .dataframe thead th {\n",
       "        text-align: right;\n",
       "    }\n",
       "</style>\n",
       "<table border=\"1\" class=\"dataframe\">\n",
       "  <thead>\n",
       "    <tr style=\"text-align: right;\">\n",
       "      <th></th>\n",
       "      <th>A</th>\n",
       "      <th>B</th>\n",
       "      <th>C</th>\n",
       "      <th>B</th>\n",
       "      <th>C</th>\n",
       "      <th>D</th>\n",
       "    </tr>\n",
       "  </thead>\n",
       "  <tbody>\n",
       "    <tr>\n",
       "      <th>0</th>\n",
       "      <td>A0</td>\n",
       "      <td>B0</td>\n",
       "      <td>C0</td>\n",
       "      <td>B0</td>\n",
       "      <td>C0</td>\n",
       "      <td>D0</td>\n",
       "    </tr>\n",
       "    <tr>\n",
       "      <th>1</th>\n",
       "      <td>A1</td>\n",
       "      <td>B1</td>\n",
       "      <td>C1</td>\n",
       "      <td>B1</td>\n",
       "      <td>C1</td>\n",
       "      <td>D1</td>\n",
       "    </tr>\n",
       "    <tr>\n",
       "      <th>2</th>\n",
       "      <td>A2</td>\n",
       "      <td>B2</td>\n",
       "      <td>C2</td>\n",
       "      <td>B2</td>\n",
       "      <td>C2</td>\n",
       "      <td>D2</td>\n",
       "    </tr>\n",
       "    <tr>\n",
       "      <th>3</th>\n",
       "      <td>A3</td>\n",
       "      <td>B3</td>\n",
       "      <td>C3</td>\n",
       "      <td>B3</td>\n",
       "      <td>C3</td>\n",
       "      <td>D3</td>\n",
       "    </tr>\n",
       "  </tbody>\n",
       "</table>\n",
       "</div>"
      ],
      "text/plain": [
       "    A   B   C   B   C   D\n",
       "0  A0  B0  C0  B0  C0  D0\n",
       "1  A1  B1  C1  B1  C1  D1\n",
       "2  A2  B2  C2  B2  C2  D2\n",
       "3  A3  B3  C3  B3  C3  D3"
      ]
     },
     "execution_count": 17,
     "metadata": {},
     "output_type": "execute_result"
    }
   ],
   "source": [
    "pd.concat([df1,df2],axis=1,join='outer')  # axis参数为1时，行进行并集处理，横向表拼接，\n",
    "\n",
    "# 当join='outer'，axis参数为1时，行进行并集处理，横向表拼接，缺失值由NaN填充。\n",
    "# 当concat()的join参数为inner时合并df1和df2时："
   ]
  },
  {
   "cell_type": "code",
   "execution_count": 21,
   "metadata": {},
   "outputs": [
    {
     "data": {
      "text/html": [
       "<div>\n",
       "<style scoped>\n",
       "    .dataframe tbody tr th:only-of-type {\n",
       "        vertical-align: middle;\n",
       "    }\n",
       "\n",
       "    .dataframe tbody tr th {\n",
       "        vertical-align: top;\n",
       "    }\n",
       "\n",
       "    .dataframe thead th {\n",
       "        text-align: right;\n",
       "    }\n",
       "</style>\n",
       "<table border=\"1\" class=\"dataframe\">\n",
       "  <thead>\n",
       "    <tr style=\"text-align: right;\">\n",
       "      <th></th>\n",
       "      <th>B</th>\n",
       "      <th>C</th>\n",
       "    </tr>\n",
       "  </thead>\n",
       "  <tbody>\n",
       "    <tr>\n",
       "      <th>0</th>\n",
       "      <td>B0</td>\n",
       "      <td>C0</td>\n",
       "    </tr>\n",
       "    <tr>\n",
       "      <th>1</th>\n",
       "      <td>B1</td>\n",
       "      <td>C1</td>\n",
       "    </tr>\n",
       "    <tr>\n",
       "      <th>2</th>\n",
       "      <td>B2</td>\n",
       "      <td>C2</td>\n",
       "    </tr>\n",
       "    <tr>\n",
       "      <th>3</th>\n",
       "      <td>B3</td>\n",
       "      <td>C3</td>\n",
       "    </tr>\n",
       "    <tr>\n",
       "      <th>0</th>\n",
       "      <td>B0</td>\n",
       "      <td>C0</td>\n",
       "    </tr>\n",
       "    <tr>\n",
       "      <th>1</th>\n",
       "      <td>B1</td>\n",
       "      <td>C1</td>\n",
       "    </tr>\n",
       "    <tr>\n",
       "      <th>2</th>\n",
       "      <td>B2</td>\n",
       "      <td>C2</td>\n",
       "    </tr>\n",
       "    <tr>\n",
       "      <th>3</th>\n",
       "      <td>B3</td>\n",
       "      <td>C3</td>\n",
       "    </tr>\n",
       "  </tbody>\n",
       "</table>\n",
       "</div>"
      ],
      "text/plain": [
       "    B   C\n",
       "0  B0  C0\n",
       "1  B1  C1\n",
       "2  B2  C2\n",
       "3  B3  C3\n",
       "0  B0  C0\n",
       "1  B1  C1\n",
       "2  B2  C2\n",
       "3  B3  C3"
      ]
     },
     "execution_count": 21,
     "metadata": {},
     "output_type": "execute_result"
    }
   ],
   "source": [
    "pd.concat([df1,df2],axis=0,join='inner')"
   ]
  },
  {
   "cell_type": "markdown",
   "metadata": {},
   "source": [
    "## merge()"
   ]
  },
  {
   "cell_type": "markdown",
   "metadata": {},
   "source": [
    "* 融合（merging），`pd.merge()`方法可以根据一个或多个键将不同DataFrame中的行连接起来"
   ]
  },
  {
   "cell_type": "code",
   "execution_count": null,
   "metadata": {},
   "outputs": [],
   "source": [
    "merge()函数通过指定连接键拼接列数据，我们先看一下merge的常用参数：\n",
    "\n",
    "merge(left, right, how='inner', on=None)\n",
    "参数介绍\n",
    "left和right：两个要合并的DataFrame\n",
    "how：连接方式，有inner、left、right、outer，默认为inner\n",
    "on：指的是用于连接的列索引名称，必须存在于左右两个DataFrame中，如果没有指定且其他参数也没有指定，则以两个DataFrame列名交集作为连接键"
   ]
  },
  {
   "cell_type": "code",
   "execution_count": null,
   "metadata": {},
   "outputs": [],
   "source": []
  },
  {
   "cell_type": "code",
   "execution_count": 24,
   "metadata": {},
   "outputs": [
    {
     "name": "stdout",
     "output_type": "stream",
     "text": [
      "  key  data1\n",
      "0   a      0\n",
      "1   b      1\n",
      "2   b      2\n",
      "3   d      3\n"
     ]
    }
   ],
   "source": [
    "import pandas as pd\n",
    "left = pd.DataFrame({'key':['a','b','b','d'],'data1':range(4)})\n",
    "print(left)"
   ]
  },
  {
   "cell_type": "code",
   "execution_count": 25,
   "metadata": {},
   "outputs": [
    {
     "name": "stdout",
     "output_type": "stream",
     "text": [
      "  key  data2\n",
      "0   a      0\n",
      "1   b      1\n",
      "2   c      2\n"
     ]
    }
   ],
   "source": [
    "right = pd.DataFrame({'key':['a','b','c'],'data2':range(3)})\n",
    "print(right)"
   ]
  },
  {
   "cell_type": "code",
   "execution_count": 26,
   "metadata": {
    "collapsed": true
   },
   "outputs": [
    {
     "data": {
      "text/html": [
       "<div>\n",
       "<style scoped>\n",
       "    .dataframe tbody tr th:only-of-type {\n",
       "        vertical-align: middle;\n",
       "    }\n",
       "\n",
       "    .dataframe tbody tr th {\n",
       "        vertical-align: top;\n",
       "    }\n",
       "\n",
       "    .dataframe thead th {\n",
       "        text-align: right;\n",
       "    }\n",
       "</style>\n",
       "<table border=\"1\" class=\"dataframe\">\n",
       "  <thead>\n",
       "    <tr style=\"text-align: right;\">\n",
       "      <th></th>\n",
       "      <th>key</th>\n",
       "      <th>data1</th>\n",
       "      <th>data2</th>\n",
       "    </tr>\n",
       "  </thead>\n",
       "  <tbody>\n",
       "    <tr>\n",
       "      <th>0</th>\n",
       "      <td>a</td>\n",
       "      <td>0</td>\n",
       "      <td>0</td>\n",
       "    </tr>\n",
       "    <tr>\n",
       "      <th>1</th>\n",
       "      <td>b</td>\n",
       "      <td>1</td>\n",
       "      <td>1</td>\n",
       "    </tr>\n",
       "    <tr>\n",
       "      <th>2</th>\n",
       "      <td>b</td>\n",
       "      <td>2</td>\n",
       "      <td>1</td>\n",
       "    </tr>\n",
       "  </tbody>\n",
       "</table>\n",
       "</div>"
      ],
      "text/plain": [
       "  key  data1  data2\n",
       "0   a      0      0\n",
       "1   b      1      1\n",
       "2   b      2      1"
      ]
     },
     "execution_count": 26,
     "metadata": {},
     "output_type": "execute_result"
    }
   ],
   "source": [
    "# 当merge()使用默认参数连接两个DataFrame时：\n",
    "\n",
    "pd.merge(left, right)\n",
    "# merge()默认做inner连接，并且使用两个DataFrame的列名交集（key）作为连接键，同样，最终连接的数据也是两个DataFramekey列数据的交集。"
   ]
  },
  {
   "cell_type": "code",
   "execution_count": 27,
   "metadata": {},
   "outputs": [
    {
     "data": {
      "text/html": [
       "<div>\n",
       "<style scoped>\n",
       "    .dataframe tbody tr th:only-of-type {\n",
       "        vertical-align: middle;\n",
       "    }\n",
       "\n",
       "    .dataframe tbody tr th {\n",
       "        vertical-align: top;\n",
       "    }\n",
       "\n",
       "    .dataframe thead th {\n",
       "        text-align: right;\n",
       "    }\n",
       "</style>\n",
       "<table border=\"1\" class=\"dataframe\">\n",
       "  <thead>\n",
       "    <tr style=\"text-align: right;\">\n",
       "      <th></th>\n",
       "      <th>key</th>\n",
       "      <th>data1</th>\n",
       "      <th>data2</th>\n",
       "    </tr>\n",
       "  </thead>\n",
       "  <tbody>\n",
       "    <tr>\n",
       "      <th>0</th>\n",
       "      <td>a</td>\n",
       "      <td>0.0</td>\n",
       "      <td>0.0</td>\n",
       "    </tr>\n",
       "    <tr>\n",
       "      <th>1</th>\n",
       "      <td>b</td>\n",
       "      <td>1.0</td>\n",
       "      <td>1.0</td>\n",
       "    </tr>\n",
       "    <tr>\n",
       "      <th>2</th>\n",
       "      <td>b</td>\n",
       "      <td>2.0</td>\n",
       "      <td>1.0</td>\n",
       "    </tr>\n",
       "    <tr>\n",
       "      <th>3</th>\n",
       "      <td>d</td>\n",
       "      <td>3.0</td>\n",
       "      <td>NaN</td>\n",
       "    </tr>\n",
       "    <tr>\n",
       "      <th>4</th>\n",
       "      <td>c</td>\n",
       "      <td>NaN</td>\n",
       "      <td>2.0</td>\n",
       "    </tr>\n",
       "  </tbody>\n",
       "</table>\n",
       "</div>"
      ],
      "text/plain": [
       "  key  data1  data2\n",
       "0   a    0.0    0.0\n",
       "1   b    1.0    1.0\n",
       "2   b    2.0    1.0\n",
       "3   d    3.0    NaN\n",
       "4   c    NaN    2.0"
      ]
     },
     "execution_count": 27,
     "metadata": {},
     "output_type": "execute_result"
    }
   ],
   "source": [
    "# 当两个DataFram使用做outer连接时：\n",
    "pd.merge(left,right,on=['key'],how='outer')\n",
    "# 当merge()做outer连接时最终连接的数据是两个DataFramekey列数据的并集，缺失的内容由NaN填充。"
   ]
  },
  {
   "cell_type": "code",
   "execution_count": 28,
   "metadata": {},
   "outputs": [
    {
     "data": {
      "text/html": [
       "<div>\n",
       "<style scoped>\n",
       "    .dataframe tbody tr th:only-of-type {\n",
       "        vertical-align: middle;\n",
       "    }\n",
       "\n",
       "    .dataframe tbody tr th {\n",
       "        vertical-align: top;\n",
       "    }\n",
       "\n",
       "    .dataframe thead th {\n",
       "        text-align: right;\n",
       "    }\n",
       "</style>\n",
       "<table border=\"1\" class=\"dataframe\">\n",
       "  <thead>\n",
       "    <tr style=\"text-align: right;\">\n",
       "      <th></th>\n",
       "      <th>key</th>\n",
       "      <th>data1</th>\n",
       "      <th>data2</th>\n",
       "    </tr>\n",
       "  </thead>\n",
       "  <tbody>\n",
       "    <tr>\n",
       "      <th>0</th>\n",
       "      <td>a</td>\n",
       "      <td>0</td>\n",
       "      <td>0.0</td>\n",
       "    </tr>\n",
       "    <tr>\n",
       "      <th>1</th>\n",
       "      <td>b</td>\n",
       "      <td>1</td>\n",
       "      <td>1.0</td>\n",
       "    </tr>\n",
       "    <tr>\n",
       "      <th>2</th>\n",
       "      <td>b</td>\n",
       "      <td>2</td>\n",
       "      <td>1.0</td>\n",
       "    </tr>\n",
       "    <tr>\n",
       "      <th>3</th>\n",
       "      <td>d</td>\n",
       "      <td>3</td>\n",
       "      <td>NaN</td>\n",
       "    </tr>\n",
       "  </tbody>\n",
       "</table>\n",
       "</div>"
      ],
      "text/plain": [
       "  key  data1  data2\n",
       "0   a      0    0.0\n",
       "1   b      1    1.0\n",
       "2   b      2    1.0\n",
       "3   d      3    NaN"
      ]
     },
     "execution_count": 28,
     "metadata": {},
     "output_type": "execute_result"
    }
   ],
   "source": [
    "# 当两个DataFram使用left做连接时：\n",
    "pd.merge(left,right,on=['key'],how='left')\n",
    "# 当merge()做left连接时，最终连接的数据将以left数据的链接建为准,合并两个数据的列数据，缺失的内容由NaN填充"
   ]
  },
  {
   "cell_type": "code",
   "execution_count": null,
   "metadata": {},
   "outputs": [],
   "source": []
  },
  {
   "cell_type": "markdown",
   "metadata": {},
   "source": [
    "# 二、数据的筛选\n",
    "\n",
    "文件路径：`../data/mouhu_users_2017.csv`\n",
    "\n",
    "数据详情:id、关注的收藏夹数量、关注数量、关注者数量（粉丝数）、关注的问题数量、关注的话题数量、关注的专栏数量。"
   ]
  },
  {
   "cell_type": "code",
   "execution_count": 29,
   "metadata": {
    "collapsed": true
   },
   "outputs": [
    {
     "name": "stdout",
     "output_type": "stream",
     "text": [
      "(5501, 7)\n",
      "                            _id  关注的收藏夹   关注   关注者  关注的问题  关注的话题  关注的专栏\n",
      "79     587598f89f11daf90617fc18       8  111  3049   1216     45     17\n",
      "101    587598f89f11daf90617fc44      61  123   205    670     24     18\n",
      "112    587598f99f11daf90617fc5a       1  804   197    830     39     26\n",
      "114    587598f99f11daf90617fc5e      44   62   201    314      8      3\n",
      "121    587598f99f11daf90617fc6c      44  628  6597   1566    144     69\n",
      "...                         ...     ...  ...   ...    ...    ...    ...\n",
      "72694  5878399e9f11da09c8fe690e       3  172   219    466     68     11\n",
      "72700  5878399e9f11da09c8fe691a      21   39   281     51     45      2\n",
      "72713  5878399e9f11da09c8fe6934      49  635   248   1772    151    123\n",
      "72726  5878399e9f11da09c8fe694e     447   62   728     14      1     21\n",
      "72741  5878399e9f11da09c8fe696c    3546  390   142     25      4    126\n",
      "\n",
      "[5501 rows x 7 columns]\n"
     ]
    }
   ],
   "source": [
    "# 了解了数据的基本情况之后，第一个需求是将关注者超过100的用户数据获取出来。\n",
    "import pandas as pd\n",
    "df = pd.read_csv('../data/mouhu_users_2017.csv')\n",
    "bools= df['关注者']>100\n",
    "df1 = df[bools]\n",
    "print(df1.shape)\n",
    "print(df1)"
   ]
  },
  {
   "cell_type": "code",
   "execution_count": 30,
   "metadata": {},
   "outputs": [],
   "source": [
    "# 我们已经准确获取到所有关注者超过100的用户数据，下面我们看一下代码的逻辑。"
   ]
  },
  {
   "cell_type": "code",
   "execution_count": 31,
   "metadata": {},
   "outputs": [],
   "source": [
    "# 首先判断每个用户的关注者数量是否大于100，大于则会返回True，表示该行被标记为True，否则被标记为False。\n",
    "# bools记录了每一行是否符合筛选条件，是一个Series对象，其中的值是bool类型。"
   ]
  },
  {
   "cell_type": "code",
   "execution_count": 33,
   "metadata": {
    "collapsed": true
   },
   "outputs": [
    {
     "data": {
      "text/html": [
       "<div>\n",
       "<style scoped>\n",
       "    .dataframe tbody tr th:only-of-type {\n",
       "        vertical-align: middle;\n",
       "    }\n",
       "\n",
       "    .dataframe tbody tr th {\n",
       "        vertical-align: top;\n",
       "    }\n",
       "\n",
       "    .dataframe thead th {\n",
       "        text-align: right;\n",
       "    }\n",
       "</style>\n",
       "<table border=\"1\" class=\"dataframe\">\n",
       "  <thead>\n",
       "    <tr style=\"text-align: right;\">\n",
       "      <th></th>\n",
       "      <th>_id</th>\n",
       "      <th>关注的收藏夹</th>\n",
       "      <th>关注</th>\n",
       "      <th>关注者</th>\n",
       "      <th>关注的问题</th>\n",
       "      <th>关注的话题</th>\n",
       "      <th>关注的专栏</th>\n",
       "    </tr>\n",
       "  </thead>\n",
       "  <tbody>\n",
       "    <tr>\n",
       "      <th>79</th>\n",
       "      <td>587598f89f11daf90617fc18</td>\n",
       "      <td>8</td>\n",
       "      <td>111</td>\n",
       "      <td>3049</td>\n",
       "      <td>1216</td>\n",
       "      <td>45</td>\n",
       "      <td>17</td>\n",
       "    </tr>\n",
       "    <tr>\n",
       "      <th>101</th>\n",
       "      <td>587598f89f11daf90617fc44</td>\n",
       "      <td>61</td>\n",
       "      <td>123</td>\n",
       "      <td>205</td>\n",
       "      <td>670</td>\n",
       "      <td>24</td>\n",
       "      <td>18</td>\n",
       "    </tr>\n",
       "    <tr>\n",
       "      <th>112</th>\n",
       "      <td>587598f99f11daf90617fc5a</td>\n",
       "      <td>1</td>\n",
       "      <td>804</td>\n",
       "      <td>197</td>\n",
       "      <td>830</td>\n",
       "      <td>39</td>\n",
       "      <td>26</td>\n",
       "    </tr>\n",
       "    <tr>\n",
       "      <th>114</th>\n",
       "      <td>587598f99f11daf90617fc5e</td>\n",
       "      <td>44</td>\n",
       "      <td>62</td>\n",
       "      <td>201</td>\n",
       "      <td>314</td>\n",
       "      <td>8</td>\n",
       "      <td>3</td>\n",
       "    </tr>\n",
       "    <tr>\n",
       "      <th>121</th>\n",
       "      <td>587598f99f11daf90617fc6c</td>\n",
       "      <td>44</td>\n",
       "      <td>628</td>\n",
       "      <td>6597</td>\n",
       "      <td>1566</td>\n",
       "      <td>144</td>\n",
       "      <td>69</td>\n",
       "    </tr>\n",
       "    <tr>\n",
       "      <th>...</th>\n",
       "      <td>...</td>\n",
       "      <td>...</td>\n",
       "      <td>...</td>\n",
       "      <td>...</td>\n",
       "      <td>...</td>\n",
       "      <td>...</td>\n",
       "      <td>...</td>\n",
       "    </tr>\n",
       "    <tr>\n",
       "      <th>72694</th>\n",
       "      <td>5878399e9f11da09c8fe690e</td>\n",
       "      <td>3</td>\n",
       "      <td>172</td>\n",
       "      <td>219</td>\n",
       "      <td>466</td>\n",
       "      <td>68</td>\n",
       "      <td>11</td>\n",
       "    </tr>\n",
       "    <tr>\n",
       "      <th>72700</th>\n",
       "      <td>5878399e9f11da09c8fe691a</td>\n",
       "      <td>21</td>\n",
       "      <td>39</td>\n",
       "      <td>281</td>\n",
       "      <td>51</td>\n",
       "      <td>45</td>\n",
       "      <td>2</td>\n",
       "    </tr>\n",
       "    <tr>\n",
       "      <th>72713</th>\n",
       "      <td>5878399e9f11da09c8fe6934</td>\n",
       "      <td>49</td>\n",
       "      <td>635</td>\n",
       "      <td>248</td>\n",
       "      <td>1772</td>\n",
       "      <td>151</td>\n",
       "      <td>123</td>\n",
       "    </tr>\n",
       "    <tr>\n",
       "      <th>72726</th>\n",
       "      <td>5878399e9f11da09c8fe694e</td>\n",
       "      <td>447</td>\n",
       "      <td>62</td>\n",
       "      <td>728</td>\n",
       "      <td>14</td>\n",
       "      <td>1</td>\n",
       "      <td>21</td>\n",
       "    </tr>\n",
       "    <tr>\n",
       "      <th>72741</th>\n",
       "      <td>5878399e9f11da09c8fe696c</td>\n",
       "      <td>3546</td>\n",
       "      <td>390</td>\n",
       "      <td>142</td>\n",
       "      <td>25</td>\n",
       "      <td>4</td>\n",
       "      <td>126</td>\n",
       "    </tr>\n",
       "  </tbody>\n",
       "</table>\n",
       "<p>5501 rows × 7 columns</p>\n",
       "</div>"
      ],
      "text/plain": [
       "                            _id  关注的收藏夹   关注   关注者  关注的问题  关注的话题  关注的专栏\n",
       "79     587598f89f11daf90617fc18       8  111  3049   1216     45     17\n",
       "101    587598f89f11daf90617fc44      61  123   205    670     24     18\n",
       "112    587598f99f11daf90617fc5a       1  804   197    830     39     26\n",
       "114    587598f99f11daf90617fc5e      44   62   201    314      8      3\n",
       "121    587598f99f11daf90617fc6c      44  628  6597   1566    144     69\n",
       "...                         ...     ...  ...   ...    ...    ...    ...\n",
       "72694  5878399e9f11da09c8fe690e       3  172   219    466     68     11\n",
       "72700  5878399e9f11da09c8fe691a      21   39   281     51     45      2\n",
       "72713  5878399e9f11da09c8fe6934      49  635   248   1772    151    123\n",
       "72726  5878399e9f11da09c8fe694e     447   62   728     14      1     21\n",
       "72741  5878399e9f11da09c8fe696c    3546  390   142     25      4    126\n",
       "\n",
       "[5501 rows x 7 columns]"
      ]
     },
     "execution_count": 33,
     "metadata": {},
     "output_type": "execute_result"
    }
   ],
   "source": [
    "df1 = df[bools]\n",
    "df1"
   ]
  },
  {
   "cell_type": "code",
   "execution_count": 34,
   "metadata": {},
   "outputs": [],
   "source": [
    "# 然后，根据**bools**每行的值来对df进行筛选，值为True，表示对应的行会留下，否则，则去除。\n",
    "\n",
    "# 最后打印的df1数据就是关注者超过100的用户数据。这是pandas根据某列的值进行筛选的基本逻辑。\n",
    "\n",
    "# 根据某列的值进行筛选的逻辑我们已经掌握了，如何进行多条件的联合筛选呢？"
   ]
  },
  {
   "cell_type": "code",
   "execution_count": 35,
   "metadata": {
    "collapsed": true
   },
   "outputs": [
    {
     "data": {
      "text/html": [
       "<div>\n",
       "<style scoped>\n",
       "    .dataframe tbody tr th:only-of-type {\n",
       "        vertical-align: middle;\n",
       "    }\n",
       "\n",
       "    .dataframe tbody tr th {\n",
       "        vertical-align: top;\n",
       "    }\n",
       "\n",
       "    .dataframe thead th {\n",
       "        text-align: right;\n",
       "    }\n",
       "</style>\n",
       "<table border=\"1\" class=\"dataframe\">\n",
       "  <thead>\n",
       "    <tr style=\"text-align: right;\">\n",
       "      <th></th>\n",
       "      <th>_id</th>\n",
       "      <th>关注的收藏夹</th>\n",
       "      <th>关注</th>\n",
       "      <th>关注者</th>\n",
       "      <th>关注的问题</th>\n",
       "      <th>关注的话题</th>\n",
       "      <th>关注的专栏</th>\n",
       "    </tr>\n",
       "  </thead>\n",
       "  <tbody>\n",
       "    <tr>\n",
       "      <th>79</th>\n",
       "      <td>587598f89f11daf90617fc18</td>\n",
       "      <td>8</td>\n",
       "      <td>111</td>\n",
       "      <td>3049</td>\n",
       "      <td>1216</td>\n",
       "      <td>45</td>\n",
       "      <td>17</td>\n",
       "    </tr>\n",
       "    <tr>\n",
       "      <th>121</th>\n",
       "      <td>587598f99f11daf90617fc6c</td>\n",
       "      <td>44</td>\n",
       "      <td>628</td>\n",
       "      <td>6597</td>\n",
       "      <td>1566</td>\n",
       "      <td>144</td>\n",
       "      <td>69</td>\n",
       "    </tr>\n",
       "    <tr>\n",
       "      <th>155</th>\n",
       "      <td>587598f99f11daf90617fcb0</td>\n",
       "      <td>194</td>\n",
       "      <td>250</td>\n",
       "      <td>1103</td>\n",
       "      <td>10</td>\n",
       "      <td>1</td>\n",
       "      <td>19</td>\n",
       "    </tr>\n",
       "    <tr>\n",
       "      <th>228</th>\n",
       "      <td>587598f99f11daf90617fd42</td>\n",
       "      <td>48</td>\n",
       "      <td>224</td>\n",
       "      <td>1450</td>\n",
       "      <td>360</td>\n",
       "      <td>128</td>\n",
       "      <td>20</td>\n",
       "    </tr>\n",
       "    <tr>\n",
       "      <th>261</th>\n",
       "      <td>587598f99f11daf90617fd84</td>\n",
       "      <td>1125</td>\n",
       "      <td>842</td>\n",
       "      <td>24848</td>\n",
       "      <td>108</td>\n",
       "      <td>33</td>\n",
       "      <td>27</td>\n",
       "    </tr>\n",
       "  </tbody>\n",
       "</table>\n",
       "</div>"
      ],
      "text/plain": [
       "                          _id  关注的收藏夹   关注    关注者  关注的问题  关注的话题  关注的专栏\n",
       "79   587598f89f11daf90617fc18       8  111   3049   1216     45     17\n",
       "121  587598f99f11daf90617fc6c      44  628   6597   1566    144     69\n",
       "155  587598f99f11daf90617fcb0     194  250   1103     10      1     19\n",
       "228  587598f99f11daf90617fd42      48  224   1450    360    128     20\n",
       "261  587598f99f11daf90617fd84    1125  842  24848    108     33     27"
      ]
     },
     "execution_count": 35,
     "metadata": {},
     "output_type": "execute_result"
    }
   ],
   "source": [
    "import pandas as pd\n",
    "df = pd.read_csv('../data/mouhu_users_2017.csv')\n",
    "bool1= df['关注者']>300\n",
    "bool2= df['关注']>100\n",
    "df2 = df[bool1 & bool2]\n",
    "df2.head()"
   ]
  },
  {
   "cell_type": "code",
   "execution_count": null,
   "metadata": {},
   "outputs": [],
   "source": [
    "# 上面的这段代码里，我们通过了2个限制条件df['关注者']>300和 df['关注']>100，分别得到 bool1和bool2这2个Series。\n",
    "\n",
    "# 在我们的需求中，需要的数据是同时满足两个条件，所以我们使用逻辑**与**运算连接两个值，最后获取同时满足两个条件的值。"
   ]
  },
  {
   "cell_type": "code",
   "execution_count": null,
   "metadata": {},
   "outputs": [],
   "source": []
  },
  {
   "cell_type": "code",
   "execution_count": null,
   "metadata": {},
   "outputs": [],
   "source": []
  },
  {
   "cell_type": "markdown",
   "metadata": {},
   "source": [
    "# 数据的排序"
   ]
  },
  {
   "cell_type": "code",
   "execution_count": null,
   "metadata": {},
   "outputs": [],
   "source": [
    "# 在数据获取过程中，数据的排序也是我们经常需要处理的问题\n",
    "# 可以使用`sort_index()`、`sort_values()`两个方法对数据进行排序，并且这两个方法Series和DataFrame都支持。\n",
    "# DataFrame的`sort_index( )`方法是按照行索引进行排序，`sort_values()`可以指定具体列进行排序。"
   ]
  },
  {
   "cell_type": "code",
   "execution_count": null,
   "metadata": {},
   "outputs": [],
   "source": [
    "获取了关注者数据前十的用户数据"
   ]
  },
  {
   "cell_type": "code",
   "execution_count": 37,
   "metadata": {},
   "outputs": [
    {
     "name": "stdout",
     "output_type": "stream",
     "text": [
      "                            _id  关注的收藏夹    关注     关注者  关注的问题  关注的话题  关注的专栏\n",
      "23313  5876ee159f11da03c9726155    3181  1053  585787     93     33     26\n",
      "14461  5876ede89f11da03c9721c33    1041   254  356246     92      3     23\n",
      "22048  5876ee0c9f11da03c9725773      41    72  351414    336     47     16\n",
      "52464  5876ece59f11da03afbc71b3    1652   794  308553     23      1    112\n",
      "42135  5876eb5a9f11da0399d461b7    1182   532  268353     23      1     54\n",
      "63579  5878396e9f11da09c8fe21e6   10819  1412  198199     90      1    517\n",
      "21740  5876ee0b9f11da03c972550b     991   479  195175     46      3     18\n",
      "56721  5876ecfa9f11da03afbc92f1     164   550  164254      0      1     19\n",
      "22784  5876ee129f11da03c9725d33    2011   579  148457     49      6     44\n",
      "29577  587838f59f11da09bd427945       8   303  137087    477     19     15\n"
     ]
    }
   ],
   "source": [
    "import pandas as pd\n",
    "df = pd.read_csv('../data/mouhu_users_2017.csv')\n",
    "df.sort_values(by='关注者',ascending=False,inplace=True)\n",
    "print(df.head(10))"
   ]
  },
  {
   "cell_type": "markdown",
   "metadata": {},
   "source": [
    "我们成功的获取了关注者数据前十的用户数据，按照惯例我们一起分析一下代码。\n",
    "\n",
    "`by`:决定了是按数据中的哪一列进行排序，将需要按照某列排序的列名赋值给by即可\n",
    "\n",
    "`ascending=False`:将数据按照从大到小的顺序排列\n",
    "\n",
    "`inplace=True`:用来控制是否直接对原始数据进行修改\n",
    "\n",
    "根据排序后的结果，我们发现最高的关注者数量已经达到了585787，并远远的看着第二名的356246，确有大V的潜质啊。\n"
   ]
  },
  {
   "cell_type": "code",
   "execution_count": null,
   "metadata": {},
   "outputs": [],
   "source": []
  }
 ],
 "metadata": {
  "kernelspec": {
   "display_name": "Python 3",
   "language": "python",
   "name": "python3"
  },
  "language_info": {
   "codemirror_mode": {
    "name": "ipython",
    "version": 3
   },
   "file_extension": ".py",
   "mimetype": "text/x-python",
   "name": "python",
   "nbconvert_exporter": "python",
   "pygments_lexer": "ipython3",
   "version": "3.7.3"
  }
 },
 "nbformat": 4,
 "nbformat_minor": 2
}
