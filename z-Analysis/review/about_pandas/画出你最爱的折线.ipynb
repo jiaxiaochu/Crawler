{
 "cells": [
  {
   "cell_type": "markdown",
   "metadata": {},
   "source": [
    "题目： 画出你最爱的折线\n",
    "\n",
    "**题目要求**：\n",
    "\n",
    "本练习继续使用某电商超市从2016年到2019年的部分销售数据，路径为：`./data/Commerce.xls`。\n",
    "\n",
    "请用一张图绘制出2018年各地区销售总额及增长率。如下图：\n",
    "\n",
    "![](../assets/3.png)\n",
    "\n"
   ]
  },
  {
   "cell_type": "code",
   "execution_count": null,
   "metadata": {},
   "outputs": [],
   "source": [
    "2018年各地区的销售总额     地区   销售额(年份)\n",
    "1.读取数据\n",
    "2.将时间(订单日期)设置为数据的索引\n",
    "3.根据设置完索引的数据按照地区进行分组，并统计出销售额\n",
    "4.计算增长率\n",
    "5.绘图"
   ]
  },
  {
   "cell_type": "code",
   "execution_count": 1,
   "metadata": {},
   "outputs": [],
   "source": [
    "import pandas as pd\n",
    "from matplotlib import pyplot as plt"
   ]
  },
  {
   "cell_type": "code",
   "execution_count": 3,
   "metadata": {
    "collapsed": true
   },
   "outputs": [
    {
     "data": {
      "text/html": [
       "<div>\n",
       "<style scoped>\n",
       "    .dataframe tbody tr th:only-of-type {\n",
       "        vertical-align: middle;\n",
       "    }\n",
       "\n",
       "    .dataframe tbody tr th {\n",
       "        vertical-align: top;\n",
       "    }\n",
       "\n",
       "    .dataframe thead th {\n",
       "        text-align: right;\n",
       "    }\n",
       "</style>\n",
       "<table border=\"1\" class=\"dataframe\">\n",
       "  <thead>\n",
       "    <tr style=\"text-align: right;\">\n",
       "      <th></th>\n",
       "      <th>行 ID</th>\n",
       "      <th>订单 ID</th>\n",
       "      <th>订单日期</th>\n",
       "      <th>邮寄方式</th>\n",
       "      <th>客户 ID</th>\n",
       "      <th>客户名称</th>\n",
       "      <th>细分</th>\n",
       "      <th>城市</th>\n",
       "      <th>省/自治区</th>\n",
       "      <th>国家</th>\n",
       "      <th>地区</th>\n",
       "      <th>产品 ID</th>\n",
       "      <th>类别</th>\n",
       "      <th>子类别</th>\n",
       "      <th>产品名称</th>\n",
       "      <th>销售额</th>\n",
       "      <th>数量</th>\n",
       "      <th>折扣</th>\n",
       "      <th>利润</th>\n",
       "    </tr>\n",
       "  </thead>\n",
       "  <tbody>\n",
       "    <tr>\n",
       "      <th>0</th>\n",
       "      <td>1</td>\n",
       "      <td>US-2019-1357144</td>\n",
       "      <td>2019-04-27</td>\n",
       "      <td>二级</td>\n",
       "      <td>曾惠-14485</td>\n",
       "      <td>曾惠</td>\n",
       "      <td>公司</td>\n",
       "      <td>杭州</td>\n",
       "      <td>浙江</td>\n",
       "      <td>中国</td>\n",
       "      <td>华东</td>\n",
       "      <td>办公用-用品-10002717</td>\n",
       "      <td>办公用品</td>\n",
       "      <td>用品</td>\n",
       "      <td>Fiskars 剪刀, 蓝色</td>\n",
       "      <td>163.696</td>\n",
       "      <td>10</td>\n",
       "      <td>0.37</td>\n",
       "      <td>-60.704</td>\n",
       "    </tr>\n",
       "    <tr>\n",
       "      <th>1</th>\n",
       "      <td>2</td>\n",
       "      <td>CN-2019-1973789</td>\n",
       "      <td>2019-06-15</td>\n",
       "      <td>标准级</td>\n",
       "      <td>许安-10165</td>\n",
       "      <td>许安</td>\n",
       "      <td>消费者</td>\n",
       "      <td>内江</td>\n",
       "      <td>四川</td>\n",
       "      <td>中国</td>\n",
       "      <td>西南</td>\n",
       "      <td>办公用-信封-10004832</td>\n",
       "      <td>办公用品</td>\n",
       "      <td>信封</td>\n",
       "      <td>GlobeWeis 搭扣信封, 红色</td>\n",
       "      <td>159.440</td>\n",
       "      <td>10</td>\n",
       "      <td>0.00</td>\n",
       "      <td>42.560</td>\n",
       "    </tr>\n",
       "    <tr>\n",
       "      <th>2</th>\n",
       "      <td>3</td>\n",
       "      <td>CN-2019-1973789</td>\n",
       "      <td>2019-06-15</td>\n",
       "      <td>标准级</td>\n",
       "      <td>许安-10165</td>\n",
       "      <td>许安</td>\n",
       "      <td>消费者</td>\n",
       "      <td>内江</td>\n",
       "      <td>四川</td>\n",
       "      <td>中国</td>\n",
       "      <td>西南</td>\n",
       "      <td>办公用-装订-10001505</td>\n",
       "      <td>办公用品</td>\n",
       "      <td>装订机</td>\n",
       "      <td>Cardinal 孔加固材料, 回收</td>\n",
       "      <td>65.920</td>\n",
       "      <td>10</td>\n",
       "      <td>0.37</td>\n",
       "      <td>4.200</td>\n",
       "    </tr>\n",
       "    <tr>\n",
       "      <th>3</th>\n",
       "      <td>5</td>\n",
       "      <td>CN-2018-2975416</td>\n",
       "      <td>2018-05-31</td>\n",
       "      <td>二级</td>\n",
       "      <td>万兰-15730</td>\n",
       "      <td>万兰</td>\n",
       "      <td>消费者</td>\n",
       "      <td>汕头</td>\n",
       "      <td>广东</td>\n",
       "      <td>中国</td>\n",
       "      <td>中南</td>\n",
       "      <td>办公用-器具-10003452</td>\n",
       "      <td>办公用品</td>\n",
       "      <td>器具</td>\n",
       "      <td>KitchenAid 搅拌机, 黑色</td>\n",
       "      <td>1409.920</td>\n",
       "      <td>11</td>\n",
       "      <td>0.00</td>\n",
       "      <td>550.200</td>\n",
       "    </tr>\n",
       "    <tr>\n",
       "      <th>4</th>\n",
       "      <td>6</td>\n",
       "      <td>CN-2017-4497736</td>\n",
       "      <td>2017-10-27</td>\n",
       "      <td>标准级</td>\n",
       "      <td>俞明-18325</td>\n",
       "      <td>俞明</td>\n",
       "      <td>消费者</td>\n",
       "      <td>景德镇</td>\n",
       "      <td>江西</td>\n",
       "      <td>中国</td>\n",
       "      <td>华东</td>\n",
       "      <td>技术-设备-10001640</td>\n",
       "      <td>技术</td>\n",
       "      <td>设备</td>\n",
       "      <td>柯尼卡 打印机, 红色</td>\n",
       "      <td>11163.580</td>\n",
       "      <td>17</td>\n",
       "      <td>0.00</td>\n",
       "      <td>3783.780</td>\n",
       "    </tr>\n",
       "  </tbody>\n",
       "</table>\n",
       "</div>"
      ],
      "text/plain": [
       "   行 ID            订单 ID       订单日期 邮寄方式     客户 ID 客户名称   细分   城市 省/自治区  国家  \\\n",
       "0     1  US-2019-1357144 2019-04-27   二级  曾惠-14485   曾惠   公司   杭州    浙江  中国   \n",
       "1     2  CN-2019-1973789 2019-06-15  标准级  许安-10165   许安  消费者   内江    四川  中国   \n",
       "2     3  CN-2019-1973789 2019-06-15  标准级  许安-10165   许安  消费者   内江    四川  中国   \n",
       "3     5  CN-2018-2975416 2018-05-31   二级  万兰-15730   万兰  消费者   汕头    广东  中国   \n",
       "4     6  CN-2017-4497736 2017-10-27  标准级  俞明-18325   俞明  消费者  景德镇    江西  中国   \n",
       "\n",
       "   地区            产品 ID    类别  子类别                产品名称        销售额  数量    折扣  \\\n",
       "0  华东  办公用-用品-10002717  办公用品   用品      Fiskars 剪刀, 蓝色    163.696  10  0.37   \n",
       "1  西南  办公用-信封-10004832  办公用品   信封  GlobeWeis 搭扣信封, 红色    159.440  10  0.00   \n",
       "2  西南  办公用-装订-10001505  办公用品  装订机  Cardinal 孔加固材料, 回收     65.920  10  0.37   \n",
       "3  中南  办公用-器具-10003452  办公用品   器具  KitchenAid 搅拌机, 黑色   1409.920  11  0.00   \n",
       "4  华东   技术-设备-10001640    技术   设备         柯尼卡 打印机, 红色  11163.580  17  0.00   \n",
       "\n",
       "         利润  \n",
       "0   -60.704  \n",
       "1    42.560  \n",
       "2     4.200  \n",
       "3   550.200  \n",
       "4  3783.780  "
      ]
     },
     "execution_count": 3,
     "metadata": {},
     "output_type": "execute_result"
    }
   ],
   "source": [
    "data = pd.read_excel('../data/Commerce.xls')\n",
    "data.head()"
   ]
  },
  {
   "cell_type": "code",
   "execution_count": 4,
   "metadata": {},
   "outputs": [],
   "source": [
    "# 将订单日期设置为数据的行索引\n",
    "data.index = data['订单日期']"
   ]
  },
  {
   "cell_type": "code",
   "execution_count": 8,
   "metadata": {
    "collapsed": true
   },
   "outputs": [
    {
     "data": {
      "text/plain": [
       "地区\n",
       "东北    445\n",
       "中南    651\n",
       "华东    801\n",
       "华北    382\n",
       "西北    125\n",
       "西南    250\n",
       "dtype: int64"
      ]
     },
     "execution_count": 8,
     "metadata": {},
     "output_type": "execute_result"
    }
   ],
   "source": [
    "# 2018年各季度地区的销售额\n",
    "# area_sales18 = data\n",
    "data['2018'].groupby('地区').size()"
   ]
  },
  {
   "cell_type": "code",
   "execution_count": 9,
   "metadata": {
    "collapsed": true
   },
   "outputs": [
    {
     "data": {
      "text/plain": [
       "{'东北': DatetimeIndex(['2018-12-24', '2018-12-31', '2018-12-31', '2018-12-31',\n",
       "                '2018-03-11', '2018-11-04', '2018-10-30', '2018-02-01',\n",
       "                '2018-03-04', '2018-03-04',\n",
       "                ...\n",
       "                '2018-03-15', '2018-03-15', '2018-03-15', '2018-02-15',\n",
       "                '2018-02-15', '2018-06-05', '2018-06-05', '2018-06-05',\n",
       "                '2018-12-16', '2018-12-24'],\n",
       "               dtype='datetime64[ns]', name='订单日期', length=445, freq=None),\n",
       " '中南': DatetimeIndex(['2018-05-31', '2018-10-01', '2018-06-07', '2018-02-27',\n",
       "                '2018-09-18', '2018-09-18', '2018-11-29', '2018-11-29',\n",
       "                '2018-10-26', '2018-10-26',\n",
       "                ...\n",
       "                '2018-11-14', '2018-11-14', '2018-06-27', '2018-06-18',\n",
       "                '2018-06-18', '2018-06-18', '2018-06-18', '2018-06-18',\n",
       "                '2018-12-02', '2018-10-03'],\n",
       "               dtype='datetime64[ns]', name='订单日期', length=651, freq=None),\n",
       " '华东': DatetimeIndex(['2018-11-22', '2018-11-22', '2018-06-07', '2018-06-07',\n",
       "                '2018-06-07', '2018-06-07', '2018-06-07', '2018-06-07',\n",
       "                '2018-06-07', '2018-11-19',\n",
       "                ...\n",
       "                '2018-05-31', '2018-04-18', '2018-09-13', '2018-06-28',\n",
       "                '2018-06-28', '2018-08-12', '2018-08-12', '2018-03-04',\n",
       "                '2018-03-04', '2018-06-12'],\n",
       "               dtype='datetime64[ns]', name='订单日期', length=801, freq=None),\n",
       " '华北': DatetimeIndex(['2018-08-05', '2018-02-27', '2018-11-11', '2018-07-03',\n",
       "                '2018-07-03', '2018-10-31', '2018-10-31', '2018-10-31',\n",
       "                '2018-01-15', '2018-01-15',\n",
       "                ...\n",
       "                '2018-12-05', '2018-12-05', '2018-12-05', '2018-04-02',\n",
       "                '2018-08-13', '2018-08-13', '2018-08-13', '2018-12-26',\n",
       "                '2018-09-11', '2018-09-11'],\n",
       "               dtype='datetime64[ns]', name='订单日期', length=382, freq=None),\n",
       " '西北': DatetimeIndex(['2018-07-02', '2018-08-08', '2018-08-13', '2018-01-11',\n",
       "                '2018-03-15', '2018-03-15', '2018-03-15', '2018-04-18',\n",
       "                '2018-07-27', '2018-09-03',\n",
       "                ...\n",
       "                '2018-08-28', '2018-08-28', '2018-09-28', '2018-09-28',\n",
       "                '2018-11-04', '2018-11-04', '2018-11-04', '2018-11-04',\n",
       "                '2018-11-04', '2018-06-21'],\n",
       "               dtype='datetime64[ns]', name='订单日期', length=125, freq=None),\n",
       " '西南': DatetimeIndex(['2018-06-16', '2018-06-16', '2018-06-16', '2018-07-26',\n",
       "                '2018-11-12', '2018-11-12', '2018-04-16', '2018-10-22',\n",
       "                '2018-10-22', '2018-10-22',\n",
       "                ...\n",
       "                '2018-10-21', '2018-10-21', '2018-10-21', '2018-10-21',\n",
       "                '2018-11-16', '2018-11-16', '2018-03-07', '2018-03-07',\n",
       "                '2018-11-18', '2018-04-12'],\n",
       "               dtype='datetime64[ns]', name='订单日期', length=250, freq=None)}"
      ]
     },
     "execution_count": 9,
     "metadata": {},
     "output_type": "execute_result"
    }
   ],
   "source": [
    "# 2018年各季度地区的销售额\n",
    "# area_sales18 = data\n",
    "data['2018'].groupby('地区').groups"
   ]
  },
  {
   "cell_type": "code",
   "execution_count": 16,
   "metadata": {},
   "outputs": [
    {
     "data": {
      "text/plain": [
       "地区\n",
       "东北     769801.750\n",
       "中南     994035.777\n",
       "华东    1362444.842\n",
       "华北     615170.959\n",
       "西北     205343.676\n",
       "西南     386978.856\n",
       "Name: 销售额, dtype: float64"
      ]
     },
     "execution_count": 16,
     "metadata": {},
     "output_type": "execute_result"
    }
   ],
   "source": [
    "# 2018年各季度地区的总销售额\n",
    "# area_sales18 = data\n",
    "data['2018'].groupby('地区')['销售额'].sum()"
   ]
  },
  {
   "cell_type": "code",
   "execution_count": 17,
   "metadata": {},
   "outputs": [],
   "source": [
    "# 2018年各季度地区的总销售额\n",
    "area_sales18 = data['2018'].groupby('地区')['销售额'].sum()\n",
    "# data['2018'].groupby('地区')['销售额'].sum()"
   ]
  },
  {
   "cell_type": "code",
   "execution_count": 18,
   "metadata": {},
   "outputs": [],
   "source": [
    "# 201年各季度地区的总销售额\n",
    "area_sales17 = data['2017'].groupby('地区')['销售额'].sum()"
   ]
  },
  {
   "cell_type": "code",
   "execution_count": null,
   "metadata": {},
   "outputs": [],
   "source": [
    "# 将订单日期设置为数据的索引\n",
    "data.index = data['订单日期']\n",
    "\n",
    "# 2018年各季度各地区的总销售额\n",
    "area_sales18 = data['2018'].groupby('地区')['销售额'].sum()\n",
    "\n",
    "# 2017年各季度各地区的总销售额\n",
    "area_sales17 = data['2017'].groupby('地区')['销售额'].sum()\n",
    "\n",
    "# 增长率 = (area_sales18- area_sales17)/area_sales17\n",
    "growth_rate = (area_sales18-area_sales17)/area_sales17"
   ]
  },
  {
   "cell_type": "code",
   "execution_count": 22,
   "metadata": {},
   "outputs": [
    {
     "data": {
      "image/png": "[encoded data removed]",
      "text/plain": [
       "<Figure size 432x288 with 1 Axes>"
      ]
     },
     "metadata": {
      "needs_background": "light"
     },
     "output_type": "display_data"
    }
   ],
   "source": [
    "# 绘图\n",
    "fig = plt.figure()\n",
    "ax = fig.add_subplot(111)\n",
    "\n",
    "lin1 = ax.bar(area_sales18.index.tolist(),area_sales18.values.tolist())\n",
    "\n",
    "ax.set_ylabel(\"2018销售额\")\n",
    "ax.set_xlabel(\"地区\")\n",
    "\n",
    "plt.xticks(growth_rate.index)\n",
    "\n",
    "plt.show()"
   ]
  },
  {
   "cell_type": "code",
   "execution_count": 26,
   "metadata": {},
   "outputs": [
    {
     "data": {
      "image/png": "[encoded data removed]",
      "text/plain": [
       "<Figure size 432x288 with 2 Axes>"
      ]
     },
     "metadata": {
      "needs_background": "light"
     },
     "output_type": "display_data"
    }
   ],
   "source": [
    "# 绘图\n",
    "fig = plt.figure()\n",
    "ax = fig.add_subplot(111)\n",
    "\n",
    "lin1 = ax.bar(area_sales18.index.tolist(),area_sales18.values.tolist())\n",
    "\n",
    "ax.set_ylabel(\"2018销售额\")\n",
    "ax.set_xlabel(\"地区\")\n",
    "plt.xticks(growth_rate.index)\n",
    "\n",
    "ax2 = ax.twinx()\n",
    "lin2 = ax2.plot(growth_rate.index,growth_rate.values,color='red',marker='o')\n",
    "ax2.set_ylabel('增长率')\n",
    "\n",
    "plt.show()"
   ]
  },
  {
   "cell_type": "code",
   "execution_count": 27,
   "metadata": {},
   "outputs": [
    {
     "data": {
      "image/png": "[encoded data removed]",
      "text/plain": [
       "<Figure size 432x288 with 2 Axes>"
      ]
     },
     "metadata": {
      "needs_background": "light"
     },
     "output_type": "display_data"
    }
   ],
   "source": [
    "# 绘图\n",
    "fig = plt.figure()\n",
    "ax = fig.add_subplot(111)\n",
    "\n",
    "lin1 = ax.bar(area_sales18.index.tolist(),area_sales18.values.tolist())\n",
    "\n",
    "ax.set_ylabel(\"2018销售额\")\n",
    "ax.set_xlabel(\"地区\")\n",
    "plt.xticks(growth_rate.index)\n",
    "\n",
    "ax2 = ax.twinx()\n",
    "lin2 = ax2.plot(growth_rate.index,growth_rate.values,color='red',marker='o')\n",
    "ax2.set_ylabel('增长率')\n",
    "\n",
    "# 绘制\n",
    "ax.grid()\n",
    "\n",
    "plt.show()"
   ]
  },
  {
   "cell_type": "code",
   "execution_count": null,
   "metadata": {},
   "outputs": [],
   "source": []
  }
 ],
 "metadata": {
  "kernelspec": {
   "display_name": "Python 3",
   "language": "python",
   "name": "python3"
  },
  "language_info": {
   "codemirror_mode": {
    "name": "ipython",
    "version": 3
   },
   "file_extension": ".py",
   "mimetype": "text/x-python",
   "name": "python",
   "nbconvert_exporter": "python",
   "pygments_lexer": "ipython3",
   "version": "3.7.3"
  },
  "toc": {
   "base_numbering": 1,
   "nav_menu": {},
   "number_sections": true,
   "sideBar": true,
   "skip_h1_title": false,
   "title_cell": "Table of Contents",
   "title_sidebar": "Contents",
   "toc_cell": false,
   "toc_position": {},
   "toc_section_display": true,
   "toc_window_display": false
  }
 },
 "nbformat": 4,
 "nbformat_minor": 2
}
