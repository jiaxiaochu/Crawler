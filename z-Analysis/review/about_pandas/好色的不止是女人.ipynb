{
 "cells": [
  {
   "cell_type": "markdown",
   "metadata": {},
   "source": [
    "## 题目：好色的不止是女人\n",
    "\n",
    "    文件路径：`../data/lipsticks.xlsx`\n",
    "\n",
    "## 题目要求：\n",
    "\n",
    "本次练习采用的是网易考拉海淘网口红一天的销售数据。每条数据都包含了品牌、折扣价、原价、是否自营、评论数、国家共6列信息。\n",
    "\n",
    "1. 统计每种口红的平均折扣价。\n",
    "2. 分别统计每种口红自营评论数总和和非自营的评论数总和。"
   ]
  },
  {
   "cell_type": "code",
   "execution_count": 2,
   "metadata": {},
   "outputs": [
    {
     "name": "stdout",
     "output_type": "stream",
     "text": [
      "                  品牌    折扣价   原价 是否自营   评论数  国家\n",
      "0  ESTĒE LAUDER 雅诗兰黛  109.0  400   自营   165  美国\n",
      "1             MAC 魅可   89.0  280   自营    67  美国\n",
      "2             MAC 魅可   89.0  280   自营    60  美国\n",
      "3  ESTĒE LAUDER 雅诗兰黛  129.0  400   自营  2037  美国\n",
      "4  MARIE DALGAR 玛丽黛佳   99.0  300  非自营   888  中国\n"
     ]
    }
   ],
   "source": [
    "import pandas as pd\n",
    "df = pd.read_excel('../data/lipsticks.xlsx')\n",
    "print(df.head())"
   ]
  },
  {
   "cell_type": "code",
   "execution_count": 3,
   "metadata": {
    "collapsed": true
   },
   "outputs": [
    {
     "name": "stdout",
     "output_type": "stream",
     "text": [
      "BareMinerals的平均折扣价为158.12698412698413\n",
      "CHANEL 香奈儿的平均折扣价为270.42105263157896\n",
      "Dior 迪奥的平均折扣价为276.54545454545456\n",
      "ESTĒE LAUDER 雅诗兰黛的平均折扣价为247.6\n",
      "GIORGIO ARMANI 乔治·阿玛尼的平均折扣价为298.72727272727275\n",
      "GIVENCHY 纪梵希的平均折扣价为271.94594594594594\n",
      "GUERLAIN 娇兰的平均折扣价为228.92592592592592\n",
      "KIKO MILANO的平均折扣价为68.75\n",
      "L'ORÉAL 欧莱雅的平均折扣价为107.04347826086956\n",
      "LANCÔME 兰蔻的平均折扣价为324.75\n",
      "MAC 魅可的平均折扣价为128.41666666666666\n",
      "MARIE DALGAR 玛丽黛佳的平均折扣价为92.83333333333333\n",
      "MENTHOLATUM 曼秀雷敦的平均折扣价为47.0\n",
      "Mamonde 梦妆的平均折扣价为69.0\n",
      "Manuka Bee 小蜜坊的平均折扣价为55.65833333333333\n",
      "Maybelline 美宝莲的平均折扣价为90.84615384615384\n",
      "SAINT LAURENT PARIS 圣罗兰的平均折扣价为267.1617647058824\n",
      "SHISEIDO 资生堂的平均折扣价为207.0\n",
      "TOM FORD 汤姆·福特的平均折扣价为354.51851851851853\n",
      "wet n wild的平均折扣价为65.0\n"
     ]
    }
   ],
   "source": [
    "# 1. 统计每种口红的平均折扣价。\n",
    "# 根据品牌进行分类\n",
    "groups = df.groupby('品牌')\n",
    "for group_name,group_df in groups:\n",
    "    mean = group_df['折扣价'].mean()\n",
    "    str_mean = '{}的平均折扣价为{}'.format(group_name,mean)\n",
    "    print(str_mean)\n"
   ]
  },
  {
   "cell_type": "code",
   "execution_count": 4,
   "metadata": {
    "collapsed": true
   },
   "outputs": [
    {
     "name": "stdout",
     "output_type": "stream",
     "text": [
      "BareMinerals自营的评论数为140\n",
      "BareMinerals非自营的评论数为0\n",
      "CHANEL 香奈儿自营的评论数为4999\n",
      "Dior 迪奥自营的评论数为89329\n",
      "Dior 迪奥非自营的评论数为12\n",
      "ESTĒE LAUDER 雅诗兰黛自营的评论数为6761\n",
      "GIORGIO ARMANI 乔治·阿玛尼自营的评论数为4961\n",
      "GIORGIO ARMANI 乔治·阿玛尼非自营的评论数为1\n",
      "GIVENCHY 纪梵希自营的评论数为15302\n",
      "GUERLAIN 娇兰自营的评论数为3277\n",
      "GUERLAIN 娇兰非自营的评论数为34\n",
      "KIKO MILANO自营的评论数为7083\n",
      "L'ORÉAL 欧莱雅自营的评论数为720\n",
      "L'ORÉAL 欧莱雅非自营的评论数为7141\n",
      "LANCÔME 兰蔻自营的评论数为7045\n",
      "MAC 魅可自营的评论数为30597\n",
      "MARIE DALGAR 玛丽黛佳非自营的评论数为2855\n",
      "MENTHOLATUM 曼秀雷敦非自营的评论数为1873\n",
      "Mamonde 梦妆自营的评论数为326\n",
      "Mamonde 梦妆非自营的评论数为60\n",
      "Manuka Bee 小蜜坊自营的评论数为553\n",
      "Manuka Bee 小蜜坊非自营的评论数为851\n",
      "Maybelline 美宝莲自营的评论数为582\n",
      "Maybelline 美宝莲非自营的评论数为2547\n",
      "SAINT LAURENT PARIS 圣罗兰自营的评论数为23698\n",
      "SAINT LAURENT PARIS 圣罗兰非自营的评论数为32\n",
      "SHISEIDO 资生堂自营的评论数为34486\n",
      "SHISEIDO 资生堂非自营的评论数为11\n",
      "TOM FORD 汤姆·福特自营的评论数为7200\n",
      "wet n wild自营的评论数为1416\n",
      "wet n wild非自营的评论数为655\n"
     ]
    }
   ],
   "source": [
    "# 2. 分别统计每种口红自营评论数总和和非自营的评论数总和\n",
    "# 根据品牌列和是否自营列进行分组\n",
    "groups = df.groupby(['品牌','是否自营'])\n",
    "for group_name,group_df in groups:\n",
    "    group_sum = group_df['评论数'].sum()\n",
    "    str_sum = '{}{}的评论数为{}'.format(group_name[0],group_name[1],group_sum)\n",
    "    print(str_sum)"
   ]
  },
  {
   "cell_type": "code",
   "execution_count": null,
   "metadata": {},
   "outputs": [],
   "source": []
  }
 ],
 "metadata": {
  "kernelspec": {
   "display_name": "Python 3",
   "language": "python",
   "name": "python3"
  },
  "language_info": {
   "codemirror_mode": {
    "name": "ipython",
    "version": 3
   },
   "file_extension": ".py",
   "mimetype": "text/x-python",
   "name": "python",
   "nbconvert_exporter": "python",
   "pygments_lexer": "ipython3",
   "version": "3.7.3"
  }
 },
 "nbformat": 4,
 "nbformat_minor": 2
}
