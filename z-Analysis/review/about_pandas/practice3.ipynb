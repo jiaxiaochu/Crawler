{
 "cells": [
  {
   "cell_type": "code",
   "execution_count": null,
   "metadata": {},
   "outputs": [],
   "source": [
    "从数据集中选取5个球员，组成自己的球队。\n",
    "1. 球员信息存储在csv中，路径为/data/course_data/data_analysis/players.csv\n",
    "2. 打印前5条了解数据的基本信息；\n",
    "3. 随机获取5条数据。"
   ]
  },
  {
   "cell_type": "code",
   "execution_count": 9,
   "metadata": {},
   "outputs": [],
   "source": [
    "path = '../data/players.csv'"
   ]
  },
  {
   "cell_type": "code",
   "execution_count": 10,
   "metadata": {
    "collapsed": true
   },
   "outputs": [
    {
     "name": "stdout",
     "output_type": "stream",
     "text": [
      "player              Ryan Kelly\n",
      "height                     211\n",
      "weight                     104\n",
      "college        Duke University\n",
      "born                      1991\n",
      "birth_city              Carmel\n",
      "birth_state           New York\n",
      "Name: 3644, dtype: object\n",
      "player           Chuckie Williams\n",
      "height                        183\n",
      "weight                         74\n",
      "college        Seattle University\n",
      "born                         1943\n",
      "birth_city       Colorado Springs\n",
      "birth_state              Colorado\n",
      "Name: 1225, dtype: object\n",
      "player                  Frank Kornet\n",
      "height                           206\n",
      "weight                           102\n",
      "college        Vanderbilt University\n",
      "born                            1967\n",
      "birth_city                 Lexington\n",
      "birth_state                 Kentucky\n",
      "Name: 2003, dtype: object\n",
      "player         D.J. Augustin\n",
      "height                   206\n",
      "weight                   106\n",
      "college                  NaN\n",
      "born                    1988\n",
      "birth_city               NaN\n",
      "birth_state              NaN\n",
      "Name: 3270, dtype: object\n",
      "player                          Bobby Jones\n",
      "height                                  206\n",
      "weight                                   95\n",
      "college        University of North Carolina\n",
      "born                                   1951\n",
      "birth_city                        Charlotte\n",
      "birth_state                  North Carolina\n",
      "Name: 1169, dtype: object\n"
     ]
    }
   ],
   "source": [
    "import pandas as pd\n",
    "import random\n",
    "# 1. 读取数据\n",
    "players = pd.read_csv(path)\n",
    "# 2. 打印前5条了解数据的基本信息\n",
    "# print(players.head())\n",
    "# 3. 随机获取5条信息\n",
    "index_list = players.index.tolist()\n",
    "for i in range(0,5):\n",
    "    value = index_list[random.randint(0,len(index_list))]\n",
    "    msg = players.iloc[value]  # 行位置索引筛选iloc[ ]\n",
    "    print(msg)"
   ]
  },
  {
   "cell_type": "code",
   "execution_count": null,
   "metadata": {},
   "outputs": [],
   "source": []
  },
  {
   "cell_type": "code",
   "execution_count": null,
   "metadata": {},
   "outputs": [],
   "source": [
    "在这个练习中，我们会读取好莱坞电影信息的csv文件，并统计出数据集中共有多少个导演。\n",
    "1. 电影信息存储在csv中，路径为/data/course_data/data_analysis/movie_data.csv 2. 获取导演名字信息并算出一共多少个导演。"
   ]
  },
  {
   "cell_type": "code",
   "execution_count": 13,
   "metadata": {
    "collapsed": true
   },
   "outputs": [
    {
     "name": "stdout",
     "output_type": "stream",
     "text": [
      "   Unnamed: 0  color      director_name  num_critic_for_reviews  duration  \\\n",
      "0           0  Color      James Cameron                   723.0     178.0   \n",
      "1           1  Color     Gore Verbinski                   302.0     169.0   \n",
      "2           2  Color         Sam Mendes                   602.0     148.0   \n",
      "3           3  Color  Christopher Nolan                   813.0     164.0   \n",
      "4           5  Color     Andrew Stanton                   462.0     132.0   \n",
      "\n",
      "   director_facebook_likes  actor_3_facebook_likes      actor_2_name  \\\n",
      "0                      0.0                   855.0  Joel David Moore   \n",
      "1                    563.0                  1000.0     Orlando Bloom   \n",
      "2                      0.0                   161.0      Rory Kinnear   \n",
      "3                  22000.0                 23000.0    Christian Bale   \n",
      "4                    475.0                   530.0   Samantha Morton   \n",
      "\n",
      "   actor_1_facebook_likes        gross  ... num_user_for_reviews language  \\\n",
      "0                  1000.0  760505847.0  ...               3054.0  English   \n",
      "1                 40000.0  309404152.0  ...               1238.0  English   \n",
      "2                 11000.0  200074175.0  ...                994.0  English   \n",
      "3                 27000.0  448130642.0  ...               2701.0  English   \n",
      "4                   640.0   73058679.0  ...                738.0  English   \n",
      "\n",
      "  country  content_rating       budget title_year  actor_2_facebook_likes  \\\n",
      "0     USA           PG-13  237000000.0     2009.0                   936.0   \n",
      "1     USA           PG-13  300000000.0     2007.0                  5000.0   \n",
      "2      UK           PG-13  245000000.0     2015.0                   393.0   \n",
      "3     USA           PG-13  250000000.0     2012.0                 23000.0   \n",
      "4     USA           PG-13  263700000.0     2012.0                   632.0   \n",
      "\n",
      "  imdb_score aspect_ratio  movie_facebook_likes  \n",
      "0        7.9         1.78                 33000  \n",
      "1        7.1         2.35                     0  \n",
      "2        6.8         2.35                 85000  \n",
      "3        8.5         2.35                164000  \n",
      "4        6.6         2.35                 24000  \n",
      "\n",
      "[5 rows x 29 columns]\n",
      "1659\n"
     ]
    }
   ],
   "source": [
    "import pandas as pd\n",
    "import random\n",
    "# 1. 读取数据\n",
    "movie = pd.read_csv('../data/movie_metadata.csv')\n",
    "# 2. 了解数据的基本信息\n",
    "print(movie.head())\n",
    "# 3. 获取导演列信息,并转成list\n",
    "directors = movie['director_name'].tolist()\n",
    "# 4. 去重后获取个数\n",
    "num = set(directors)\n",
    "print(len(num))"
   ]
  },
  {
   "cell_type": "code",
   "execution_count": null,
   "metadata": {},
   "outputs": [],
   "source": []
  }
 ],
 "metadata": {
  "kernelspec": {
   "display_name": "Python 3",
   "language": "python",
   "name": "python3"
  },
  "language_info": {
   "codemirror_mode": {
    "name": "ipython",
    "version": 3
   },
   "file_extension": ".py",
   "mimetype": "text/x-python",
   "name": "python",
   "nbconvert_exporter": "python",
   "pygments_lexer": "ipython3",
   "version": "3.7.3"
  }
 },
 "nbformat": 4,
 "nbformat_minor": 2
}
