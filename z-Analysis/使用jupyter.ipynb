{
 "cells": [
  {
   "cell_type": "code",
   "execution_count": 1,
   "metadata": {},
   "outputs": [],
   "source": [
    "import requests"
   ]
  },
  {
   "cell_type": "code",
   "execution_count": 2,
   "metadata": {},
   "outputs": [
    {
     "data": {
      "text/plain": [
       "b'<!DOCTYPE html PUBLIC \"-//W3C//DTD XHTML 1.0 Transitional//EN\" \"http://www.w3.org/TR/xhtml1/DTD/xhtml1-transitional.dtd\">\\n<html xmlns=\"http://www.w3.org/1999/xhtml\">\\n<head>\\n<meta name=\"google-site-verification\" content=\"dcJxwJj3BjHRWOqfkv5foGijNDdhCqUogRWWtNXWfEM\" />\\n<meta http-equiv=\"Content-Type\" content=\"text/html; charset=utf-8\" />\\n<!--[if IE 6]>\\n<script type=\"text/javascript\" src=\"http://static.fanfou.com/js/DD_belatedPNG_0.0.8a-min.js\"></script>\\n<script type=\"text/javascript\">\\nDD_belatedPNG.fix(\\'.pngfix\\');\\n</script>\\n<![endif]-->\\n<script language=\"javascript\">\\nwindow.hasFeature = function(x) {\\n  return !!{\"gtalk_setting\":true,\"userlink_paging\":true,\"pic_sync\":true,\"deferred_update\":true,\"friend_id\":true,\"open_access\":true,\"guide_push_randomten\":true,\"oauth2\":true,\"disable_basic_auth\":true,\"inner_repost_status\":true,\"repost_photo\":true,\"render_msg\":true,\"dm_return_parentid\":true,\"verify_platform\":true,\"upload_location\":true,\"self_serviced_api\":true,\"mss\":true,\"mss_cdn\":true,\"apple\":true,\"reply_log\":true,\"new_auth_pg\":true,\"classic_view\":true,\"user_dialog\":true}[x];\\n}\\n</script>\\n<link rel=\"shortcut icon\" href=\"http://static.fanfou.com/favicon.ico\" />\\n<link rel=\"EditURI\" type=\"application/rsd+xml\" href=\"//fanfou.com/rsd\" />\\n<link rel=\"apple-touch-icon\" href=\"http://static.fanfou.com/apple-touch-icon.png\"/>\\n<link rel=\"search\" type=\"application/opensearchdescription+xml\" href=\"http://static.fanfou.com/opensearch.xml\" title=\"\\xe9\\xa5\\xad\\xe5\\x90\\xa6\" />\\n<script type=\"text/javascript\" charset=\"utf-8\" src=\"http://static.fanfou.com/js/jquery-1.7.min.js?v=383096d6\"></script><link rel=\"stylesheet\" href=\"http://static.fanfou.com/css/base.css?v=4c576a8b\" type=\"text/css\"  media=\"screen\"  charset=\"utf-8\" />\\n<title>\\xe8\\xbf\\xb7\\xe4\\xbd\\xa0\\xe5\\x8d\\x9a\\xe5\\xae\\xa2|\\xe5\\xbf\\x83\\xe6\\x83\\x85\\xe6\\x97\\xa5\\xe8\\xae\\xb0|\\xe5\\xbf\\x83\\xe6\\x83\\x85\\xe9\\x9a\\x8f\\xe7\\xac\\x94|\\xe7\\x81\\xb5\\xe6\\x84\\x9f\\xe8\\xae\\xb0\\xe5\\xbd\\x95|\\xe5\\x8d\\xb3\\xe6\\x97\\xb6\\xe6\\x96\\xb0\\xe9\\x97\\xbb - \\xe9\\xa5\\xad\\xe5\\x90\\xa6</title>\\n<meta name=\"description\" content=\"\\xe9\\xa5\\xad\\xe5\\x90\\xa6\\xe6\\x98\\xaf\\xe4\\xb8\\x80\\xe4\\xb8\\xaa\\xe8\\xbf\\xb7\\xe4\\xbd\\xa0\\xe5\\x8d\\x9a\\xe5\\xae\\xa2\\xef\\xbc\\x8c\\xe5\\xbf\\x83\\xe6\\x83\\x85\\xe8\\xae\\xb0\\xe5\\xbd\\x95\\xe3\\x80\\x81\\xe5\\xbf\\x83\\xe6\\x83\\x85\\xe6\\x97\\xa5\\xe8\\xae\\xb0\\xe3\\x80\\x81\\xe5\\xbf\\x83\\xe6\\x83\\x85\\xe9\\x9a\\x8f\\xe7\\xac\\x94\\xe3\\x80\\x81\\xe7\\x81\\xb5\\xe6\\x84\\x9f\\xe8\\xae\\xb0\\xe5\\xbd\\x95\\xe3\\x80\\x81\\xe5\\x8d\\xb3\\xe6\\x97\\xb6\\xe6\\x96\\xb0\\xe9\\x97\\xbb\\xef\\xbc\\x8c\\xe9\\x9a\\x8f\\xe6\\x97\\xb6\\xe9\\x9a\\x8f\\xe5\\x9c\\xb0\\xe8\\xae\\xb0\\xe5\\xbd\\x95\\xe5\\x92\\x8c\\xe5\\x88\\x86\\xe4\\xba\\xab\\xe3\\x80\\x82\" />\\n<meta name=\"keywords\" content=\"\\xe9\\xa5\\xad\\xe5\\x90\\xa6,\\xe5\\xbf\\x83\\xe6\\x83\\x85\\xe6\\x97\\xa5\\xe8\\xae\\xb0,\\xe7\\x81\\xb5\\xe6\\x84\\x9f\\xe8\\xae\\xb0\\xe5\\xbd\\x95,\\xe8\\xbf\\xb7\\xe4\\xbd\\xa0\\xe5\\x8d\\x9a\\xe5\\xae\\xa2\" />\\n</head>\\n<body>\\n<div id=\"container\" class=\"newlook\">\\n<div id=\"header\">\\n<h1><a hidefocus=\"true\" class=\"global-header-anchor\" href=\"//fanfou.com/\"><p class=\"pngfix global-header-content logo20190802\">\\xe9\\xa6\\x96\\xe9\\xa1\\xb5</p></a></h1>\\n\\t<div id=\"navigation\" class=\"ui-roundedbox\"><div class=\"ui-roundedbox-corner ui-roundedbox-tl\"><div class=\"ui-roundedbox-corner ui-roundedbox-tr\"><div class=\"ui-roundedbox-corner ui-roundedbox-bl\"><div class=\"ui-roundedbox-corner ui-roundedbox-br\"><div class=\"ui-roundedbox-content\">\\n\\t\\t<ul>\\n\\t\\t\\t\\t\\t\\t<li><a href=\"//fanfou.com/\">\\xe9\\xa6\\x96\\xe9\\xa1\\xb5</a></li>\\n\\t\\t\\t\\t\\t\\t<li><a href=\"//fanfou.com/search\">\\xe6\\x90\\x9c\\xe7\\xb4\\xa2</a></li>\\n\\t\\t\\t<li><a href=\"//fanfou.com/login?fr=%2F\">\\xe7\\x99\\xbb\\xe5\\xbd\\x95</a></li>\\n\\t\\t\\t<li><a href=\"//fanfou.com/register\">\\xe6\\xb3\\xa8\\xe5\\x86\\x8c</a></li>\\n\\t\\t\\t\\t\\t\\t\\t\\t</ul>\\n\\t</div></div></div></div></div></div>\\n</div>\\n<table id=\"columns\">\\n\\t<tr>\\n\\t\\t<td id=\"main\">\\n\\t\\t\\t<p id=\"headline\">\\xe9\\xa5\\xad\\xe5\\x90\\xa6\\xef\\xbc\\x8c\\xe9\\x9a\\x8f\\xe6\\x97\\xb6\\xe9\\x9a\\x8f\\xe5\\x9c\\xb0\\xe8\\xae\\xb0\\xe5\\xbd\\x95\\xe4\\xb8\\x8e\\xe5\\x88\\x86\\xe4\\xba\\xab\\xef\\xbc\\x81</p>\\n\\t\\t\\t<ul id=\"slogan\">\\n\\t\\t\\t\\t<li id=\"what\"><p>\\xe8\\xbf\\xb7\\xe4\\xbd\\xa0\\xe5\\x8d\\x9a\\xe5\\xae\\xa2<br />\\xe8\\xae\\xb0\\xe5\\xbd\\x95\\xe7\\x94\\x9f\\xe6\\xb4\\xbb\\xe7\\x9a\\x84\\xe7\\x82\\xb9\\xe7\\x82\\xb9\\xe6\\xbb\\xb4\\xe6\\xbb\\xb4</p></li>\\n\\t\\t\\t\\t<li id=\"who\"><p>\\xe4\\xba\\xa4\\xe6\\xb5\\x81\\xe4\\xb8\\x8e\\xe5\\x88\\x86\\xe4\\xba\\xab<br />\\xe6\\x8b\\x89\\xe8\\xbf\\x91\\xe4\\xbd\\xa0\\xe5\\x92\\x8c\\xe6\\x9c\\x8b\\xe5\\x8f\\x8b</p></li>\\n\\t\\t\\t\\t<li id=\"how\"><p>\\xe9\\x9a\\x8f\\xe6\\x97\\xb6\\xe9\\x9a\\x8f\\xe5\\x9c\\xb0<br />\\xe6\\x94\\xaf\\xe6\\x8c\\x81 MSN/QQ \\xe4\\xb8\\x8e\\xe6\\x89\\x8b\\xe6\\x9c\\xba</p></li>\\n\\t\\t\\t</ul>\\n\\t\\t\\t<p id=\"get-started\"><a href=\"/register\">\\xe6\\xb3\\xa8\\xe5\\x86\\x8c</a></p>\\n\\t\\t\\t\\t\\t</td>\\n\\t\\t<td id=\"sidebar\">\\n\\t\\t\\t<div class=\"sect first-sect\">\\n\\t<h2>\\xe7\\x99\\xbb\\xe5\\xbd\\x95</h2>\\n\\t<form method=\"post\" action=\"/login\" id=\"login\">\\n\\t\\t<p>\\n\\t\\t\\t<label class=\"label_input\" for=\"loginname\">Email \\xe6\\x88\\x96\\xe6\\x89\\x8b\\xe6\\x9c\\xba\\xe5\\x8f\\xb7\\xef\\xbc\\x9a</label>\\n\\t\\t\\t<input tabindex=\"1\" type=\"text\" name=\"loginname\" id=\"loginname\" class=\"input_text\" value=\"\" />\\n\\t\\t</p>\\n\\t\\t<p>\\n\\t\\t\\t<label class=\"label_input\" for=\"loginpass\">\\xe9\\xa5\\xad\\xe5\\x90\\xa6\\xe5\\xaf\\x86\\xe7\\xa0\\x81\\xef\\xbc\\x9a</label>\\n\\t\\t\\t<input tabindex=\"2\" type=\"password\" name=\"loginpass\" id=\"loginpass\" class=\"input_text\" value=\"\" maxlength=\"32\" />\\n\\t\\t</p>\\n\\t\\t\\t\\t<p>\\n\\t\\t\\t<label class=\"label_check\" for=\"autologin\">\\n\\t\\t\\t\\t<input tabindex=\"10\" type=\"checkbox\" name=\"auto_login\" id=\"autologin\" class=\"input_check\" value=\"on\" />\\n\\t\\t\\t\\t\\xe4\\xb8\\x8b\\xe6\\xac\\xa1\\xe8\\x87\\xaa\\xe5\\x8a\\xa8\\xe7\\x99\\xbb\\xe5\\xbd\\x95\\n\\t\\t\\t</label>\\n\\t\\t</p>\\n\\t\\t<p class=\"act\">\\n\\t\\t\\t<a href=\"/reset\" id=\"forgot\">\\xe5\\xbf\\x98\\xe8\\xae\\xb0\\xe5\\xaf\\x86\\xe7\\xa0\\x81\\xe4\\xba\\x86\\xef\\xbc\\x9f</a>\\n\\t\\t\\t<input type=\"hidden\" name=\"action\" value=\"login\" />\\n\\t\\t   \\t<input type=\"hidden\" name=\"token\" value=\"01116717\" />\\n\\t\\t\\t<input tabindex=\"11\" type=\"submit\" class=\"formbutton\" value=\"\\xe7\\x99\\xbb\\xe5\\xbd\\x95\" />\\n\\t\\t</p>\\n\\t</form>\\n</div>\\n\\t\\t</td>\\n\\t</tr>\\n</table>\\n<div id=\"footer\" class=\"ui-roundedbox\"><div class=\"ui-roundedbox-corner ui-roundedbox-tl\"><div class=\"ui-roundedbox-corner ui-roundedbox-tr\"><div class=\"ui-roundedbox-corner ui-roundedbox-bl\"><div class=\"ui-roundedbox-corner ui-roundedbox-br\"><div class=\"ui-roundedbox-content\">\\n\\n<div class=\"police-info\">\\n    <a class=\"police\" target=\"_blank\" href=\"http://www.sznet110.gov.cn/index.jsp\"><img src=\"http://static.fanfou.com/img/j_02.jpg\" alt=\"\"/></a>\\n    <a class=\"police\" target=\"_blank\" href=\"http://www.sznet110.gov.cn/webrecord/innernet/Welcome.jsp?bano=4403301900851\"><img src=\"http://static.fanfou.com/img/sznet110gangting.gif\" alt=\"\"/></a>\\n</div>\\n\\n<a href=\"http://help.fanfou.com/about.html\" target=\"_blank\">\\xe5\\x85\\xb3\\xe4\\xba\\x8e\\xe9\\xa5\\xad\\xe5\\x90\\xa6</a> | <a href=\"http://help.fanfou.com/apps.html?fr=ft\" target=\"_blank\">\\xe6\\x9b\\xb4\\xe5\\xa4\\x9a\\xe7\\x8e\\xa9\\xe6\\xb3\\x95</a> | <a href=\"http://blog.fanfou.com\" target=\"_blank\">\\xe5\\x9b\\xa2\\xe9\\x98\\x9f\\xe5\\x8d\\x9a\\xe5\\xae\\xa2</a> | <a href=\"https://github.com/FanfouAPI/FanFouAPIDoc/wiki\" target=\"_blank\">API</a> | <a href=\"http://help.fanfou.com/faq.html\" target=\"_blank\">\\xe5\\xb8\\xae\\xe5\\x8a\\xa9</a> | <a href=\"http://help.fanfou.com/agreement.html\" target=\"_blank\">\\xe7\\x94\\xa8\\xe6\\x88\\xb7\\xe6\\x9d\\xa1\\xe6\\xac\\xbe</a> | <a href=\"http://help.fanfou.com/privacy.html\" target=\"_blank\">\\xe9\\x9a\\x90\\xe7\\xa7\\x81\\xe5\\xa3\\xb0\\xe6\\x98\\x8e</a> | <a href=\"http://www.ce.cn/\" target=\"_blank\">\\xe5\\x90\\x88\\xe4\\xbd\\x9c\\xe4\\xbc\\x99\\xe4\\xbc\\xb4</a>\\n<br/>\\n<p>&copy;<span title=\"I:0; Q:2; S:1; C:0; F:0; T:9.18; H:read06\">2007~2019</span> fanfou.com\\n<a href=\"http://www.miibeian.gov.cn\" target=\"_blank\" id=\"miibeian\">\\xe7\\xb2\\xa4ICP\\xe5\\xa4\\x8714065106\\xe5\\x8f\\xb7</a><span class=\"szinfo\">\\xe6\\xb7\\xb1\\xe5\\x9c\\xb3\\xe5\\xb8\\x82\\xe4\\xb8\\xad\\xe7\\xbb\\x8f\\xe9\\xa5\\xad\\xe5\\x90\\xa6\\xe7\\xa7\\x91\\xe6\\x8a\\x80\\xe6\\x9c\\x89\\xe9\\x99\\x90\\xe5\\x85\\xac\\xe5\\x8f\\xb8 \\xe7\\x89\\x88\\xe6\\x9d\\x83\\xe6\\x89\\x80\\xe6\\x9c\\x89</span>\\n<br>\\n</p>\\n</div>\\n</div></div></div></div></div></div>\\n</div>\\n<script type=\"text/javascript\" charset=\"utf-8\" src=\"http://static.fanfou.com/js/yui/2.6.0/build/utilities/utilities.js\"></script><script type=\"text/javascript\" charset=\"utf-8\" src=\"http://static.fanfou.com/js/fanfou.js?v=383096d6\"></script><script type=\"text/javascript\">\\nYAHOO.util.Event.onDOMReady(function(){\\n\\tvar elLoginname = YAHOO.util.Dom.get(\\'loginname\\');\\n\\tvar elLoginpass = YAHOO.util.Dom.get(\\'loginpass\\');\\n\\tif(elLoginname){\\n\\t\\tif(elLoginname.value) {\\n\\t\\t\\telLoginpass.focus();\\n\\t\\t} else {\\n\\t\\t\\telLoginname.focus();\\n\\t\\t}\\n\\t}\\n});\\n</script>\\n\\n<script type=\"text/javascript\">var FF = FF || {}; FF.gaCode = \"index.php/anon\"; FF.gaCallback = function (tracker) { tracker._setVar(\"anon\"); }</script></body>\\n</html>\\n'"
      ]
     },
     "execution_count": 2,
     "metadata": {},
     "output_type": "execute_result"
    }
   ],
   "source": [
    "result = requests.get(\"http://fanfou.com/\")\n",
    "result.content"
   ]
  }
 ],
 "metadata": {
  "kernelspec": {
   "display_name": "Python 3",
   "language": "python",
   "name": "python3"
  },
  "language_info": {
   "codemirror_mode": {
    "name": "ipython",
    "version": 3
   },
   "file_extension": ".py",
   "mimetype": "text/x-python",
   "name": "python",
   "nbconvert_exporter": "python",
   "pygments_lexer": "ipython3",
   "version": "3.7.3"
  }
 },
 "nbformat": 4,
 "nbformat_minor": 2
}
