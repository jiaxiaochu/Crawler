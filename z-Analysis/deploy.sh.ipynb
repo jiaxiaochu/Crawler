{
 "cells": [
  {
   "cell_type": "code",
   "execution_count": 2,
   "metadata": {},
   "outputs": [
    {
     "name": "stdout",
     "output_type": "stream",
     "text": [
      "Looking in indexes: https://pypi.douban.com/simple\n",
      "Requirement already satisfied: jupyter_contrib_nbextensions in /Users/jiazhixiang/workspace/AI/lib/python3.7/site-packages (0.5.1)\n",
      "Requirement already satisfied: lxml in /Users/jiazhixiang/workspace/AI/lib/python3.7/site-packages (from jupyter_contrib_nbextensions) (4.5.0)\n",
      "Requirement already satisfied: jupyter-contrib-core>=0.3.3 in /Users/jiazhixiang/workspace/AI/lib/python3.7/site-packages (from jupyter_contrib_nbextensions) (0.3.3)\n",
      "Requirement already satisfied: tornado in /Users/jiazhixiang/workspace/AI/lib/python3.7/site-packages (from jupyter_contrib_nbextensions) (6.0.3)\n",
      "Requirement already satisfied: nbconvert>=4.2 in /Users/jiazhixiang/workspace/AI/lib/python3.7/site-packages (from jupyter_contrib_nbextensions) (5.5.0)\n",
      "Requirement already satisfied: ipython-genutils in /Users/jiazhixiang/workspace/AI/lib/python3.7/site-packages (from jupyter_contrib_nbextensions) (0.2.0)\n",
      "Requirement already satisfied: jupyter-highlight-selected-word>=0.1.1 in /Users/jiazhixiang/workspace/AI/lib/python3.7/site-packages (from jupyter_contrib_nbextensions) (0.2.0)\n",
      "Requirement already satisfied: jupyter-latex-envs>=1.3.8 in /Users/jiazhixiang/workspace/AI/lib/python3.7/site-packages (from jupyter_contrib_nbextensions) (1.4.6)\n",
      "Requirement already satisfied: pyyaml in /Users/jiazhixiang/workspace/AI/lib/python3.7/site-packages (from jupyter_contrib_nbextensions) (5.3.1)\n",
      "Requirement already satisfied: jupyter-core in /Users/jiazhixiang/workspace/AI/lib/python3.7/site-packages (from jupyter_contrib_nbextensions) (4.5.0)\n",
      "Requirement already satisfied: traitlets>=4.1 in /Users/jiazhixiang/workspace/AI/lib/python3.7/site-packages (from jupyter_contrib_nbextensions) (4.3.2)\n",
      "Requirement already satisfied: notebook>=4.0 in /Users/jiazhixiang/workspace/AI/lib/python3.7/site-packages (from jupyter_contrib_nbextensions) (6.0.0)\n",
      "Requirement already satisfied: jupyter-nbextensions-configurator>=0.4.0 in /Users/jiazhixiang/workspace/AI/lib/python3.7/site-packages (from jupyter_contrib_nbextensions) (0.4.1)\n",
      "Requirement already satisfied: setuptools in /Users/jiazhixiang/workspace/AI/lib/python3.7/site-packages (from jupyter-contrib-core>=0.3.3->jupyter_contrib_nbextensions) (41.0.0)\n",
      "Requirement already satisfied: pygments in /Users/jiazhixiang/workspace/AI/lib/python3.7/site-packages (from nbconvert>=4.2->jupyter_contrib_nbextensions) (2.4.2)\n",
      "Requirement already satisfied: nbformat>=4.4 in /Users/jiazhixiang/workspace/AI/lib/python3.7/site-packages (from nbconvert>=4.2->jupyter_contrib_nbextensions) (4.4.0)\n",
      "Requirement already satisfied: mistune>=0.8.1 in /Users/jiazhixiang/workspace/AI/lib/python3.7/site-packages (from nbconvert>=4.2->jupyter_contrib_nbextensions) (0.8.4)\n",
      "Requirement already satisfied: jinja2>=2.4 in /Users/jiazhixiang/workspace/AI/lib/python3.7/site-packages (from nbconvert>=4.2->jupyter_contrib_nbextensions) (2.10.1)\n",
      "Requirement already satisfied: bleach in /Users/jiazhixiang/workspace/AI/lib/python3.7/site-packages (from nbconvert>=4.2->jupyter_contrib_nbextensions) (3.1.0)\n",
      "Requirement already satisfied: pandocfilters>=1.4.1 in /Users/jiazhixiang/workspace/AI/lib/python3.7/site-packages (from nbconvert>=4.2->jupyter_contrib_nbextensions) (1.4.2)\n",
      "Requirement already satisfied: testpath in /Users/jiazhixiang/workspace/AI/lib/python3.7/site-packages (from nbconvert>=4.2->jupyter_contrib_nbextensions) (0.4.2)\n",
      "Requirement already satisfied: defusedxml in /Users/jiazhixiang/workspace/AI/lib/python3.7/site-packages (from nbconvert>=4.2->jupyter_contrib_nbextensions) (0.6.0)\n",
      "Requirement already satisfied: entrypoints>=0.2.2 in /Users/jiazhixiang/workspace/AI/lib/python3.7/site-packages (from nbconvert>=4.2->jupyter_contrib_nbextensions) (0.3)\n",
      "Requirement already satisfied: ipython in /Users/jiazhixiang/workspace/AI/lib/python3.7/site-packages (from jupyter-latex-envs>=1.3.8->jupyter_contrib_nbextensions) (7.6.1)\n",
      "Requirement already satisfied: six in /Users/jiazhixiang/workspace/AI/lib/python3.7/site-packages (from traitlets>=4.1->jupyter_contrib_nbextensions) (1.12.0)\n",
      "Requirement already satisfied: decorator in /Users/jiazhixiang/workspace/AI/lib/python3.7/site-packages (from traitlets>=4.1->jupyter_contrib_nbextensions) (4.4.0)\n",
      "Requirement already satisfied: terminado>=0.8.1 in /Users/jiazhixiang/workspace/AI/lib/python3.7/site-packages (from notebook>=4.0->jupyter_contrib_nbextensions) (0.8.2)\n",
      "Requirement already satisfied: pyzmq>=17 in /Users/jiazhixiang/workspace/AI/lib/python3.7/site-packages (from notebook>=4.0->jupyter_contrib_nbextensions) (18.0.2)\n",
      "Requirement already satisfied: jupyter-client>=5.3.1 in /Users/jiazhixiang/workspace/AI/lib/python3.7/site-packages (from notebook>=4.0->jupyter_contrib_nbextensions) (5.3.1)\n",
      "Requirement already satisfied: prometheus-client in /Users/jiazhixiang/workspace/AI/lib/python3.7/site-packages (from notebook>=4.0->jupyter_contrib_nbextensions) (0.7.1)\n",
      "Requirement already satisfied: Send2Trash in /Users/jiazhixiang/workspace/AI/lib/python3.7/site-packages (from notebook>=4.0->jupyter_contrib_nbextensions) (1.5.0)\n",
      "Requirement already satisfied: ipykernel in /Users/jiazhixiang/workspace/AI/lib/python3.7/site-packages (from notebook>=4.0->jupyter_contrib_nbextensions) (5.1.1)\n",
      "Requirement already satisfied: jsonschema!=2.5.0,>=2.4 in /Users/jiazhixiang/workspace/AI/lib/python3.7/site-packages (from nbformat>=4.4->nbconvert>=4.2->jupyter_contrib_nbextensions) (3.0.1)\n",
      "Requirement already satisfied: MarkupSafe>=0.23 in /Users/jiazhixiang/workspace/AI/lib/python3.7/site-packages (from jinja2>=2.4->nbconvert>=4.2->jupyter_contrib_nbextensions) (1.1.1)\n",
      "Requirement already satisfied: webencodings in /Users/jiazhixiang/workspace/AI/lib/python3.7/site-packages (from bleach->nbconvert>=4.2->jupyter_contrib_nbextensions) (0.5.1)\n",
      "Requirement already satisfied: jedi>=0.10 in /Users/jiazhixiang/workspace/AI/lib/python3.7/site-packages (from ipython->jupyter-latex-envs>=1.3.8->jupyter_contrib_nbextensions) (0.14.1)\n",
      "Requirement already satisfied: backcall in /Users/jiazhixiang/workspace/AI/lib/python3.7/site-packages (from ipython->jupyter-latex-envs>=1.3.8->jupyter_contrib_nbextensions) (0.1.0)\n",
      "Requirement already satisfied: appnope; sys_platform == \"darwin\" in /Users/jiazhixiang/workspace/AI/lib/python3.7/site-packages (from ipython->jupyter-latex-envs>=1.3.8->jupyter_contrib_nbextensions) (0.1.0)\n",
      "Requirement already satisfied: pexpect; sys_platform != \"win32\" in /Users/jiazhixiang/workspace/AI/lib/python3.7/site-packages (from ipython->jupyter-latex-envs>=1.3.8->jupyter_contrib_nbextensions) (4.7.0)\n",
      "Requirement already satisfied: prompt-toolkit<2.1.0,>=2.0.0 in /Users/jiazhixiang/workspace/AI/lib/python3.7/site-packages (from ipython->jupyter-latex-envs>=1.3.8->jupyter_contrib_nbextensions) (2.0.9)\n",
      "Requirement already satisfied: pickleshare in /Users/jiazhixiang/workspace/AI/lib/python3.7/site-packages (from ipython->jupyter-latex-envs>=1.3.8->jupyter_contrib_nbextensions) (0.7.5)\n",
      "Requirement already satisfied: ptyprocess; os_name != \"nt\" in /Users/jiazhixiang/workspace/AI/lib/python3.7/site-packages (from terminado>=0.8.1->notebook>=4.0->jupyter_contrib_nbextensions) (0.6.0)\n",
      "Requirement already satisfied: python-dateutil>=2.1 in /Users/jiazhixiang/workspace/AI/lib/python3.7/site-packages (from jupyter-client>=5.3.1->notebook>=4.0->jupyter_contrib_nbextensions) (2.8.0)\n",
      "Requirement already satisfied: pyrsistent>=0.14.0 in /Users/jiazhixiang/workspace/AI/lib/python3.7/site-packages (from jsonschema!=2.5.0,>=2.4->nbformat>=4.4->nbconvert>=4.2->jupyter_contrib_nbextensions) (0.15.3)\n",
      "Requirement already satisfied: attrs>=17.4.0 in /Users/jiazhixiang/workspace/AI/lib/python3.7/site-packages (from jsonschema!=2.5.0,>=2.4->nbformat>=4.4->nbconvert>=4.2->jupyter_contrib_nbextensions) (19.1.0)\n",
      "Requirement already satisfied: parso>=0.5.0 in /Users/jiazhixiang/workspace/AI/lib/python3.7/site-packages (from jedi>=0.10->ipython->jupyter-latex-envs>=1.3.8->jupyter_contrib_nbextensions) (0.5.1)\n",
      "Requirement already satisfied: wcwidth in /Users/jiazhixiang/workspace/AI/lib/python3.7/site-packages (from prompt-toolkit<2.1.0,>=2.0.0->ipython->jupyter-latex-envs>=1.3.8->jupyter_contrib_nbextensions) (0.1.7)\n"
     ]
    },
    {
     "name": "stdout",
     "output_type": "stream",
     "text": [
      "Note: you may need to restart the kernel to use updated packages.\n"
     ]
    }
   ],
   "source": [
    "pip install jupyter_contrib_nbextensions -i https://pypi.douban.com/simple"
   ]
  },
  {
   "cell_type": "code",
   "execution_count": null,
   "metadata": {},
   "outputs": [],
   "source": []
  }
 ],
 "metadata": {
  "kernelspec": {
   "display_name": "Python 3",
   "language": "python",
   "name": "python3"
  },
  "language_info": {
   "codemirror_mode": {
    "name": "ipython",
    "version": 3
   },
   "file_extension": ".py",
   "mimetype": "text/x-python",
   "name": "python",
   "nbconvert_exporter": "python",
   "pygments_lexer": "ipython3",
   "version": "3.7.3"
  }
 },
 "nbformat": 4,
 "nbformat_minor": 2
}
