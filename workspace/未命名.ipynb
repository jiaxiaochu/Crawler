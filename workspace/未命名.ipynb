{
 "cells": [
  {
   "cell_type": "code",
   "execution_count": 3,
   "metadata": {},
   "outputs": [],
   "source": [
    "import requests\n",
    "\n",
    "from bs4 import BeautifulSoup"
   ]
  },
  {
   "cell_type": "code",
   "execution_count": 15,
   "metadata": {},
   "outputs": [],
   "source": [
    "html_doc = \"\"\" \n",
    "<html>\n",
    "<head><title>The Dormouse's story</title></head> \n",
    "    <p class=\"title\"><b>The Dormouse's story</b></p> \n",
    "    <p class=\"story\">Once upon a time there were three little sisters; and their names were \n",
    "        <a href=\"http://example1.com/elsie\" class=\"sister\" id=\"link1\">Elsie</a>, \n",
    "        <a href=\"http://example2.com/lacie\" class=\"sister\" id=\"link2\">Lacie</a> and\n",
    "        <a href=\"http://example3.com/tillie\" class=\"sister\" id=\"link3\">Tillie</a>; and they lived at the bottom of a well.\n",
    "    </p> \n",
    "    <p class=\"story\">...</p> \n",
    "</html>\"\"\""
   ]
  },
  {
   "cell_type": "code",
   "execution_count": 16,
   "metadata": {},
   "outputs": [
    {
     "name": "stdout",
     "output_type": "stream",
     "text": [
      "\n",
      "<html>\n",
      "<head><title>The Dormouse's story</title></head>\n",
      "<p class=\"title\"><b>The Dormouse's story</b></p>\n",
      "<p class=\"story\">Once upon a time there were three little sisters; and their names were \n",
      "        <a class=\"sister\" href=\"http://example1.com/elsie\" id=\"link1\">Elsie</a>, \n",
      "        <a class=\"sister\" href=\"http://example2.com/lacie\" id=\"link2\">Lacie</a> and\n",
      "        <a class=\"sister\" href=\"http://example3.com/tillie\" id=\"link3\">Tillie</a>; and they lived at the bottom of a well.\n",
      "    </p>\n",
      "<p class=\"story\">...</p>\n",
      "</html>\n"
     ]
    }
   ],
   "source": [
    "soup = BeautifulSoup(html_doc,'html.parser')\n",
    "print(soup)"
   ]
  },
  {
   "cell_type": "code",
   "execution_count": 17,
   "metadata": {},
   "outputs": [
    {
     "name": "stdout",
     "output_type": "stream",
     "text": [
      "<generator object PageElement.next_siblings at 0x11082d8d0>\n"
     ]
    }
   ],
   "source": [
    "print(soup.a.next_siblings)"
   ]
  },
  {
   "cell_type": "code",
   "execution_count": 18,
   "metadata": {},
   "outputs": [
    {
     "name": "stdout",
     "output_type": "stream",
     "text": [
      ", \n",
      "        \n",
      "<a class=\"sister\" href=\"http://example2.com/lacie\" id=\"link2\">Lacie</a>\n",
      " and\n",
      "        \n",
      "<a class=\"sister\" href=\"http://example3.com/tillie\" id=\"link3\">Tillie</a>\n",
      "; and they lived at the bottom of a well.\n",
      "    \n"
     ]
    }
   ],
   "source": [
    "for sibling in soup.a.next_siblings:\n",
    "    print(sibling)"
   ]
  },
  {
   "cell_type": "code",
   "execution_count": 19,
   "metadata": {},
   "outputs": [
    {
     "name": "stdout",
     "output_type": "stream",
     "text": [
      "', \\n        '\n",
      "<a class=\"sister\" href=\"http://example2.com/lacie\" id=\"link2\">Lacie</a>\n",
      "' and\\n        '\n",
      "<a class=\"sister\" href=\"http://example3.com/tillie\" id=\"link3\">Tillie</a>\n",
      "'; and they lived at the bottom of a well.\\n    '\n"
     ]
    }
   ],
   "source": [
    "for sibling in soup.a.next_siblings:\n",
    "    print(repr(sibling))"
   ]
  },
  {
   "cell_type": "code",
   "execution_count": 22,
   "metadata": {},
   "outputs": [
    {
     "name": "stdout",
     "output_type": "stream",
     "text": [
      " and\n",
      "        \n",
      "<a class=\"sister\" href=\"http://example2.com/lacie\" id=\"link2\">Lacie</a>\n",
      ", \n",
      "        \n",
      "<a class=\"sister\" href=\"http://example1.com/elsie\" id=\"link1\">Elsie</a>\n",
      "Once upon a time there were three little sisters; and their names were \n",
      "        \n"
     ]
    }
   ],
   "source": [
    "for sibling in soup.find(id=\"link3\").previous_siblings:    # 当前节点的兄弟节点\n",
    "    print(sibling)\n",
    "#     print(repr(sibling))"
   ]
  },
  {
   "cell_type": "code",
   "execution_count": 23,
   "metadata": {},
   "outputs": [
    {
     "name": "stdout",
     "output_type": "stream",
     "text": [
      "'Once upon a time there were three little sisters; and their names were \\n        '\n"
     ]
    }
   ],
   "source": [
    "for sibling in soup.a.previous_siblings:\n",
    "#     print(sibling)\n",
    "    print(repr(sibling))"
   ]
  },
  {
   "cell_type": "code",
   "execution_count": null,
   "metadata": {},
   "outputs": [],
   "source": []
  }
 ],
 "metadata": {
  "kernelspec": {
   "display_name": "Python 3",
   "language": "python",
   "name": "python3"
  },
  "language_info": {
   "codemirror_mode": {
    "name": "ipython",
    "version": 3
   },
   "file_extension": ".py",
   "mimetype": "text/x-python",
   "name": "python",
   "nbconvert_exporter": "python",
   "pygments_lexer": "ipython3",
   "version": "3.7.7"
  }
 },
 "nbformat": 4,
 "nbformat_minor": 4
}
